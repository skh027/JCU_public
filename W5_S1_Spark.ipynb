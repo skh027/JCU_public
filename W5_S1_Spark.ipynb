{
  "nbformat": 4,
  "nbformat_minor": 0,
  "metadata": {
    "kernelspec": {
      "display_name": "Python 3",
      "language": "python",
      "name": "python3"
    },
    "language_info": {
      "codemirror_mode": {
        "name": "ipython",
        "version": 3
      },
      "file_extension": ".py",
      "mimetype": "text/x-python",
      "name": "python",
      "nbconvert_exporter": "python",
      "pygments_lexer": "ipython3",
      "version": "3.7.3"
    },
    "colab": {
      "provenance": [],
      "include_colab_link": true
    }
  },
  "cells": [
    {
      "cell_type": "markdown",
      "metadata": {
        "id": "view-in-github",
        "colab_type": "text"
      },
      "source": [
        "<a href=\"https://colab.research.google.com/github/skh027/JCU_public/blob/main/W5_S1_Spark.ipynb\" target=\"_parent\"><img src=\"https://colab.research.google.com/assets/colab-badge.svg\" alt=\"Open In Colab\"/></a>"
      ]
    },
    {
      "cell_type": "markdown",
      "metadata": {
        "id": "4lr5TvYt-aom"
      },
      "source": [
        "## Big Data Everyday\n",
        "More than 550 million tweets, 105 billion emails, 85 million WhatsApp messages are sent – all in a single day! 4.2 Petabytes of data are generated only on Facebook in 24 hours!! -- How do we process it and build machine learning models from it?"
      ]
    },
    {
      "cell_type": "markdown",
      "metadata": {
        "id": "sWD3g_ut-aoq"
      },
      "source": [
        "## What is Spark?\n",
        "Apache Spark is an open-source, distributed cluster computing framework that is used for fast processing, querying and analyzing Big Data.\n",
        "\n",
        "- most effective data processing framework in enterprises today\n",
        "- the cost of Spark is high as it requires a lot of RAM for in-memory computation (yet favourite in DS and BigData communities)\n",
        "- 100 times faster than Map Reduce frameworks like Hadoop\n",
        "- multi-language engine for executing data engineering, data science, and machine learning on single-node machines or clusters\n",
        "- processing of data in batches and real-time streaming, using languages like: Python, SQL, Scala, Java or R\n",
        "- execute fast, distributed ANSI SQL queries for dashboarding and ad-hoc reporting\n",
        "- perform EDA on petabyte-scale data without having to resort to downsampling\n",
        "- use the same machine learning algorithms and code to scale to fault-tolerant clusters of thousands of machines"
      ]
    },
    {
      "cell_type": "markdown",
      "metadata": {
        "id": "oG6xxbko-aor"
      },
      "source": [
        "## Spark Applications\n",
        "\n",
        "A Spark application is an instance of the Spark Context (SC). It consists of a driver process and a set of executor processes.\n",
        "\n",
        "- The driver process: It is responsible for maintaining information about the Spark Application, responding to the code, distributing, and scheduling work across the executors. it's the heart of a Spark Application and maintains all relevant information during the lifetime of the application.\n",
        "\n",
        "- The executors: They are responsible for actually executing the work that the driver assigns them. Each executor is responsible for only two things:\n",
        "    - Executing code assigned to it by the driver\n",
        "    - Reporting the state of the computation back to the driver node\n",
        "    \n",
        "- Spark Session: The driver process makes itself available to the user as an object called the Spark Session. The Spark Session instance is the way Spark executes user-defined manipulations across the cluster.\n"
      ]
    },
    {
      "cell_type": "markdown",
      "metadata": {
        "id": "MZthfnSO-aos"
      },
      "source": [
        "## Partitions in Spark\n",
        "Partitioning means that the complete data is not present in a single place. It is divided into multiple chunks and these chunks are placed on different nodes to process.\n",
        "\n",
        "If we have one partition, Spark will only have a parallelism of one, even if we have thousands of executors. Also, if we have many partitions but only one executor, Spark will still only have a parallelism of one because there is only one computation resource.\n",
        "\n",
        "In Spark, the lower level APIs allow us to define the number of partitions."
      ]
    },
    {
      "cell_type": "markdown",
      "metadata": {
        "id": "mLhv0yVP8-ce"
      },
      "source": [
        "## How to run Spark on Google Colab?"
      ]
    },
    {
      "cell_type": "code",
      "source": [
        "!pwd  # SKH"
      ],
      "metadata": {
        "colab": {
          "base_uri": "https://localhost:8080/"
        },
        "id": "zow1TuEOwc3V",
        "outputId": "2d628e07-0983-46ec-97d6-430e6b45dee4"
      },
      "execution_count": 1,
      "outputs": [
        {
          "output_type": "stream",
          "name": "stdout",
          "text": [
            "/content\n"
          ]
        }
      ]
    },
    {
      "cell_type": "code",
      "source": [
        "from google.colab import drive  # SKH\n",
        "drive.mount('/content/drive')  # SKH\n",
        "DIRECTORY_NAME = '/content/drive/My Drive/Data Science/'  # SKH"
      ],
      "metadata": {
        "colab": {
          "base_uri": "https://localhost:8080/"
        },
        "id": "NhtahsUYw0tW",
        "outputId": "4bf1fa23-f200-48c4-81b2-bb8403d943ab"
      },
      "execution_count": 2,
      "outputs": [
        {
          "output_type": "stream",
          "name": "stdout",
          "text": [
            "Mounted at /content/drive\n"
          ]
        }
      ]
    },
    {
      "cell_type": "code",
      "metadata": {
        "id": "Pp510Qfv-hI7",
        "colab": {
          "base_uri": "https://localhost:8080/"
        },
        "outputId": "46a21c07-ca68-4119-adb0-cc0c345c49c4"
      },
      "source": [
        "!apt-get update\n",
        "!apt-get install openjdk-8-jdk-headless -qq > /dev/null\n"
      ],
      "execution_count": 3,
      "outputs": [
        {
          "output_type": "stream",
          "name": "stdout",
          "text": [
            "\r0% [Working]\r            \rGet:1 https://cloud.r-project.org/bin/linux/ubuntu jammy-cran40/ InRelease [3,626 B]\n",
            "\r0% [Connecting to archive.ubuntu.com (185.125.190.81)] [Waiting for headers] [1 InRelease 3,626 B/3,\r0% [Connecting to archive.ubuntu.com (185.125.190.81)] [Waiting for headers] [Connected to r2u.stat.\r                                                                                                    \rGet:2 http://security.ubuntu.com/ubuntu jammy-security InRelease [129 kB]\n",
            "Get:3 https://developer.download.nvidia.com/compute/cuda/repos/ubuntu2204/x86_64  InRelease [1,581 B]\n",
            "Ign:4 https://r2u.stat.illinois.edu/ubuntu jammy InRelease\n",
            "Hit:5 http://archive.ubuntu.com/ubuntu jammy InRelease\n",
            "Get:6 https://r2u.stat.illinois.edu/ubuntu jammy Release [5,713 B]\n",
            "Get:7 https://r2u.stat.illinois.edu/ubuntu jammy Release.gpg [793 B]\n",
            "Get:8 http://archive.ubuntu.com/ubuntu jammy-updates InRelease [128 kB]\n",
            "Get:9 https://developer.download.nvidia.com/compute/cuda/repos/ubuntu2204/x86_64  Packages [920 kB]\n",
            "Hit:10 https://ppa.launchpadcontent.net/deadsnakes/ppa/ubuntu jammy InRelease\n",
            "Hit:11 https://ppa.launchpadcontent.net/graphics-drivers/ppa/ubuntu jammy InRelease\n",
            "Hit:12 https://ppa.launchpadcontent.net/ubuntugis/ppa/ubuntu jammy InRelease\n",
            "Hit:13 http://archive.ubuntu.com/ubuntu jammy-backports InRelease\n",
            "Get:14 http://security.ubuntu.com/ubuntu jammy-security/universe amd64 Packages [1,132 kB]\n",
            "Get:15 https://r2u.stat.illinois.edu/ubuntu jammy/main all Packages [8,218 kB]\n",
            "Get:16 http://security.ubuntu.com/ubuntu jammy-security/main amd64 Packages [2,119 kB]\n",
            "Get:17 http://archive.ubuntu.com/ubuntu jammy-updates/main amd64 Packages [2,396 kB]\n",
            "Get:18 http://archive.ubuntu.com/ubuntu jammy-updates/universe amd64 Packages [1,422 kB]\n",
            "Get:19 http://archive.ubuntu.com/ubuntu jammy-updates/multiverse amd64 Packages [51.8 kB]\n",
            "Fetched 16.5 MB in 4s (3,814 kB/s)\n",
            "Reading package lists... Done\n",
            "W: Skipping acquire of configured file 'main/source/Sources' as repository 'https://r2u.stat.illinois.edu/ubuntu jammy InRelease' does not seem to provide it (sources.list entry misspelt?)\n"
          ]
        }
      ]
    },
    {
      "cell_type": "code",
      "metadata": {
        "colab": {
          "base_uri": "https://localhost:8080/"
        },
        "id": "U2_KUuxf-oTt",
        "outputId": "ae594ddc-08ed-46de-a82f-b713ba7119e8"
      },
      "source": [
        "!wget https://downloads.apache.org/spark/spark-3.4.3/spark-3.4.3-bin-hadoop3.tgz  # SKH"
      ],
      "execution_count": 4,
      "outputs": [
        {
          "output_type": "stream",
          "name": "stdout",
          "text": [
            "--2024-08-07 23:34:23--  https://downloads.apache.org/spark/spark-3.4.3/spark-3.4.3-bin-hadoop3.tgz\n",
            "Resolving downloads.apache.org (downloads.apache.org)... 135.181.214.104, 88.99.208.237, 2a01:4f8:10a:39da::2, ...\n",
            "Connecting to downloads.apache.org (downloads.apache.org)|135.181.214.104|:443... connected.\n",
            "HTTP request sent, awaiting response... 200 OK\n",
            "Length: 388930980 (371M) [application/x-gzip]\n",
            "Saving to: ‘spark-3.4.3-bin-hadoop3.tgz’\n",
            "\n",
            "spark-3.4.3-bin-had 100%[===================>] 370.91M  17.1MB/s    in 37s     \n",
            "\n",
            "2024-08-07 23:35:00 (10.1 MB/s) - ‘spark-3.4.3-bin-hadoop3.tgz’ saved [388930980/388930980]\n",
            "\n"
          ]
        }
      ]
    },
    {
      "cell_type": "code",
      "metadata": {
        "id": "QamugYab-tXl"
      },
      "source": [
        "!tar -xzf spark-3.4.3-bin-hadoop3.tgz  # SKH"
      ],
      "execution_count": 5,
      "outputs": []
    },
    {
      "cell_type": "code",
      "metadata": {
        "id": "HIU8B5DmA34S"
      },
      "source": [
        "!pip install -q findspark"
      ],
      "execution_count": 6,
      "outputs": []
    },
    {
      "cell_type": "code",
      "metadata": {
        "id": "x-Sr47N3A57b"
      },
      "source": [
        "import os\n",
        "os.environ[\"JAVA_HOME\"] = \"/usr/lib/jvm/java-8-openjdk-amd64\"\n",
        "os.environ[\"SPARK_HOME\"] = \"/content/spark-3.4.3-bin-hadoop3\"  # SKH"
      ],
      "execution_count": 7,
      "outputs": []
    },
    {
      "cell_type": "code",
      "metadata": {
        "id": "M5x977rZBEaj"
      },
      "source": [
        "import findspark\n",
        "findspark.init()"
      ],
      "execution_count": 8,
      "outputs": []
    },
    {
      "cell_type": "code",
      "metadata": {
        "colab": {
          "base_uri": "https://localhost:8080/",
          "height": 35
        },
        "id": "KzHWNUUZBHQK",
        "outputId": "18f782b9-ba16-4b98-e50b-6dfc5eabf252"
      },
      "source": [
        "findspark.find()"
      ],
      "execution_count": 9,
      "outputs": [
        {
          "output_type": "execute_result",
          "data": {
            "text/plain": [
              "'/content/spark-3.4.3-bin-hadoop3'"
            ],
            "application/vnd.google.colaboratory.intrinsic+json": {
              "type": "string"
            }
          },
          "metadata": {},
          "execution_count": 9
        }
      ]
    },
    {
      "cell_type": "code",
      "metadata": {
        "id": "k_nk79PLBTk6"
      },
      "source": [
        "import findspark\n",
        "findspark.init()\n",
        "from pyspark.sql import SparkSession\n",
        "from pyspark import SparkContext, SparkConf\n",
        "\n",
        "\n",
        "conf = SparkConf().set('spark.ui.port', '4050')\n",
        "sc = SparkContext(conf=conf)\n",
        "spark = SparkSession.builder.master('local[*]').getOrCreate()"
      ],
      "execution_count": 10,
      "outputs": []
    },
    {
      "cell_type": "code",
      "metadata": {
        "colab": {
          "base_uri": "https://localhost:8080/"
        },
        "id": "DnF71bZ5Si1y",
        "outputId": "f058ce6d-3330-4bda-9c10-ec11151707ac"
      },
      "source": [
        "!wget https://bin.equinox.io/c/4VmDzA7iaHb/ngrok-stable-linux-amd64.zip\n",
        "!unzip ngrok-stable-linux-amd64.zip\n",
        "get_ipython().system_raw('./ngrok http 4050 &')"
      ],
      "execution_count": 11,
      "outputs": [
        {
          "output_type": "stream",
          "name": "stdout",
          "text": [
            "--2024-08-07 23:35:46--  https://bin.equinox.io/c/4VmDzA7iaHb/ngrok-stable-linux-amd64.zip\n",
            "Resolving bin.equinox.io (bin.equinox.io)... 54.161.241.46, 54.237.133.81, 18.205.222.128, ...\n",
            "Connecting to bin.equinox.io (bin.equinox.io)|54.161.241.46|:443... connected.\n",
            "HTTP request sent, awaiting response... 200 OK\n",
            "Length: 13921656 (13M) [application/octet-stream]\n",
            "Saving to: ‘ngrok-stable-linux-amd64.zip’\n",
            "\n",
            "ngrok-stable-linux- 100%[===================>]  13.28M  18.6MB/s    in 0.7s    \n",
            "\n",
            "2024-08-07 23:35:47 (18.6 MB/s) - ‘ngrok-stable-linux-amd64.zip’ saved [13921656/13921656]\n",
            "\n",
            "Archive:  ngrok-stable-linux-amd64.zip\n",
            "  inflating: ngrok                   \n"
          ]
        }
      ]
    },
    {
      "cell_type": "code",
      "metadata": {
        "id": "T1au0dO0PPwd"
      },
      "source": [
        "!curl -s http://localhost:4040/api/tunnels"
      ],
      "execution_count": 12,
      "outputs": []
    },
    {
      "cell_type": "code",
      "metadata": {
        "id": "q_fBvCLk-aot"
      },
      "source": [
        "# a simple example to understand how partitioning helps us to give faster results\n",
        "# we will create a list of 20 million random numbers between 10 to 1000 and will count the numbers greater than 300\n",
        "\n",
        "from random import randint\n",
        "\n",
        "# create a list of random numbers between 10 to 1000\n",
        "my_large_list = [randint(10,1000) for x in range(0,20000000)]\n"
      ],
      "execution_count": 13,
      "outputs": []
    },
    {
      "cell_type": "code",
      "source": [
        "# create one partition of the list\n",
        "my_large_list_one_partition = sc.parallelize(my_large_list,numSlices=1)\n",
        "\n",
        "# check number of partitions\n",
        "print(my_large_list_one_partition.getNumPartitions())\n",
        "\n",
        "# filter numbers greater than equal to 300\n",
        "my_large_list_one_partition = my_large_list_one_partition.filter(lambda x : (x*2)/2.5 >= 300)\n",
        "\n",
        "# to calculate the time taken to execute the following command\n",
        "%time\n",
        "\n",
        "# count the number of elements in filtered list\n",
        "print(my_large_list_one_partition.count())"
      ],
      "metadata": {
        "colab": {
          "base_uri": "https://localhost:8080/"
        },
        "id": "Maf53MHRsWJ9",
        "outputId": "67986f1b-123b-4720-e917-1c036331e712",
        "collapsed": true
      },
      "execution_count": 14,
      "outputs": [
        {
          "output_type": "stream",
          "name": "stdout",
          "text": [
            "1\n",
            "CPU times: user 4 µs, sys: 0 ns, total: 4 µs\n",
            "Wall time: 7.87 µs\n",
            "12635232\n"
          ]
        }
      ]
    },
    {
      "cell_type": "code",
      "metadata": {
        "colab": {
          "base_uri": "https://localhost:8080/"
        },
        "id": "uFFVpId--aov",
        "outputId": "6c416e89-c6be-4c71-d434-2a206eb48b95",
        "collapsed": true
      },
      "source": [
        "# filter numbers greater than equal to 300\n",
        "result = list(filter(lambda x: ((x*2)/2.5 >= 300), my_large_list))\n",
        "\n",
        "%time\n",
        "\n",
        "# count the number of elements in filtered list\n",
        "print(len(result))"
      ],
      "execution_count": 15,
      "outputs": [
        {
          "output_type": "stream",
          "name": "stdout",
          "text": [
            "CPU times: user 2 µs, sys: 0 ns, total: 2 µs\n",
            "Wall time: 5.48 µs\n",
            "12635232\n"
          ]
        }
      ]
    },
    {
      "cell_type": "code",
      "metadata": {
        "colab": {
          "base_uri": "https://localhost:8080/"
        },
        "id": "-SQmq4NeUwm5",
        "outputId": "6639f90f-3988-408f-9979-2233858cdcc9",
        "collapsed": true
      },
      "source": [
        "%time\n",
        "count = 0\n",
        "for x in my_large_list:\n",
        "  if(x*2/2.5 >=300):\n",
        "    count = count +1\n",
        "print(count)"
      ],
      "execution_count": 16,
      "outputs": [
        {
          "output_type": "stream",
          "name": "stdout",
          "text": [
            "CPU times: user 4 µs, sys: 1e+03 ns, total: 5 µs\n",
            "Wall time: 8.82 µs\n",
            "12635232\n"
          ]
        }
      ]
    },
    {
      "cell_type": "code",
      "metadata": {
        "colab": {
          "base_uri": "https://localhost:8080/"
        },
        "id": "1ZG2rQ3pCwPL",
        "outputId": "9c4a789a-d7f5-461d-ce7b-c92717672a7c",
        "collapsed": true
      },
      "source": [
        "# create five partitions of the list\n",
        "my_large_list_with_five_partition = sc.parallelize(my_large_list, numSlices=5)\n",
        "%time\n",
        "my_large_list_with_five_partition = my_large_list_with_five_partition.filter(lambda x : (x*2)/2.5 >= 300)\n",
        "\n",
        "\n",
        "\n",
        "# count the number of elements in the filtered list\n",
        "print(my_large_list_with_five_partition.count())"
      ],
      "execution_count": 17,
      "outputs": [
        {
          "output_type": "stream",
          "name": "stdout",
          "text": [
            "CPU times: user 3 µs, sys: 0 ns, total: 3 µs\n",
            "Wall time: 5.48 µs\n",
            "12635232\n"
          ]
        }
      ]
    },
    {
      "cell_type": "markdown",
      "metadata": {
        "id": "KKmvW4USIyrc"
      },
      "source": [
        "## Transformations in Spark\n",
        "Data structures are immutable in Spark. This means that they cannot be changed once created. We need to instruct Spark on how we would like to modify our data. These instructions are called transformations. There are two types of transformations in Spark:\n",
        "- Narrow Transformation: All the elements that are required to compute the results of a single partition live in the single partition of the parent RDD. For example, to filter the numbers that are less than 100, we can do this on each partition separately. The transformed new partition is dependent on only one partition to calculate the results.\n",
        "- Wide Transformation: All the elements that are required to compute the results of single partitions may live in more than one partition of the parent RDD. For example, to calculate the word count, our transformation is dependent on all the partitions to calculate the final result.\n",
        "\n"
      ]
    },
    {
      "cell_type": "markdown",
      "metadata": {
        "id": "yA-HRHvmMN6E"
      },
      "source": [
        "## Lazy Evaluation\n",
        "For example, if we have a very large data file that contains millions of rows. We need to perform analysis on that by doing some manipulations like mapping, filtering, random split or even very basic addition or subtraction. Now, for large datasets, even a basic transformation will take millions of operations to execute.\n",
        "\n",
        "It is essential to optimize these operations when working with Big Data, and Spark handles it in a very creative way. All we need to do is tell Spark what are the transformations we want to do on the dataset and Spark will maintain a series of transformations (through DAG). When we ask for the results from Spark, it will then find out the best path and perform the required transformations and give us the result."
      ]
    },
    {
      "cell_type": "code",
      "metadata": {
        "colab": {
          "base_uri": "https://localhost:8080/"
        },
        "id": "h6WQul45N8m0",
        "outputId": "1d991232-8b40-4833-ebe8-4e86593ff5d8",
        "collapsed": true
      },
      "source": [
        "# create a sample list\n",
        "my_list = [i for i in range(1,10000000)]\n",
        "\n",
        "# parallelize the data\n",
        "rdd_0 = sc.parallelize(my_list,3)\n",
        "\n",
        "rdd_0"
      ],
      "execution_count": 18,
      "outputs": [
        {
          "output_type": "execute_result",
          "data": {
            "text/plain": [
              "ParallelCollectionRDD[4] at readRDDFromFile at PythonRDD.scala:287"
            ]
          },
          "metadata": {},
          "execution_count": 18
        }
      ]
    },
    {
      "cell_type": "code",
      "metadata": {
        "colab": {
          "base_uri": "https://localhost:8080/"
        },
        "id": "KOQAzMVROg0h",
        "outputId": "365ce58a-9fc4-472d-97f4-7d6cd7b4a22c",
        "collapsed": true
      },
      "source": [
        "# add value 5.5 to each number\n",
        "rdd_1 = rdd_0.map(lambda x : x+5.5)\n",
        "\n",
        "# RDD object\n",
        "print(rdd_1)\n",
        "\n",
        "# get the RDD Lineage\n",
        "print(rdd_1.toDebugString())"
      ],
      "execution_count": 19,
      "outputs": [
        {
          "output_type": "stream",
          "name": "stdout",
          "text": [
            "PythonRDD[5] at RDD at PythonRDD.scala:53\n",
            "b'(3) PythonRDD[5] at RDD at PythonRDD.scala:53 []\\n |  ParallelCollectionRDD[4] at readRDDFromFile at PythonRDD.scala:287 []'\n"
          ]
        }
      ]
    },
    {
      "cell_type": "code",
      "metadata": {
        "colab": {
          "base_uri": "https://localhost:8080/"
        },
        "id": "_7ZtW6X8OqsK",
        "outputId": "7646f924-d5e4-40d7-b4b5-d9f7fc851a73",
        "collapsed": true
      },
      "source": [
        "# add value 25 each number\n",
        "rdd_2 = rdd_1.map(lambda x : x+20)\n",
        "\n",
        "# RDD Object\n",
        "print(rdd_2)\n",
        "\n",
        "# get the RDD Lineage\n",
        "print(rdd_2.toDebugString())"
      ],
      "execution_count": 20,
      "outputs": [
        {
          "output_type": "stream",
          "name": "stdout",
          "text": [
            "PythonRDD[6] at RDD at PythonRDD.scala:53\n",
            "b'(3) PythonRDD[6] at RDD at PythonRDD.scala:53 []\\n |  ParallelCollectionRDD[4] at readRDDFromFile at PythonRDD.scala:287 []'\n"
          ]
        }
      ]
    },
    {
      "cell_type": "code",
      "metadata": {
        "colab": {
          "base_uri": "https://localhost:8080/"
        },
        "id": "3QC0hjNKO0hB",
        "outputId": "3afd5244-3b83-4947-9269-97cfd72dc0d4"
      },
      "source": [
        "from google.colab import files\n",
        "# uploaded = files.upload()  # SKH Upload the file manually\n",
        "# file_name = list(uploaded.keys())[0]  # SKH Get the file name\n",
        "file_name = 'spark_input_text.txt'  # SKH use previous two lines instead if manually uploading\n",
        "file_name = DIRECTORY_NAME + file_name  # SKH\n",
        "my_text_file = sc.textFile(file_name, minPartitions=4)  # SKH\n",
        "\n",
        "# RDD Object\n",
        "print(my_text_file)\n",
        "\n",
        "# convert to lower case\n",
        "my_text_file = my_text_file.map(lambda x : x.lower())\n",
        "\n",
        "# Updated RDD Object\n",
        "print(my_text_file)\n",
        "\n",
        "# Get the RDD Lineage\n",
        "print(my_text_file.toDebugString())"
      ],
      "execution_count": 21,
      "outputs": [
        {
          "output_type": "stream",
          "name": "stdout",
          "text": [
            "/content/drive/My Drive/Data Science/spark_input_text.txt MapPartitionsRDD[8] at textFile at NativeMethodAccessorImpl.java:0\n",
            "PythonRDD[9] at RDD at PythonRDD.scala:53\n",
            "b'(4) PythonRDD[9] at RDD at PythonRDD.scala:53 []\\n |  /content/drive/My Drive/Data Science/spark_input_text.txt MapPartitionsRDD[8] at textFile at NativeMethodAccessorImpl.java:0 []\\n |  /content/drive/My Drive/Data Science/spark_input_text.txt HadoopRDD[7] at textFile at NativeMethodAccessorImpl.java:0 []'\n"
          ]
        }
      ]
    },
    {
      "cell_type": "code",
      "metadata": {
        "colab": {
          "base_uri": "https://localhost:8080/"
        },
        "id": "W_7sekCVQhSQ",
        "outputId": "60485b8f-9bf4-447b-965d-42e11b9cf97d"
      },
      "source": [
        "# slice the words\n",
        "my_text_file = my_text_file.map(lambda x : x[:2])\n",
        "\n",
        "# RDD Object\n",
        "print(my_text_file)\n",
        "\n",
        "# Get the RDD Lineage\n",
        "print(my_text_file.toDebugString())\n",
        "\n",
        "# Get the first element after all the transformations\n",
        "print(my_text_file.first())\n",
        "#print(my_text_file.collect())\n"
      ],
      "execution_count": 22,
      "outputs": [
        {
          "output_type": "stream",
          "name": "stdout",
          "text": [
            "PythonRDD[10] at RDD at PythonRDD.scala:53\n",
            "b'(4) PythonRDD[10] at RDD at PythonRDD.scala:53 []\\n |  /content/drive/My Drive/Data Science/spark_input_text.txt MapPartitionsRDD[8] at textFile at NativeMethodAccessorImpl.java:0 []\\n |  /content/drive/My Drive/Data Science/spark_input_text.txt HadoopRDD[7] at textFile at NativeMethodAccessorImpl.java:0 []'\n",
            "fa\n"
          ]
        }
      ]
    },
    {
      "cell_type": "code",
      "metadata": {
        "colab": {
          "base_uri": "https://localhost:8080/"
        },
        "id": "ybmwepHbSRBE",
        "outputId": "74fb20e8-4b73-43ad-9982-4e724ba04724"
      },
      "source": [
        "print(my_text_file.countApproxDistinct())"
      ],
      "execution_count": 23,
      "outputs": [
        {
          "output_type": "stream",
          "name": "stdout",
          "text": [
            "190\n"
          ]
        }
      ]
    },
    {
      "cell_type": "markdown",
      "metadata": {
        "id": "Pmfn55dCPhwl"
      },
      "source": [
        "## Data Types in Spark MLlib\n",
        "MLlib is Spark's scalable Machine Learning library. It consists of common machine learning algorithms like Regression, Classification, Dimensionality Reduction, and some utilities to perform basic statistical operations on the data.\n",
        "We will explore some of the data types that MLlib provides.\n",
        "\n",
        "### Local Vector\n",
        "MLlib supports two types of Local Vectors: dense and sparse. Sparse Vectors are used when most of the numbers are zero. To create a sparse vector, you need to provide the length of the vector – indices of non-zero values which should be strictly increasing and non-zero values."
      ]
    },
    {
      "cell_type": "code",
      "metadata": {
        "colab": {
          "base_uri": "https://localhost:8080/"
        },
        "id": "lmn7nXg-QTyz",
        "outputId": "9e3bdb68-cdbc-4254-db01-01d6912fa972"
      },
      "source": [
        "from pyspark.mllib.linalg import Vectors\n",
        "\n",
        "## Dense Vector\n",
        "print(Vectors.dense([1,2,3,4,5,6,0]))\n",
        "\n",
        "v = Vectors.dense([1.0, 2.0])\n",
        "\n",
        "u = Vectors.dense([3.0, 4.0])\n",
        "\n",
        "print(v + u)\n",
        "\n",
        "### SPARSE VECTOR\n",
        "### Vectors.sparse( length, index_of_non_zero_values, non_zero_values)\n",
        "### Indices values should be strictly increasing\n",
        "\n",
        "print(Vectors.sparse(10, [0,1,2,4,5], [1.0,5.0,3.0,5.0,7]))\n",
        "\n",
        "print(Vectors.sparse(10, [0,1,2,4,5], [1.0,5.0,3.0,5.0,7]).toArray())"
      ],
      "execution_count": 24,
      "outputs": [
        {
          "output_type": "stream",
          "name": "stdout",
          "text": [
            "[1.0,2.0,3.0,4.0,5.0,6.0,0.0]\n",
            "[4.0,6.0]\n",
            "(10,[0,1,2,4,5],[1.0,5.0,3.0,5.0,7.0])\n",
            "[1. 5. 3. 0. 5. 7. 0. 0. 0. 0.]\n"
          ]
        }
      ]
    },
    {
      "cell_type": "markdown",
      "metadata": {
        "id": "y1MBS4iGRVJX"
      },
      "source": [
        "### Labeled Point\n",
        "Labeled Point is a local vector where a label is assigned to each vector. For supervised problems where we have some target corresponding to some features."
      ]
    },
    {
      "cell_type": "code",
      "metadata": {
        "colab": {
          "base_uri": "https://localhost:8080/"
        },
        "id": "bD7IJq61RYdw",
        "outputId": "e0ffe74a-a18f-4e4c-d4f5-fc4bef6c5c99"
      },
      "source": [
        "from pyspark.mllib.regression import LabeledPoint\n",
        "\n",
        "# set a Label against a Dense Vector\n",
        "point_1 = LabeledPoint(1,Vectors.dense([1,2,3,4,5]))\n",
        "\n",
        "# Features\n",
        "print(point_1.features)\n",
        "\n",
        "# Label\n",
        "print(point_1.label)"
      ],
      "execution_count": 25,
      "outputs": [
        {
          "output_type": "stream",
          "name": "stdout",
          "text": [
            "[1.0,2.0,3.0,4.0,5.0]\n",
            "1.0\n"
          ]
        }
      ]
    },
    {
      "cell_type": "markdown",
      "metadata": {
        "id": "3KTv6xLjRdae"
      },
      "source": [
        "### Local Matrix\n",
        "Local Matrices are stored on a single machine. MLlib supports both dense and sparse matrices. In a Sparse matrix, non-zero entry values are stored in the Compressed Sparse Column (CSC) format in column-major order."
      ]
    },
    {
      "cell_type": "code",
      "metadata": {
        "colab": {
          "base_uri": "https://localhost:8080/"
        },
        "id": "-V6wv7ijRgmO",
        "outputId": "d9fb8963-c697-4913-b71f-d0cb17d7a186"
      },
      "source": [
        "# import the Matrices\n",
        "from pyspark.mllib.linalg import Matrices\n",
        "\n",
        "# create a dense matrix of 3 Rows and 2 columns\n",
        "matrix_1 = Matrices.dense(3, 3, [1,2,3,4,5,6,0,0,9])\n",
        "\n",
        "print(matrix_1)\n",
        "\n",
        "print(matrix_1.toArray())\n",
        "\n",
        "# create a sparse matrix\n",
        "matrix_2 =  matrix_1.toSparse()\n",
        "\n",
        "print(matrix_2)\n",
        "\n",
        "print(matrix_2.toArray())"
      ],
      "execution_count": 26,
      "outputs": [
        {
          "output_type": "stream",
          "name": "stdout",
          "text": [
            "DenseMatrix([[1., 4., 0.],\n",
            "             [2., 5., 0.],\n",
            "             [3., 6., 9.]])\n",
            "[[1. 4. 0.]\n",
            " [2. 5. 0.]\n",
            " [3. 6. 9.]]\n",
            "3 X 3 CSCMatrix\n",
            "(0,0) 1.0\n",
            "(1,0) 2.0\n",
            "(2,0) 3.0\n",
            "(0,1) 4.0\n",
            "(1,1) 5.0\n",
            "(2,1) 6.0\n",
            "(2,2) 9.0\n",
            "[[1. 4. 0.]\n",
            " [2. 5. 0.]\n",
            " [3. 6. 9.]]\n"
          ]
        }
      ]
    },
    {
      "cell_type": "markdown",
      "metadata": {
        "id": "S7thjKzOSFtl"
      },
      "source": [
        "### Distributed Matrix\n",
        "Distributed matrices are stored in one or more RDDs. It is very important to choose the right format of distributed matrices. Four types of distributed matrices have been implemented so far:\n",
        "\n",
        "#### Row Matrix\n",
        "- Each row is a local vector. You can store rows on multiple partitions\n",
        "- Algorithms like Random Forest can be implemented using Row Matrix as the algorithm divides the rows to create multiple trees. The result of one tree is not dependent on other trees. So, we can make use of the distributed architecture and do parallel processing for algorithms like Random Forest for Big Data"
      ]
    },
    {
      "cell_type": "code",
      "metadata": {
        "colab": {
          "base_uri": "https://localhost:8080/"
        },
        "id": "yXq2KWnhSyPC",
        "outputId": "faaf4ee8-6af7-4082-b0cf-c4e16179e4f2"
      },
      "source": [
        "# Distributed Data Type - Row Matrix\n",
        "from pyspark.mllib.linalg.distributed import RowMatrix\n",
        "\n",
        "# create RDD\n",
        "rows = sc.parallelize([[1,2,3], [4,5,6], [7,8,9], [10,11,12]])\n",
        "\n",
        "# create a distributed Row Matrix\n",
        "row_matrix = RowMatrix(rows)\n",
        "\n",
        "\n",
        "print(row_matrix)\n",
        "\n",
        "print(row_matrix.numRows())\n",
        "\n",
        "print(row_matrix.numCols())"
      ],
      "execution_count": 27,
      "outputs": [
        {
          "output_type": "stream",
          "name": "stdout",
          "text": [
            "<pyspark.mllib.linalg.distributed.RowMatrix object at 0x7831c098ece0>\n",
            "4\n",
            "3\n"
          ]
        }
      ]
    },
    {
      "cell_type": "markdown",
      "metadata": {
        "id": "pztITZReS9we"
      },
      "source": [
        "### Indexed Row Matrix\n",
        "- It is similar to the row matrix where rows are stored in multiple partitions but in an ordered manner. An index value is assigned to each row. It is used in algorithms where the order is important like Time Series data\n",
        "- It can be created from an RDD of IndexedRow"
      ]
    },
    {
      "cell_type": "code",
      "metadata": {
        "colab": {
          "base_uri": "https://localhost:8080/"
        },
        "id": "_ehVX2EkTCkX",
        "outputId": "a247151d-0bc0-43c0-a5b5-d13db89c7c11"
      },
      "source": [
        "from pyspark.mllib.linalg.distributed import IndexedRow, IndexedRowMatrix\n",
        "\n",
        "# create RDD\n",
        "indexed_rows = sc.parallelize([\n",
        "    IndexedRow(0, [0,1,2]),\n",
        "    IndexedRow(1, [1,2,3]),\n",
        "    IndexedRow(2, [3,4,5]),\n",
        "    IndexedRow(3, [4,2,3]),\n",
        "    IndexedRow(4, [2,2,5]),\n",
        "    IndexedRow(5, [4,5,5])\n",
        "])\n",
        "\n",
        "# create IndexedRowMatrix\n",
        "indexed_rows_matrix = IndexedRowMatrix(indexed_rows)\n",
        "\n",
        "print(indexed_rows_matrix.numRows())\n",
        "\n",
        "print(indexed_rows_matrix.numCols())"
      ],
      "execution_count": 28,
      "outputs": [
        {
          "output_type": "stream",
          "name": "stdout",
          "text": [
            "6\n",
            "3\n"
          ]
        }
      ]
    },
    {
      "cell_type": "markdown",
      "metadata": {
        "id": "I9w7X9D9Ucxg"
      },
      "source": [
        "### Block Matrix\n",
        "- In a Block Matrix, we can store different sub-matrices of a large matrix on different machines\n",
        "- We need to specify the block dimensions. Like in the below example, we have 3X3 and for each of the blocks, we can specify a matrix by providing the coordinates"
      ]
    },
    {
      "cell_type": "code",
      "metadata": {
        "colab": {
          "base_uri": "https://localhost:8080/"
        },
        "id": "EwOpSdiqUg0c",
        "outputId": "5522fddf-077d-40ee-81ab-067bce97ec00"
      },
      "source": [
        "# import the libraries\n",
        "from pyspark.mllib.linalg import Matrices\n",
        "from pyspark.mllib.linalg.distributed import BlockMatrix\n",
        "\n",
        "# Create an RDD of sub-matrix blocks.\n",
        "blocks = sc.parallelize([((0, 0), Matrices.dense(3, 3, [1, 2, 1, 2, 1, 2, 1, 2, 1])),\n",
        "                         ((1, 1), Matrices.dense(3, 3, [3, 4, 5, 3, 4, 5, 3, 4, 5])),\n",
        "                         ((2, 0), Matrices.dense(3, 3, [1, 1, 1, 1, 1, 1, 1, 1, 1]))])\n",
        "\n",
        "# Create a BlockMatrix from an RDD of sub-matrix blocks  of size 3X3\n",
        "b_matrix = BlockMatrix(blocks, 3, 3)\n",
        "\n",
        "# columns per block\n",
        "print(b_matrix.colsPerBlock)\n",
        "\n",
        "\n",
        "# rows per block\n",
        "print(b_matrix.rowsPerBlock)\n",
        "\n",
        "\n",
        "# convert the block matrix to local matrix\n",
        "local_mat = b_matrix.toLocalMatrix()\n",
        "\n",
        "# print local matrix\n",
        "print(local_mat.toArray())"
      ],
      "execution_count": 29,
      "outputs": [
        {
          "output_type": "stream",
          "name": "stdout",
          "text": [
            "3\n",
            "3\n",
            "[[1. 2. 1. 0. 0. 0.]\n",
            " [2. 1. 2. 0. 0. 0.]\n",
            " [1. 2. 1. 0. 0. 0.]\n",
            " [0. 0. 0. 3. 3. 3.]\n",
            " [0. 0. 0. 4. 4. 4.]\n",
            " [0. 0. 0. 5. 5. 5.]\n",
            " [1. 1. 1. 0. 0. 0.]\n",
            " [1. 1. 1. 0. 0. 0.]\n",
            " [1. 1. 1. 0. 0. 0.]]\n"
          ]
        }
      ]
    },
    {
      "cell_type": "code",
      "metadata": {
        "colab": {
          "base_uri": "https://localhost:8080/"
        },
        "id": "UY1I7LtIeWSU",
        "outputId": "a9d8eb8b-8faa-4ba4-8ba2-cb9657488433"
      },
      "source": [
        "# uploaded = files.upload()  # Upload the file manually  # SKH\n",
        "# file_name = list(uploaded.keys())[0]  # Get the file name  # SKH\n",
        "file_name = '1972-Nixon.txt'  # SKH\n",
        "file_name = DIRECTORY_NAME + file_name  # SKH\n",
        "\n",
        "rdd = sc.textFile(file_name, minPartitions=6)  # SKH\n",
        "rdd.take(10)"
      ],
      "execution_count": 30,
      "outputs": [
        {
          "output_type": "execute_result",
          "data": {
            "text/plain": [
              "['Address on the State of the Union Delivered Before a Joint Session of the Congress. January 20, 1972',\n",
              " '',\n",
              " 'Mr. Speaker, Mr. President, my colleagues in the Congress, our distinguished guests, my fellow Americans:',\n",
              " '�@Twenty-five years ago I sat here as a freshman Congressman�Xalong with Speaker Albert�Xand listened for the first time to the President address the State of the Union.',\n",
              " '  I shall never forget that moment. The Senate, the diplomatic corps, the Supreme Court, the Cabinet entered the Chamber, and then the President of the United States. As all of you are aware, I had some differences with President Truman. He had some with me. But I remember that on that day�Xthe day he addressed that joint session of the newly elected Republican 80th Congress, he spoke not as a partisan, but as President of all the people�Xcalling upon the Congress to put aside partisan considerations in the national interest.',\n",
              " '  The Greek-Turkish aid program, the Marshall Plan, the great foreign policy initiatives which have been responsible for avoiding a world war for over 25 years were approved by the 80th Congress, by a bipartisan majority of which I was proud to be a part.',\n",
              " '�@Nineteen hundred seventy-two is now before us. It holds precious time in which to accomplish good for the Nation. We must not waste it. I know the political pressures in this session of the Congress will be great. There are more candidates for the Presidency in this Chamber today than there probably have been at any one time in the whole history of the Republic. And there is an honest difference of opinion, not only between the parties, but within each party, on some foreign policy issues and on some domestic policy issues.',\n",
              " '  However, there are great national problems that are so vital that they transcend partisanship. So let us have our debates. Let us have our honest differences. But let us join in keeping the national interest first. Let us join in making sure that legislation the Nation needs does not become hostage to the political interests of any party or any person.',\n",
              " '  There is ample precedent, in this election year, for me to present you with a huge list of new proposals, knowing full well that there would not be any possibility of your passing them if you worked night and day. ',\n",
              " '  I shall not do that.']"
            ]
          },
          "metadata": {},
          "execution_count": 30
        }
      ]
    },
    {
      "cell_type": "code",
      "metadata": {
        "colab": {
          "base_uri": "https://localhost:8080/"
        },
        "id": "vkaIYIfYfBlk",
        "outputId": "f25696da-7f80-4731-b4e3-af84f4ab4ee4"
      },
      "source": [
        "import nltk\n",
        "nltk.download('punkt')\n",
        "#word tokenizer\n",
        "def word_tokenize1(x):\n",
        "    lowerW = x.lower()\n",
        "    return nltk.word_tokenize(x)\n",
        "\n",
        "words = rdd.flatMap(word_tokenize1)\n",
        "#print(words.collect())\n",
        "print(len(words.collect()))\n"
      ],
      "execution_count": 31,
      "outputs": [
        {
          "output_type": "stream",
          "name": "stderr",
          "text": [
            "[nltk_data] Downloading package punkt to /root/nltk_data...\n",
            "[nltk_data]   Unzipping tokenizers/punkt.zip.\n"
          ]
        },
        {
          "output_type": "stream",
          "name": "stdout",
          "text": [
            "4472\n"
          ]
        }
      ]
    },
    {
      "cell_type": "code",
      "metadata": {
        "colab": {
          "base_uri": "https://localhost:8080/"
        },
        "id": "AIpZtF_9fqWF",
        "outputId": "c0021677-cd10-4547-9258-6e092eea5a64"
      },
      "source": [
        "import nltk\n",
        "nltk.download('stopwords')\n",
        "from nltk.corpus import stopwords\n",
        "stop_words=set(stopwords.words('english'))\n",
        "stopW = words.filter(lambda word : word not in stop_words and word != '')\n",
        "print(stopW.collect())\n",
        "print(len(stopW.collect()))\n"
      ],
      "execution_count": 32,
      "outputs": [
        {
          "output_type": "stream",
          "name": "stderr",
          "text": [
            "[nltk_data] Downloading package stopwords to /root/nltk_data...\n",
            "[nltk_data]   Unzipping corpora/stopwords.zip.\n"
          ]
        },
        {
          "output_type": "stream",
          "name": "stdout",
          "text": [
            "['Address', 'State', 'Union', 'Delivered', 'Before', 'Joint', 'Session', 'Congress', '.', 'January', '20', ',', '1972', 'Mr.', 'Speaker', ',', 'Mr.', 'President', ',', 'colleagues', 'Congress', ',', 'distinguished', 'guests', ',', 'fellow', 'Americans', ':', '�', '@', 'Twenty-five', 'years', 'ago', 'I', 'sat', 'freshman', 'Congressman�Xalong', 'Speaker', 'Albert�Xand', 'listened', 'first', 'time', 'President', 'address', 'State', 'Union', '.', 'I', 'shall', 'never', 'forget', 'moment', '.', 'The', 'Senate', ',', 'diplomatic', 'corps', ',', 'Supreme', 'Court', ',', 'Cabinet', 'entered', 'Chamber', ',', 'President', 'United', 'States', '.', 'As', 'aware', ',', 'I', 'differences', 'President', 'Truman', '.', 'He', '.', 'But', 'I', 'remember', 'day�Xthe', 'day', 'addressed', 'joint', 'session', 'newly', 'elected', 'Republican', '80th', 'Congress', ',', 'spoke', 'partisan', ',', 'President', 'people�Xcalling', 'upon', 'Congress', 'put', 'aside', 'partisan', 'considerations', 'national', 'interest', '.', 'The', 'Greek-Turkish', 'aid', 'program', ',', 'Marshall', 'Plan', ',', 'great', 'foreign', 'policy', 'initiatives', 'responsible', 'avoiding', 'world', 'war', '25', 'years', 'approved', '80th', 'Congress', ',', 'bipartisan', 'majority', 'I', 'proud', 'part', '.', '�', '@', 'Nineteen', 'hundred', 'seventy-two', 'us', '.', 'It', 'holds', 'precious', 'time', 'accomplish', 'good', 'Nation', '.', 'We', 'must', 'waste', '.', 'I', 'know', 'political', 'pressures', 'session', 'Congress', 'great', '.', 'There', 'candidates', 'Presidency', 'Chamber', 'today', 'probably', 'one', 'time', 'whole', 'history', 'Republic', '.', 'And', 'honest', 'difference', 'opinion', ',', 'parties', ',', 'within', 'party', ',', 'foreign', 'policy', 'issues', 'domestic', 'policy', 'issues', '.', 'However', ',', 'great', 'national', 'problems', 'vital', 'transcend', 'partisanship', '.', 'So', 'let', 'us', 'debates', '.', 'Let', 'us', 'honest', 'differences', '.', 'But', 'let', 'us', 'join', 'keeping', 'national', 'interest', 'first', '.', 'Let', 'us', 'join', 'making', 'sure', 'legislation', 'Nation', 'needs', 'become', 'hostage', 'political', 'interests', 'party', 'person', '.', 'There', 'ample', 'precedent', ',', 'election', 'year', ',', 'present', 'huge', 'list', 'new', 'proposals', ',', 'knowing', 'full', 'well', 'would', 'possibility', 'passing', 'worked', 'night', 'day', '.', 'I', 'shall', '.', 'I', 'presented', 'leaders', 'Congress', 'today', 'message', '15,000', 'words', 'discussing', 'detail', 'Nation', 'stands', 'setting', 'forth', 'specific', 'legislative', 'items', 'I', 'asked', 'Congress', 'act', '.', 'Much', 'legislation', 'I', 'proposed', '1969', ',', '1970', ',', 'also', 'first', 'session', '92d', 'congress', 'I', 'feel', 'essential', 'action', 'completed', 'year', '.', 'I', 'presenting', 'proposals', 'attractive', 'labels', 'hope', 'passage', '.', 'I', 'presenting', 'vital', 'programs', 'within', 'capacity', 'Congress', 'enact', ',', 'within', 'capacity', 'budget', 'finance', ',', 'I', 'believe', 'partisanship�Xprograms', 'deal', 'urgent', 'priorities', 'Nation', ',', 'must', 'subject', 'bipartisan', 'action', 'Congress', 'interests', 'country', '1972', '.', 'When', 'I', 'took', 'oath', 'office', 'steps', 'building', '3', 'years', 'ago', 'today', ',', 'Nation', 'ending', 'one', 'tortured', 'decades', 'history', '.', 'The', '1960��s', 'time', 'great', 'progress', 'many', 'areas', '.', 'But', 'know', ',', 'also', 'times', 'great', 'agony�Xthe', 'agonies', 'war', ',', 'inflation', ',', 'rapidly', 'rising', 'crime', ',', 'deteriorating', 'cities', ',', 'hopes', 'raised', 'disappointed', ',', 'anger', 'frustration', 'led', 'finally', 'violence', 'worst', 'civil', 'disorder', 'century', '.', 'I', 'recall', 'troubles', 'point', 'fingers', 'blame', '.', 'The', 'Nation', 'torn', 'final', 'years', 'sixties', 'many', 'parties', 'questioned', 'whether', 'America', 'could', 'governed', '.', 'The', 'Nation', 'made', 'significant', 'progress', 'first', 'years', 'seventies', ':', 'Our', 'colleges', 'universities', 'become', 'places', 'learning', 'instead', 'battlegrounds', '.', 'A', 'beginning', 'made', 'preserving', 'protecting', 'environment', '.', 'The', 'rate', 'increase', 'crime', 'slowed�Xand', 'District', 'Columbia', ',', 'one', 'city', 'Federal', 'Government', 'direct', 'jurisdiction', ',', 'serious', 'crime', '1971', 'actually', 'reduced', '13', 'percent', 'year', '.', 'Most', 'important', ',', 'beginnings', 'made', ',', 'say', 'today', 'year', '1972', 'year', 'America', 'may', 'make', 'greatest', 'progress', '25', 'years', 'toward', 'achieving', 'goal', 'peace', 'nations', 'world', '.', 'As', 'involvement', 'war', 'Vietnam', 'comes', 'end', ',', 'must', 'go', 'build', 'generation', 'peace', '.', 'To', 'achieve', 'goal', ',', 'must', 'first', 'face', 'realistically', 'need', 'maintain', 'defense', '.', 'In', 'past', '3', 'years', ',', 'reduced', 'burden', 'arms', '.', 'For', 'first', 'time', '20', 'years', ',', 'spending', 'defense', 'brought', 'spending', 'human', 'resources', '.', 'As', 'look', 'future', ',', 'find', 'encouraging', 'progress', 'negotiations', 'Soviet', 'Union', 'limitation', 'strategic', 'arms', '.', 'And', 'looking', 'future', ',', 'hope', 'eventually', 'agreement', 'mutual', 'reduction', 'arms', '.', 'But', 'mutual', 'agreement', ',', 'must', 'maintain', 'strength', 'necessary', 'deter', 'war', '.', 'And', ',', 'rising', 'research', 'development', 'costs', ',', 'increases', 'military', 'civilian', 'pay', ',', 'need', 'proceed', 'new', 'weapons', 'systems', ',', 'budget', 'coming', 'fiscal', 'year', 'provide', 'increase', 'defense', 'spending', '.', 'Strong', 'military', 'defenses', 'enemy', 'peace', ';', 'guardians', 'peace', '.', 'There', 'could', 'misguided', 'set', 'priorities', 'one', 'would', 'tempt', 'others', 'weakening', 'America', ',', 'thereby', 'endanger', 'peace', 'world', '.', 'In', 'foreign', 'policy', ',', 'entered', 'new', 'era', '.', 'The', 'world', 'changed', 'greatly', '11', 'years', 'since', 'President', 'John', 'Kennedy', 'said', 'Inaugural', 'Address', ',', '���Kwe', 'shall', 'pay', 'price', ',', 'bear', 'burden', ',', 'meet', 'hardship', ',', 'support', 'friend', ',', 'oppose', 'foe', 'assure', 'survival', 'success', 'liberty.��', 'Our', 'policy', 'carefully', 'deliberately', 'adjusted', 'meet', 'new', 'realities', 'new', 'world', 'live', '.', 'We', 'make', 'today', 'commitments', 'able', 'prepared', 'meet', '.', 'Our', 'commitment', 'freedom', 'remains', 'strong', 'unshakable', '.', 'But', 'others', 'must', 'bear', 'share', 'burden', 'defending', 'freedom', 'around', 'world', '.', 'And', ',', ',', 'policy', ':', '--', 'We', 'maintain', 'nuclear', 'deterrent', 'adequate', 'meet', 'threat', 'security', 'United', 'States', 'allies', '.', '--', 'We', 'help', 'nations', 'develop', 'capability', 'defending', '.', '--', 'We', 'faithfully', 'honor', 'treaty', 'commitments', '.', '--', 'We', 'act', 'defend', 'interests', ',', 'whenever', 'wherever', 'threatened', 'anyplace', 'world', '.', '--', 'But', 'interests', 'treaty', 'commitments', 'involved', ',', 'role', 'limited', '.', '--', 'We', 'intervene', 'militarily', '.', '--', 'But', 'use', 'influence', 'prevent', 'war', '.', '--', 'If', 'war', 'comes', ',', 'use', 'influence', 'stop', '.', '--', 'Once', ',', 'share', 'helping', 'bind', 'wounds', 'participated', '.', '�', '@', 'As', 'know', ',', 'I', 'soon', 'visiting', 'People��s', 'Republic', 'China', 'Soviet', 'Union', '.', 'I', 'go', 'illusions', '.', 'We', 'great', 'differences', 'powers', '.', 'We', 'shall', 'continue', 'great', 'differences', '.', 'But', 'peace', 'depends', 'ability', 'great', 'powers', 'live', 'together', 'planet', 'despite', 'differences', '.', 'We', 'would', 'true', 'obligation', 'generations', 'yet', 'unborn', 'failed', 'seize', 'moment', 'everything', 'power', 'insure', 'able', 'talk', 'differences', ',', 'rather', 'fight', ',', 'future', '.', 'As', 'look', 'back', 'century', ',', 'let', 'us', ',', 'highest', 'spirit', 'bipartisanship', ',', 'recognize', 'proud', 'Nation��s', 'record', 'foreign', 'affairs', '.', 'America', 'given', 'generously', 'toward', 'maintaining', 'freedom', ',', 'preserving', 'peace', ',', 'alleviating', 'human', 'suffering', 'around', 'globe', ',', 'nation', 'ever', 'done', 'history', 'man', '.', 'We', 'fought', 'four', 'wars', 'century', ',', 'power', 'never', 'used', 'break', 'peace', ',', 'keep', ';', 'never', 'used', 'destroy', 'freedom', ',', 'defend', ';', 'never', 'used', 'destroy', 'freedom', ',', 'defend', '.', 'We', 'within', 'reach', 'goal', 'insuring', 'next', 'generation', 'first', 'generation', 'century', 'spared', 'scourges', 'war', '.', 'Turning', 'problems', 'home', ',', 'making', 'progress', 'toward', 'goal', 'new', 'prosperity', 'without', 'war', '.', 'Industrial', 'production', ',', 'consumer', 'spending', ',', 'retail', 'sales', ',', 'personal', 'income', 'rising', '.', 'Total', 'employment', ',', 'real', 'income', 'highest', 'history', '.', 'New', 'homebuilding', 'starts', 'past', 'year', 'reached', 'highest', 'level', 'ever', '.', 'Business', 'consumer', 'confidence', 'rising', '.', 'Interest', 'rates', '.', 'The', 'rate', 'inflation', '.', 'We', 'look', 'confidence', '1972', 'year', 'back', 'inflation', 'broken', '.', 'Now', ',', 'good', 'record', ',', 'good', 'enough�Xnot', 'still', 'unemployment', 'rate', '6', 'percent', '.', 'It', 'enough', 'point', 'rate', 'early', 'peacetime', 'years', 'sixties', ',', '2', 'million', 'men', 'released', 'Armed', 'Forces', 'defense-related', 'industries', 'still', 'wartime', 'jobs', ',', 'unemployment', 'would', 'far', 'lower', '.', 'Our', 'goal', 'country', 'full', 'employment', 'peacetime', '.', 'We', 'intend', 'meet', 'goal', ',', '.', 'The', 'Congress', 'helped', 'meet', 'goal', 'passing', 'job-creating', 'tax', 'program', 'last', 'month', '.', 'The', 'historic', 'monetary', 'agreements', ',', 'agreements', 'reached', 'major', 'European', 'nations', ',', 'Canada', ',', 'Japan', ',', 'help', 'meet', 'providing', 'new', 'markets', 'American', 'products', ',', 'new', 'jobs', 'American', 'workers', '.', 'Our', 'budget', 'help', 'meet', 'expansionary', 'without', 'inflationary�Xa', 'job-producing', 'budget', 'help', 'take', 'gap', 'economy', 'expands', 'full', 'employment', '.', 'Our', 'program', 'raise', 'farm', 'income', 'help', 'meet', 'helping', 'revitalize', 'rural', 'America', ',', 'giving', 'America��s', 'farmers', 'fair', 'share', 'America��s', 'increasing', 'productivity', '.', 'We', 'also', 'help', 'meet', 'goal', 'full', 'employment', 'peacetime', 'set', 'major', 'initiatives', 'stimulate', 'imaginative', 'use', 'America��s', 'great', 'capacity', 'technological', 'advance', ',', 'direct', 'toward', 'improving', 'quality', 'life', 'every', 'American', '.', 'In', 'reaching', 'moon', ',', 'demonstrated', 'miracles', 'American', 'technology', 'capable', 'achieving', '.', 'Now', 'time', 'come', 'move', 'deliberately', 'toward', 'making', 'full', 'use', 'technology', 'earth', ',', 'harnessing', 'wonders', 'science', 'service', 'man', '.', 'I', 'shall', 'soon', 'send', 'Congress', 'special', 'message', 'proposing', 'new', 'program', 'Federal', 'partnership', 'technological', 'research', 'developments�Xwith', 'Federal', 'incentives', 'increase', 'private', 'research', ',', 'federally', 'supported', 'research', 'projects', 'designed', 'improve', 'everyday', 'lives', 'ways', 'range', 'improving', 'mass', 'transit', 'developing', 'new', 'systems', 'emergency', 'health', 'care', 'could', 'save', 'thousands', 'lives', 'annually', '.', '�', '@', 'Historically', ',', 'superior', 'technology', 'high', 'productivity', 'made', 'possible', 'American', 'workers', 'highest', 'paid', 'world', 'far', ',', 'yet', 'goods', 'still', 'compete', 'world', 'markets', '.', 'Now', 'face', 'new', 'situation', '.', 'As', 'nations', 'move', 'rapidly', 'forward', 'technology', ',', 'answer', 'new', 'competition', 'build', 'wall', 'around', 'America', ',', 'rather', 'remain', 'competitive', 'improving', 'technology', 'still', 'increasing', 'productivity', 'American', 'industry', '.', 'Our', 'new', 'monetary', 'trade', 'agreements', 'make', 'possible', 'American', 'goods', 'compete', 'fairly', 'world��s', 'markets�Xbut', 'still', 'must', 'compete', '.', 'The', 'new', 'technology', 'program', 'put', 'use', 'skills', 'many', 'highly', 'trained', 'Americans', ',', 'skills', 'might', 'otherwise', 'wasted', '.', 'It', 'also', 'meet', 'growing', 'technological', 'challenge', 'abroad', ',', 'thus', 'help', 'create', 'new', 'industries', ',', 'well', 'creating', 'jobs', 'America��s', 'workers', 'producing', 'world��s', 'markets', '.', 'This', 'second', 'session', '92d', 'congress', 'already', '90', 'major', 'Administration', 'proposals', 'still', 'await', 'action', '.', 'I', 'discussed', 'extensive', 'written', 'message', 'I', 'presented', 'Congress', 'today', '.', 'They', 'include', ',', 'among', 'others', ',', 'programs', 'improve', 'life', 'aging', ';', 'combat', 'crime', 'drug', 'abuse', ';', 'improve', 'health', 'services', 'ensure', 'one', 'denied', 'needed', 'health', 'care', 'inability', 'pay', ';', 'protect', 'workers��', 'pension', 'rights', ';', 'promote', 'equal', 'opportunity', 'members', 'minorities', ',', 'others', 'left', 'behind', ';', 'expand', 'consumer', 'protection', ';', 'improve', 'environment', ';', 'revitalize', 'rural', 'America', ';', 'help', 'cities', ';', 'launch', 'new', 'initiatives', 'education', ';', 'improve', 'transportation', ',', 'put', 'end', 'costly', 'labor', 'tie-ups', 'transportation', '.', 'The', 'west', 'coast', 'dock', 'strike', 'case', 'point', '.', 'This', 'Nation', 'tolerate', 'kind', 'irresponsible', 'labor', 'tie-up', 'future', '.', 'The', 'messages', 'also', 'include', 'basic', 'reforms', 'essential', 'structure', 'government', 'adequate', 'decades', 'ahead', '.', 'They', 'include', 'reform', 'wasteful', 'outmoded', 'welfare', 'system�Xsubstitution', 'new', 'system', 'provides', 'work', 'requirements', 'work', 'incentives', 'help', ',', 'income', 'support', 'help', ',', 'fairness', 'working', 'poor', '.', 'They', 'include', '$', '17', 'billion', 'program', 'Federal', 'revenue', 'sharing', 'States', 'localities', 'investment', 'renewal', ',', 'investment', 'also', 'faith', 'American', 'people', '.', 'They', 'also', 'include', 'sweeping', 'reorganization', 'executive', 'branch', 'Federal', 'Government', 'efficient', ',', 'responsive', ',', 'able', 'meet', 'challenges', 'decades', 'ahead', '.', 'One', 'year', 'ago', ',', 'standing', 'place', ',', 'I', 'laid', 'opening', 'session', 'Congress', 'six', 'great', 'goals', '.', 'One', 'welfare', 'reform', '.', 'That', 'proposal', 'Congress', 'nearly', '2', '1/2', 'years', '.', 'My', 'proposals', 'revenue', 'sharing', ',', 'government', 'reorganization', ',', 'health', 'care', ',', 'environment', 'Congress', 'nearly', 'year', '.', 'Many', 'major', 'proposals', 'I', 'referred', 'long', 'longer', '.', 'Now', ',', '1971', ',', 'say', ',', 'year', 'consideration', 'measures', '.', 'Now', 'let', 'us', 'join', 'making', '1972', 'year', 'action', ',', 'action', 'Congress', ',', 'Nation', 'people', 'America', '.', 'Now', ',', 'addition', ',', 'one', 'pressing', 'need', 'I', 'previously', 'covered', ',', 'must', 'placed', 'national', 'agenda', '.', 'We', 'long', 'looked', 'Nation', 'local', 'property', 'tax', 'main', 'source', 'financing', 'public', 'primary', 'secondary', 'education', '.', 'As', 'result', ',', 'soaring', 'school', 'costs', ',', 'soaring', 'property', 'tax', 'rates', 'threaten', 'communities', 'schools', '.', 'They', 'threaten', 'communities', 'property', 'taxes', ',', 'doubled', '10', 'years', '1960', '70', ',', 'become', 'one', 'oppressive', 'discriminatory', 'taxes', ',', 'hitting', 'cruelly', 'elderly', 'retired', ';', 'threaten', 'schools', ',', 'hard-pressed', 'voters', 'understandably', 'reject', 'new', 'bond', 'issues', 'polls', '.', 'The', 'problem', 'given', 'even', 'greater', 'urgency', 'four', 'recent', 'court', 'decisions', ',', 'held', 'conventional', 'method', 'financing', 'schools', 'local', 'property', 'taxes', 'discriminatory', 'unconstitutional', '.', 'Nearly', '2', 'years', 'ago', ',', 'I', 'named', 'special', 'Presidential', 'commission', 'study', 'problems', 'school', 'finance', ',', 'I', 'also', 'directed', 'Federal', 'departments', 'look', 'problems', '.', 'We', 'developing', 'comprehensive', 'proposals', 'meet', 'problems', '.', 'This', 'issue', 'involves', 'two', 'complex', 'interrelated', 'sets', 'problems', ':', 'support', 'schools', 'basic', 'relationships', 'Federal', ',', 'State', ',', 'local', 'governments', 'tax', 'reforms', '.', 'Under', 'leadership', 'Secretary', 'Treasury', ',', 'carefully', 'reviewing', 'tax', 'aspects', ',', 'I', 'week', 'enlisted', 'Advisory', 'Commission', 'Intergovernmental', 'Relations', 'addressing', 'intergovernmental', 'relations', 'aspects', '.', 'I', 'asked', 'bipartisan', 'Commission', 'review', 'proposals', 'Federal', 'action', 'cope', 'gathering', 'crisis', 'school', 'finance', 'property', 'taxes', '.', 'Later', 'year', ',', 'Commissions', 'completed', 'studies', ',', 'I', 'shall', 'make', 'final', 'recommendations', 'relieving', 'burden', 'property', 'taxes', 'providing', 'fair', 'adequate', 'financing', 'children��s', 'education', '.', 'These', 'recommendations', 'revolutionary', '.', 'But', 'recommendations', ',', 'however', ',', 'rooted', 'one', 'fundamental', 'principle', 'compromise', ':', 'Local', 'school', 'boards', 'must', 'control', 'local', 'schools', '.', 'As', 'look', 'ahead', 'coming', 'decades', ',', 'vast', 'new', 'growth', 'change', 'certainties', ',', 'dominant', 'reality', 'world', ',', 'particularly', 'life', 'America', '.', 'Surveying', 'certainty', 'rapid', 'change', ',', 'like', 'fallen', 'rider', 'caught', 'stirrups�Xor', 'sit', 'high', 'saddle', ',', 'masters', 'change', ',', 'directing', 'course', 'choose', '.', 'The', 'secret', 'mastering', 'change', 'today��s', 'world', 'reach', 'back', 'old', 'proven', 'principles', ',', 'adapt', 'imagination', 'intelligence', 'new', 'realities', 'new', 'age', '.', 'That', 'done', 'proposals', 'I', 'laid', 'Congress', '.', 'They', 'rooted', 'basic', 'principles', 'enduring', 'human', 'nature', ',', 'robust', 'American', 'experience', ';', 'responsive', 'new', 'conditions', '.', 'Thus', 'represent', 'spirit', 'change', 'truly', 'renewal', '.', 'As', 'look', 'back', 'old', 'principles', ',', 'find', 'timely', 'timeless', '.', 'We', 'believe', 'independence', ',', 'self-reliance', ',', 'creative', 'value', 'competitive', 'spirit', '.', 'We', 'believe', 'full', 'equal', 'opportunity', 'Americans', 'protection', 'individual', 'rights', 'liberties', '.', 'We', 'believe', 'family', 'keystone', 'community', ',', 'community', 'keystone', 'Nation', '.', 'We', 'believe', 'compassion', 'toward', 'need', '.', 'We', 'believe', 'system', 'law', ',', 'justice', ',', 'order', 'basis', 'genuinely', 'free', 'society', '.', 'We', 'believe', 'person', 'get', 'works', 'for�Xand', ',', 'work', 'for�Xand', ',', 'work', 'get', '.', 'We', 'believe', 'capacity', 'people', 'make', 'decisions', 'lives', ',', 'communities�Xand', 'believe', 'right', 'make', 'decisions', '.', 'In', 'applying', 'principles', ',', 'done', 'full', 'understanding', 'seek', 'seventies', ',', 'quest', ',', 'merely', ',', 'better�Xfor', 'better', 'quality', 'life', 'Americans', '.', 'Thus', ',', 'example', ',', 'giving', 'new', 'measure', 'attention', 'cleaning', 'air', 'water', ',', 'making', 'surroundings', 'attractive', '.', 'We', 'providing', 'broader', 'support', 'arts', ',', 'helping', 'stimulate', 'deeper', 'appreciation', 'contribute', 'Nation��s', 'activities', 'individual', 'lives', '.', 'But', 'nothing', 'really', 'matters', 'quality', 'lives', 'way', 'treat', 'one', 'another', ',', 'capacity', 'live', 'respectfully', 'together', 'unified', 'society', ',', 'full', ',', 'generous', 'regard', 'rights', 'others', 'also', 'feelings', 'others', '.', 'As', 'recover', 'turmoil', 'violence', 'recent', 'years', ',', 'learn', 'speak', 'one', 'another', 'instead', 'shouting', 'one', 'another', ',', 'regaining', 'capacity', '.', 'As', 'customary', ',', 'occasion', ',', 'I', 'talking', 'programs', '.', 'Programs', 'important', '.', 'But', 'even', 'important', 'programs', 'Nation�Xwhat', 'mean', 'Nation', ',', 'world', '.', 'In', 'New', 'York', 'Harbor', 'stands', 'one', 'famous', 'statues', 'world�Xthe', 'Statue', 'Liberty', ',', 'gift', '1886', 'people', 'France', 'people', 'United', 'States', '.', 'This', 'statue', 'landmark', ';', 'symbol�Xa', 'symbol', 'America', 'meant', 'world', '.', 'It', 'reminds', 'us', 'America', 'meant', 'wealth', ',', 'power', ',', 'spirit', 'purpose�Xa', 'land', 'enshrines', 'liberty', 'opportunity', ',', 'held', 'hand', 'welcome', 'millions', 'search', 'better', 'fuller', ',', ',', 'freer', 'life', '.', 'The', 'world��s', 'hopes', 'poured', 'America', ',', 'along', 'people', '.', 'And', 'hopes', ',', 'dreams', ',', 'brought', 'every', 'corner', 'world', ',', 'become', 'part', 'hope', 'hold', 'world', '.', 'Four', 'years', ',', 'America', 'celebrate', '200th', 'anniversary', 'founding', 'Nation', '.', 'There', 'say', 'old', 'Spirit', '��76', 'dead�Xthat', 'longer', 'strength', 'character', ',', 'idealism', ',', 'faith', 'founding', 'purposes', 'spirit', 'represents', '.', 'Those', 'say', 'know', 'America', '.', 'We', 'undergoing', 'self-doubts', 'self-criticism', '.', 'But', 'side', 'growing', 'sensitivity', 'persistence', 'want', 'midst', 'plenty', ',', 'impatience', 'slowness', 'age-old', 'ills', 'overcome', '.', 'If', 'indifferent', 'shortcomings', 'society', ',', 'complacent', 'institutions', ',', 'blind', 'lingering', 'inequities�Xthen', 'would', 'lost', 'way', '.', 'But', 'fact', 'concerns', 'evidence', 'ideals', ',', 'deep', ',', 'still', 'strong', '.', 'Indeed', ',', 'remind', 'us', 'really', 'best', 'America', 'compassion', '.', 'They', 'remind', 'us', 'final', 'analysis', ',', 'America', 'great', 'rich', ',', 'good', 'country', '.', 'Let', 'us', 'reject', 'narrow', 'visions', 'would', 'tell', 'us', 'evil', 'yet', 'perfect', ',', 'corrupt', 'yet', 'pure', ',', 'sweat', 'trial', 'sacrifice', 'gone', 'building', 'America', 'naught', 'building', 'yet', 'done', '.', 'Let', 'us', 'see', 'path', 'traveling', 'wide', ',', 'room', 'us', ',', 'direction', 'toward', 'better', 'Nation', 'peaceful', 'world', '.', 'Never', 'mattered', 'go', 'forward', 'together', '.', 'Look', 'Chamber', '.', 'The', 'leadership', 'America', 'today�Xthe', 'Supreme', 'Court', ',', 'Cabinet', ',', 'Senate', ',', 'House', 'Representatives', '.', 'Together', ',', 'hold', 'future', 'Nation', ',', 'conscience', 'Nation', 'hands', '.', 'Because', 'year', 'election', 'year', ',', 'time', 'great', 'pressure', '.', 'If', 'yield', 'pressure', 'fail', 'deal', 'seriously', 'historic', 'challenges', 'face', ',', 'failed', 'trust', 'millions', 'Americans', 'shaken', 'confidence', 'right', 'place', 'us', ',', 'Government', '.', 'Never', 'Congress', 'greater', 'opportunity', 'leave', 'legacy', 'profound', 'constructive', 'reform', 'Nation', 'Congress', '.', 'If', 'succeed', 'tasks', ',', 'credit', 'enough', 'all�Xnot', 'right', ',', 'right', 'way', ',', 'rising', 'partisan', 'interest', 'serve', 'national', 'interest', '.', 'And', 'fail', ',', 'one', 'us', ',', 'America', 'loser', '.', 'That', 'call', 'upon', 'Congress', 'today', 'high', 'statesmanship', ',', 'years', 'come', 'Americans', 'look', 'back', 'say', 'withstood', 'intense', 'pressures', 'political', 'year', ',', 'achieved', 'great', 'good', 'American', 'people', 'future', 'Nation', ',', 'truly', 'great', 'Congress', '.', 'NOTE', ':', 'The', 'President', 'spoke', '12:34', 'p.m.', 'House', 'Chamber', 'Capitol', ',', 'introduced', 'Carl', 'Albert', ',', 'Speaker', 'House', 'Representatives', '.', 'The', 'address', 'broadcast', 'live', 'radio', 'television', '.', 'The', 'President', 'spoke', 'prepared', 'text', '.', 'An', 'advance', 'text', 'address', 'released', 'day', '.']\n",
            "2563\n"
          ]
        }
      ]
    },
    {
      "cell_type": "code",
      "metadata": {
        "colab": {
          "base_uri": "https://localhost:8080/"
        },
        "id": "M_xYSYg-gwya",
        "outputId": "e692fccd-7c7d-45d7-e3df-06944ea25c64"
      },
      "source": [
        "import string\n",
        "list_punct=list(string.punctuation)\n",
        "filtered_data = stopW.filter(lambda punct : punct not in list_punct)\n",
        "print(filtered_data.collect())"
      ],
      "execution_count": 33,
      "outputs": [
        {
          "output_type": "stream",
          "name": "stdout",
          "text": [
            "['Address', 'State', 'Union', 'Delivered', 'Before', 'Joint', 'Session', 'Congress', 'January', '20', '1972', 'Mr.', 'Speaker', 'Mr.', 'President', 'colleagues', 'Congress', 'distinguished', 'guests', 'fellow', 'Americans', '�', 'Twenty-five', 'years', 'ago', 'I', 'sat', 'freshman', 'Congressman�Xalong', 'Speaker', 'Albert�Xand', 'listened', 'first', 'time', 'President', 'address', 'State', 'Union', 'I', 'shall', 'never', 'forget', 'moment', 'The', 'Senate', 'diplomatic', 'corps', 'Supreme', 'Court', 'Cabinet', 'entered', 'Chamber', 'President', 'United', 'States', 'As', 'aware', 'I', 'differences', 'President', 'Truman', 'He', 'But', 'I', 'remember', 'day�Xthe', 'day', 'addressed', 'joint', 'session', 'newly', 'elected', 'Republican', '80th', 'Congress', 'spoke', 'partisan', 'President', 'people�Xcalling', 'upon', 'Congress', 'put', 'aside', 'partisan', 'considerations', 'national', 'interest', 'The', 'Greek-Turkish', 'aid', 'program', 'Marshall', 'Plan', 'great', 'foreign', 'policy', 'initiatives', 'responsible', 'avoiding', 'world', 'war', '25', 'years', 'approved', '80th', 'Congress', 'bipartisan', 'majority', 'I', 'proud', 'part', '�', 'Nineteen', 'hundred', 'seventy-two', 'us', 'It', 'holds', 'precious', 'time', 'accomplish', 'good', 'Nation', 'We', 'must', 'waste', 'I', 'know', 'political', 'pressures', 'session', 'Congress', 'great', 'There', 'candidates', 'Presidency', 'Chamber', 'today', 'probably', 'one', 'time', 'whole', 'history', 'Republic', 'And', 'honest', 'difference', 'opinion', 'parties', 'within', 'party', 'foreign', 'policy', 'issues', 'domestic', 'policy', 'issues', 'However', 'great', 'national', 'problems', 'vital', 'transcend', 'partisanship', 'So', 'let', 'us', 'debates', 'Let', 'us', 'honest', 'differences', 'But', 'let', 'us', 'join', 'keeping', 'national', 'interest', 'first', 'Let', 'us', 'join', 'making', 'sure', 'legislation', 'Nation', 'needs', 'become', 'hostage', 'political', 'interests', 'party', 'person', 'There', 'ample', 'precedent', 'election', 'year', 'present', 'huge', 'list', 'new', 'proposals', 'knowing', 'full', 'well', 'would', 'possibility', 'passing', 'worked', 'night', 'day', 'I', 'shall', 'I', 'presented', 'leaders', 'Congress', 'today', 'message', '15,000', 'words', 'discussing', 'detail', 'Nation', 'stands', 'setting', 'forth', 'specific', 'legislative', 'items', 'I', 'asked', 'Congress', 'act', 'Much', 'legislation', 'I', 'proposed', '1969', '1970', 'also', 'first', 'session', '92d', 'congress', 'I', 'feel', 'essential', 'action', 'completed', 'year', 'I', 'presenting', 'proposals', 'attractive', 'labels', 'hope', 'passage', 'I', 'presenting', 'vital', 'programs', 'within', 'capacity', 'Congress', 'enact', 'within', 'capacity', 'budget', 'finance', 'I', 'believe', 'partisanship�Xprograms', 'deal', 'urgent', 'priorities', 'Nation', 'must', 'subject', 'bipartisan', 'action', 'Congress', 'interests', 'country', '1972', 'When', 'I', 'took', 'oath', 'office', 'steps', 'building', '3', 'years', 'ago', 'today', 'Nation', 'ending', 'one', 'tortured', 'decades', 'history', 'The', '1960��s', 'time', 'great', 'progress', 'many', 'areas', 'But', 'know', 'also', 'times', 'great', 'agony�Xthe', 'agonies', 'war', 'inflation', 'rapidly', 'rising', 'crime', 'deteriorating', 'cities', 'hopes', 'raised', 'disappointed', 'anger', 'frustration', 'led', 'finally', 'violence', 'worst', 'civil', 'disorder', 'century', 'I', 'recall', 'troubles', 'point', 'fingers', 'blame', 'The', 'Nation', 'torn', 'final', 'years', 'sixties', 'many', 'parties', 'questioned', 'whether', 'America', 'could', 'governed', 'The', 'Nation', 'made', 'significant', 'progress', 'first', 'years', 'seventies', 'Our', 'colleges', 'universities', 'become', 'places', 'learning', 'instead', 'battlegrounds', 'A', 'beginning', 'made', 'preserving', 'protecting', 'environment', 'The', 'rate', 'increase', 'crime', 'slowed�Xand', 'District', 'Columbia', 'one', 'city', 'Federal', 'Government', 'direct', 'jurisdiction', 'serious', 'crime', '1971', 'actually', 'reduced', '13', 'percent', 'year', 'Most', 'important', 'beginnings', 'made', 'say', 'today', 'year', '1972', 'year', 'America', 'may', 'make', 'greatest', 'progress', '25', 'years', 'toward', 'achieving', 'goal', 'peace', 'nations', 'world', 'As', 'involvement', 'war', 'Vietnam', 'comes', 'end', 'must', 'go', 'build', 'generation', 'peace', 'To', 'achieve', 'goal', 'must', 'first', 'face', 'realistically', 'need', 'maintain', 'defense', 'In', 'past', '3', 'years', 'reduced', 'burden', 'arms', 'For', 'first', 'time', '20', 'years', 'spending', 'defense', 'brought', 'spending', 'human', 'resources', 'As', 'look', 'future', 'find', 'encouraging', 'progress', 'negotiations', 'Soviet', 'Union', 'limitation', 'strategic', 'arms', 'And', 'looking', 'future', 'hope', 'eventually', 'agreement', 'mutual', 'reduction', 'arms', 'But', 'mutual', 'agreement', 'must', 'maintain', 'strength', 'necessary', 'deter', 'war', 'And', 'rising', 'research', 'development', 'costs', 'increases', 'military', 'civilian', 'pay', 'need', 'proceed', 'new', 'weapons', 'systems', 'budget', 'coming', 'fiscal', 'year', 'provide', 'increase', 'defense', 'spending', 'Strong', 'military', 'defenses', 'enemy', 'peace', 'guardians', 'peace', 'There', 'could', 'misguided', 'set', 'priorities', 'one', 'would', 'tempt', 'others', 'weakening', 'America', 'thereby', 'endanger', 'peace', 'world', 'In', 'foreign', 'policy', 'entered', 'new', 'era', 'The', 'world', 'changed', 'greatly', '11', 'years', 'since', 'President', 'John', 'Kennedy', 'said', 'Inaugural', 'Address', '���Kwe', 'shall', 'pay', 'price', 'bear', 'burden', 'meet', 'hardship', 'support', 'friend', 'oppose', 'foe', 'assure', 'survival', 'success', 'liberty.��', 'Our', 'policy', 'carefully', 'deliberately', 'adjusted', 'meet', 'new', 'realities', 'new', 'world', 'live', 'We', 'make', 'today', 'commitments', 'able', 'prepared', 'meet', 'Our', 'commitment', 'freedom', 'remains', 'strong', 'unshakable', 'But', 'others', 'must', 'bear', 'share', 'burden', 'defending', 'freedom', 'around', 'world', 'And', 'policy', '--', 'We', 'maintain', 'nuclear', 'deterrent', 'adequate', 'meet', 'threat', 'security', 'United', 'States', 'allies', '--', 'We', 'help', 'nations', 'develop', 'capability', 'defending', '--', 'We', 'faithfully', 'honor', 'treaty', 'commitments', '--', 'We', 'act', 'defend', 'interests', 'whenever', 'wherever', 'threatened', 'anyplace', 'world', '--', 'But', 'interests', 'treaty', 'commitments', 'involved', 'role', 'limited', '--', 'We', 'intervene', 'militarily', '--', 'But', 'use', 'influence', 'prevent', 'war', '--', 'If', 'war', 'comes', 'use', 'influence', 'stop', '--', 'Once', 'share', 'helping', 'bind', 'wounds', 'participated', '�', 'As', 'know', 'I', 'soon', 'visiting', 'People��s', 'Republic', 'China', 'Soviet', 'Union', 'I', 'go', 'illusions', 'We', 'great', 'differences', 'powers', 'We', 'shall', 'continue', 'great', 'differences', 'But', 'peace', 'depends', 'ability', 'great', 'powers', 'live', 'together', 'planet', 'despite', 'differences', 'We', 'would', 'true', 'obligation', 'generations', 'yet', 'unborn', 'failed', 'seize', 'moment', 'everything', 'power', 'insure', 'able', 'talk', 'differences', 'rather', 'fight', 'future', 'As', 'look', 'back', 'century', 'let', 'us', 'highest', 'spirit', 'bipartisanship', 'recognize', 'proud', 'Nation��s', 'record', 'foreign', 'affairs', 'America', 'given', 'generously', 'toward', 'maintaining', 'freedom', 'preserving', 'peace', 'alleviating', 'human', 'suffering', 'around', 'globe', 'nation', 'ever', 'done', 'history', 'man', 'We', 'fought', 'four', 'wars', 'century', 'power', 'never', 'used', 'break', 'peace', 'keep', 'never', 'used', 'destroy', 'freedom', 'defend', 'never', 'used', 'destroy', 'freedom', 'defend', 'We', 'within', 'reach', 'goal', 'insuring', 'next', 'generation', 'first', 'generation', 'century', 'spared', 'scourges', 'war', 'Turning', 'problems', 'home', 'making', 'progress', 'toward', 'goal', 'new', 'prosperity', 'without', 'war', 'Industrial', 'production', 'consumer', 'spending', 'retail', 'sales', 'personal', 'income', 'rising', 'Total', 'employment', 'real', 'income', 'highest', 'history', 'New', 'homebuilding', 'starts', 'past', 'year', 'reached', 'highest', 'level', 'ever', 'Business', 'consumer', 'confidence', 'rising', 'Interest', 'rates', 'The', 'rate', 'inflation', 'We', 'look', 'confidence', '1972', 'year', 'back', 'inflation', 'broken', 'Now', 'good', 'record', 'good', 'enough�Xnot', 'still', 'unemployment', 'rate', '6', 'percent', 'It', 'enough', 'point', 'rate', 'early', 'peacetime', 'years', 'sixties', '2', 'million', 'men', 'released', 'Armed', 'Forces', 'defense-related', 'industries', 'still', 'wartime', 'jobs', 'unemployment', 'would', 'far', 'lower', 'Our', 'goal', 'country', 'full', 'employment', 'peacetime', 'We', 'intend', 'meet', 'goal', 'The', 'Congress', 'helped', 'meet', 'goal', 'passing', 'job-creating', 'tax', 'program', 'last', 'month', 'The', 'historic', 'monetary', 'agreements', 'agreements', 'reached', 'major', 'European', 'nations', 'Canada', 'Japan', 'help', 'meet', 'providing', 'new', 'markets', 'American', 'products', 'new', 'jobs', 'American', 'workers', 'Our', 'budget', 'help', 'meet', 'expansionary', 'without', 'inflationary�Xa', 'job-producing', 'budget', 'help', 'take', 'gap', 'economy', 'expands', 'full', 'employment', 'Our', 'program', 'raise', 'farm', 'income', 'help', 'meet', 'helping', 'revitalize', 'rural', 'America', 'giving', 'America��s', 'farmers', 'fair', 'share', 'America��s', 'increasing', 'productivity', 'We', 'also', 'help', 'meet', 'goal', 'full', 'employment', 'peacetime', 'set', 'major', 'initiatives', 'stimulate', 'imaginative', 'use', 'America��s', 'great', 'capacity', 'technological', 'advance', 'direct', 'toward', 'improving', 'quality', 'life', 'every', 'American', 'In', 'reaching', 'moon', 'demonstrated', 'miracles', 'American', 'technology', 'capable', 'achieving', 'Now', 'time', 'come', 'move', 'deliberately', 'toward', 'making', 'full', 'use', 'technology', 'earth', 'harnessing', 'wonders', 'science', 'service', 'man', 'I', 'shall', 'soon', 'send', 'Congress', 'special', 'message', 'proposing', 'new', 'program', 'Federal', 'partnership', 'technological', 'research', 'developments�Xwith', 'Federal', 'incentives', 'increase', 'private', 'research', 'federally', 'supported', 'research', 'projects', 'designed', 'improve', 'everyday', 'lives', 'ways', 'range', 'improving', 'mass', 'transit', 'developing', 'new', 'systems', 'emergency', 'health', 'care', 'could', 'save', 'thousands', 'lives', 'annually', '�', 'Historically', 'superior', 'technology', 'high', 'productivity', 'made', 'possible', 'American', 'workers', 'highest', 'paid', 'world', 'far', 'yet', 'goods', 'still', 'compete', 'world', 'markets', 'Now', 'face', 'new', 'situation', 'As', 'nations', 'move', 'rapidly', 'forward', 'technology', 'answer', 'new', 'competition', 'build', 'wall', 'around', 'America', 'rather', 'remain', 'competitive', 'improving', 'technology', 'still', 'increasing', 'productivity', 'American', 'industry', 'Our', 'new', 'monetary', 'trade', 'agreements', 'make', 'possible', 'American', 'goods', 'compete', 'fairly', 'world��s', 'markets�Xbut', 'still', 'must', 'compete', 'The', 'new', 'technology', 'program', 'put', 'use', 'skills', 'many', 'highly', 'trained', 'Americans', 'skills', 'might', 'otherwise', 'wasted', 'It', 'also', 'meet', 'growing', 'technological', 'challenge', 'abroad', 'thus', 'help', 'create', 'new', 'industries', 'well', 'creating', 'jobs', 'America��s', 'workers', 'producing', 'world��s', 'markets', 'This', 'second', 'session', '92d', 'congress', 'already', '90', 'major', 'Administration', 'proposals', 'still', 'await', 'action', 'I', 'discussed', 'extensive', 'written', 'message', 'I', 'presented', 'Congress', 'today', 'They', 'include', 'among', 'others', 'programs', 'improve', 'life', 'aging', 'combat', 'crime', 'drug', 'abuse', 'improve', 'health', 'services', 'ensure', 'one', 'denied', 'needed', 'health', 'care', 'inability', 'pay', 'protect', 'workers��', 'pension', 'rights', 'promote', 'equal', 'opportunity', 'members', 'minorities', 'others', 'left', 'behind', 'expand', 'consumer', 'protection', 'improve', 'environment', 'revitalize', 'rural', 'America', 'help', 'cities', 'launch', 'new', 'initiatives', 'education', 'improve', 'transportation', 'put', 'end', 'costly', 'labor', 'tie-ups', 'transportation', 'The', 'west', 'coast', 'dock', 'strike', 'case', 'point', 'This', 'Nation', 'tolerate', 'kind', 'irresponsible', 'labor', 'tie-up', 'future', 'The', 'messages', 'also', 'include', 'basic', 'reforms', 'essential', 'structure', 'government', 'adequate', 'decades', 'ahead', 'They', 'include', 'reform', 'wasteful', 'outmoded', 'welfare', 'system�Xsubstitution', 'new', 'system', 'provides', 'work', 'requirements', 'work', 'incentives', 'help', 'income', 'support', 'help', 'fairness', 'working', 'poor', 'They', 'include', '17', 'billion', 'program', 'Federal', 'revenue', 'sharing', 'States', 'localities', 'investment', 'renewal', 'investment', 'also', 'faith', 'American', 'people', 'They', 'also', 'include', 'sweeping', 'reorganization', 'executive', 'branch', 'Federal', 'Government', 'efficient', 'responsive', 'able', 'meet', 'challenges', 'decades', 'ahead', 'One', 'year', 'ago', 'standing', 'place', 'I', 'laid', 'opening', 'session', 'Congress', 'six', 'great', 'goals', 'One', 'welfare', 'reform', 'That', 'proposal', 'Congress', 'nearly', '2', '1/2', 'years', 'My', 'proposals', 'revenue', 'sharing', 'government', 'reorganization', 'health', 'care', 'environment', 'Congress', 'nearly', 'year', 'Many', 'major', 'proposals', 'I', 'referred', 'long', 'longer', 'Now', '1971', 'say', 'year', 'consideration', 'measures', 'Now', 'let', 'us', 'join', 'making', '1972', 'year', 'action', 'action', 'Congress', 'Nation', 'people', 'America', 'Now', 'addition', 'one', 'pressing', 'need', 'I', 'previously', 'covered', 'must', 'placed', 'national', 'agenda', 'We', 'long', 'looked', 'Nation', 'local', 'property', 'tax', 'main', 'source', 'financing', 'public', 'primary', 'secondary', 'education', 'As', 'result', 'soaring', 'school', 'costs', 'soaring', 'property', 'tax', 'rates', 'threaten', 'communities', 'schools', 'They', 'threaten', 'communities', 'property', 'taxes', 'doubled', '10', 'years', '1960', '70', 'become', 'one', 'oppressive', 'discriminatory', 'taxes', 'hitting', 'cruelly', 'elderly', 'retired', 'threaten', 'schools', 'hard-pressed', 'voters', 'understandably', 'reject', 'new', 'bond', 'issues', 'polls', 'The', 'problem', 'given', 'even', 'greater', 'urgency', 'four', 'recent', 'court', 'decisions', 'held', 'conventional', 'method', 'financing', 'schools', 'local', 'property', 'taxes', 'discriminatory', 'unconstitutional', 'Nearly', '2', 'years', 'ago', 'I', 'named', 'special', 'Presidential', 'commission', 'study', 'problems', 'school', 'finance', 'I', 'also', 'directed', 'Federal', 'departments', 'look', 'problems', 'We', 'developing', 'comprehensive', 'proposals', 'meet', 'problems', 'This', 'issue', 'involves', 'two', 'complex', 'interrelated', 'sets', 'problems', 'support', 'schools', 'basic', 'relationships', 'Federal', 'State', 'local', 'governments', 'tax', 'reforms', 'Under', 'leadership', 'Secretary', 'Treasury', 'carefully', 'reviewing', 'tax', 'aspects', 'I', 'week', 'enlisted', 'Advisory', 'Commission', 'Intergovernmental', 'Relations', 'addressing', 'intergovernmental', 'relations', 'aspects', 'I', 'asked', 'bipartisan', 'Commission', 'review', 'proposals', 'Federal', 'action', 'cope', 'gathering', 'crisis', 'school', 'finance', 'property', 'taxes', 'Later', 'year', 'Commissions', 'completed', 'studies', 'I', 'shall', 'make', 'final', 'recommendations', 'relieving', 'burden', 'property', 'taxes', 'providing', 'fair', 'adequate', 'financing', 'children��s', 'education', 'These', 'recommendations', 'revolutionary', 'But', 'recommendations', 'however', 'rooted', 'one', 'fundamental', 'principle', 'compromise', 'Local', 'school', 'boards', 'must', 'control', 'local', 'schools', 'As', 'look', 'ahead', 'coming', 'decades', 'vast', 'new', 'growth', 'change', 'certainties', 'dominant', 'reality', 'world', 'particularly', 'life', 'America', 'Surveying', 'certainty', 'rapid', 'change', 'like', 'fallen', 'rider', 'caught', 'stirrups�Xor', 'sit', 'high', 'saddle', 'masters', 'change', 'directing', 'course', 'choose', 'The', 'secret', 'mastering', 'change', 'today��s', 'world', 'reach', 'back', 'old', 'proven', 'principles', 'adapt', 'imagination', 'intelligence', 'new', 'realities', 'new', 'age', 'That', 'done', 'proposals', 'I', 'laid', 'Congress', 'They', 'rooted', 'basic', 'principles', 'enduring', 'human', 'nature', 'robust', 'American', 'experience', 'responsive', 'new', 'conditions', 'Thus', 'represent', 'spirit', 'change', 'truly', 'renewal', 'As', 'look', 'back', 'old', 'principles', 'find', 'timely', 'timeless', 'We', 'believe', 'independence', 'self-reliance', 'creative', 'value', 'competitive', 'spirit', 'We', 'believe', 'full', 'equal', 'opportunity', 'Americans', 'protection', 'individual', 'rights', 'liberties', 'We', 'believe', 'family', 'keystone', 'community', 'community', 'keystone', 'Nation', 'We', 'believe', 'compassion', 'toward', 'need', 'We', 'believe', 'system', 'law', 'justice', 'order', 'basis', 'genuinely', 'free', 'society', 'We', 'believe', 'person', 'get', 'works', 'for�Xand', 'work', 'for�Xand', 'work', 'get', 'We', 'believe', 'capacity', 'people', 'make', 'decisions', 'lives', 'communities�Xand', 'believe', 'right', 'make', 'decisions', 'In', 'applying', 'principles', 'done', 'full', 'understanding', 'seek', 'seventies', 'quest', 'merely', 'better�Xfor', 'better', 'quality', 'life', 'Americans', 'Thus', 'example', 'giving', 'new', 'measure', 'attention', 'cleaning', 'air', 'water', 'making', 'surroundings', 'attractive', 'We', 'providing', 'broader', 'support', 'arts', 'helping', 'stimulate', 'deeper', 'appreciation', 'contribute', 'Nation��s', 'activities', 'individual', 'lives', 'But', 'nothing', 'really', 'matters', 'quality', 'lives', 'way', 'treat', 'one', 'another', 'capacity', 'live', 'respectfully', 'together', 'unified', 'society', 'full', 'generous', 'regard', 'rights', 'others', 'also', 'feelings', 'others', 'As', 'recover', 'turmoil', 'violence', 'recent', 'years', 'learn', 'speak', 'one', 'another', 'instead', 'shouting', 'one', 'another', 'regaining', 'capacity', 'As', 'customary', 'occasion', 'I', 'talking', 'programs', 'Programs', 'important', 'But', 'even', 'important', 'programs', 'Nation�Xwhat', 'mean', 'Nation', 'world', 'In', 'New', 'York', 'Harbor', 'stands', 'one', 'famous', 'statues', 'world�Xthe', 'Statue', 'Liberty', 'gift', '1886', 'people', 'France', 'people', 'United', 'States', 'This', 'statue', 'landmark', 'symbol�Xa', 'symbol', 'America', 'meant', 'world', 'It', 'reminds', 'us', 'America', 'meant', 'wealth', 'power', 'spirit', 'purpose�Xa', 'land', 'enshrines', 'liberty', 'opportunity', 'held', 'hand', 'welcome', 'millions', 'search', 'better', 'fuller', 'freer', 'life', 'The', 'world��s', 'hopes', 'poured', 'America', 'along', 'people', 'And', 'hopes', 'dreams', 'brought', 'every', 'corner', 'world', 'become', 'part', 'hope', 'hold', 'world', 'Four', 'years', 'America', 'celebrate', '200th', 'anniversary', 'founding', 'Nation', 'There', 'say', 'old', 'Spirit', '��76', 'dead�Xthat', 'longer', 'strength', 'character', 'idealism', 'faith', 'founding', 'purposes', 'spirit', 'represents', 'Those', 'say', 'know', 'America', 'We', 'undergoing', 'self-doubts', 'self-criticism', 'But', 'side', 'growing', 'sensitivity', 'persistence', 'want', 'midst', 'plenty', 'impatience', 'slowness', 'age-old', 'ills', 'overcome', 'If', 'indifferent', 'shortcomings', 'society', 'complacent', 'institutions', 'blind', 'lingering', 'inequities�Xthen', 'would', 'lost', 'way', 'But', 'fact', 'concerns', 'evidence', 'ideals', 'deep', 'still', 'strong', 'Indeed', 'remind', 'us', 'really', 'best', 'America', 'compassion', 'They', 'remind', 'us', 'final', 'analysis', 'America', 'great', 'rich', 'good', 'country', 'Let', 'us', 'reject', 'narrow', 'visions', 'would', 'tell', 'us', 'evil', 'yet', 'perfect', 'corrupt', 'yet', 'pure', 'sweat', 'trial', 'sacrifice', 'gone', 'building', 'America', 'naught', 'building', 'yet', 'done', 'Let', 'us', 'see', 'path', 'traveling', 'wide', 'room', 'us', 'direction', 'toward', 'better', 'Nation', 'peaceful', 'world', 'Never', 'mattered', 'go', 'forward', 'together', 'Look', 'Chamber', 'The', 'leadership', 'America', 'today�Xthe', 'Supreme', 'Court', 'Cabinet', 'Senate', 'House', 'Representatives', 'Together', 'hold', 'future', 'Nation', 'conscience', 'Nation', 'hands', 'Because', 'year', 'election', 'year', 'time', 'great', 'pressure', 'If', 'yield', 'pressure', 'fail', 'deal', 'seriously', 'historic', 'challenges', 'face', 'failed', 'trust', 'millions', 'Americans', 'shaken', 'confidence', 'right', 'place', 'us', 'Government', 'Never', 'Congress', 'greater', 'opportunity', 'leave', 'legacy', 'profound', 'constructive', 'reform', 'Nation', 'Congress', 'If', 'succeed', 'tasks', 'credit', 'enough', 'all�Xnot', 'right', 'right', 'way', 'rising', 'partisan', 'interest', 'serve', 'national', 'interest', 'And', 'fail', 'one', 'us', 'America', 'loser', 'That', 'call', 'upon', 'Congress', 'today', 'high', 'statesmanship', 'years', 'come', 'Americans', 'look', 'back', 'say', 'withstood', 'intense', 'pressures', 'political', 'year', 'achieved', 'great', 'good', 'American', 'people', 'future', 'Nation', 'truly', 'great', 'Congress', 'NOTE', 'The', 'President', 'spoke', '12:34', 'p.m.', 'House', 'Chamber', 'Capitol', 'introduced', 'Carl', 'Albert', 'Speaker', 'House', 'Representatives', 'The', 'address', 'broadcast', 'live', 'radio', 'television', 'The', 'President', 'spoke', 'prepared', 'text', 'An', 'advance', 'text', 'address', 'released', 'day']\n"
          ]
        }
      ]
    },
    {
      "cell_type": "code",
      "metadata": {
        "colab": {
          "base_uri": "https://localhost:8080/"
        },
        "id": "Iw-kopgCg2RI",
        "outputId": "b517ad16-a1cb-4b5b-8a99-2ba6b78fdfa8"
      },
      "source": [
        "nltk.download('averaged_perceptron_tagger')\n",
        "def pos_tag(x):\n",
        "    return nltk.pos_tag([x])\n",
        "pos_word = filtered_data.map(pos_tag)\n",
        "print(pos_word.collect())\n"
      ],
      "execution_count": 34,
      "outputs": [
        {
          "output_type": "stream",
          "name": "stderr",
          "text": [
            "[nltk_data] Downloading package averaged_perceptron_tagger to\n",
            "[nltk_data]     /root/nltk_data...\n",
            "[nltk_data]   Unzipping taggers/averaged_perceptron_tagger.zip.\n"
          ]
        },
        {
          "output_type": "stream",
          "name": "stdout",
          "text": [
            "[[('Address', 'NN')], [('State', 'NN')], [('Union', 'NNP')], [('Delivered', 'VBN')], [('Before', 'IN')], [('Joint', 'JJ')], [('Session', 'NN')], [('Congress', 'NNP')], [('January', 'NNP')], [('20', 'CD')], [('1972', 'CD')], [('Mr.', 'NNP')], [('Speaker', 'NN')], [('Mr.', 'NNP')], [('President', 'NNP')], [('colleagues', 'NNS')], [('Congress', 'NNP')], [('distinguished', 'VBN')], [('guests', 'NNS')], [('fellow', 'NN')], [('Americans', 'NNS')], [('�', 'NN')], [('Twenty-five', 'JJ')], [('years', 'NNS')], [('ago', 'RB')], [('I', 'PRP')], [('sat', 'NN')], [('freshman', 'NN')], [('Congressman�Xalong', 'NN')], [('Speaker', 'NN')], [('Albert�Xand', 'NN')], [('listened', 'VBN')], [('first', 'RB')], [('time', 'NN')], [('President', 'NNP')], [('address', 'NN')], [('State', 'NN')], [('Union', 'NNP')], [('I', 'PRP')], [('shall', 'MD')], [('never', 'RB')], [('forget', 'NN')], [('moment', 'NN')], [('The', 'DT')], [('Senate', 'NNP')], [('diplomatic', 'JJ')], [('corps', 'NN')], [('Supreme', 'NNP')], [('Court', 'NNP')], [('Cabinet', 'NN')], [('entered', 'VBN')], [('Chamber', 'NNP')], [('President', 'NNP')], [('United', 'NNP')], [('States', 'NNS')], [('As', 'IN')], [('aware', 'JJ')], [('I', 'PRP')], [('differences', 'NNS')], [('President', 'NNP')], [('Truman', 'NN')], [('He', 'PRP')], [('But', 'CC')], [('I', 'PRP')], [('remember', 'VB')], [('day�Xthe', 'NN')], [('day', 'NN')], [('addressed', 'VBN')], [('joint', 'NN')], [('session', 'NN')], [('newly', 'RB')], [('elected', 'VBN')], [('Republican', 'JJ')], [('80th', 'CD')], [('Congress', 'NNP')], [('spoke', 'NN')], [('partisan', 'NN')], [('President', 'NNP')], [('people�Xcalling', 'VBG')], [('upon', 'IN')], [('Congress', 'NNP')], [('put', 'NN')], [('aside', 'RB')], [('partisan', 'NN')], [('considerations', 'NNS')], [('national', 'JJ')], [('interest', 'NN')], [('The', 'DT')], [('Greek-Turkish', 'JJ')], [('aid', 'NN')], [('program', 'NN')], [('Marshall', 'NN')], [('Plan', 'NN')], [('great', 'JJ')], [('foreign', 'JJ')], [('policy', 'NN')], [('initiatives', 'NNS')], [('responsible', 'JJ')], [('avoiding', 'VBG')], [('world', 'NN')], [('war', 'NN')], [('25', 'CD')], [('years', 'NNS')], [('approved', 'VBN')], [('80th', 'CD')], [('Congress', 'NNP')], [('bipartisan', 'NN')], [('majority', 'NN')], [('I', 'PRP')], [('proud', 'NN')], [('part', 'NN')], [('�', 'NN')], [('Nineteen', 'NN')], [('hundred', 'VBN')], [('seventy-two', 'NN')], [('us', 'PRP')], [('It', 'PRP')], [('holds', 'VBZ')], [('precious', 'JJ')], [('time', 'NN')], [('accomplish', 'NN')], [('good', 'JJ')], [('Nation', 'NN')], [('We', 'PRP')], [('must', 'MD')], [('waste', 'NN')], [('I', 'PRP')], [('know', 'VB')], [('political', 'JJ')], [('pressures', 'NNS')], [('session', 'NN')], [('Congress', 'NNP')], [('great', 'JJ')], [('There', 'EX')], [('candidates', 'NNS')], [('Presidency', 'NN')], [('Chamber', 'NNP')], [('today', 'NN')], [('probably', 'RB')], [('one', 'CD')], [('time', 'NN')], [('whole', 'JJ')], [('history', 'NN')], [('Republic', 'JJ')], [('And', 'CC')], [('honest', 'NN')], [('difference', 'NN')], [('opinion', 'NN')], [('parties', 'NNS')], [('within', 'IN')], [('party', 'NN')], [('foreign', 'JJ')], [('policy', 'NN')], [('issues', 'NNS')], [('domestic', 'JJ')], [('policy', 'NN')], [('issues', 'NNS')], [('However', 'RB')], [('great', 'JJ')], [('national', 'JJ')], [('problems', 'NNS')], [('vital', 'NN')], [('transcend', 'NN')], [('partisanship', 'NN')], [('So', 'RB')], [('let', 'VB')], [('us', 'PRP')], [('debates', 'NNS')], [('Let', 'VB')], [('us', 'PRP')], [('honest', 'NN')], [('differences', 'NNS')], [('But', 'CC')], [('let', 'VB')], [('us', 'PRP')], [('join', 'NN')], [('keeping', 'VBG')], [('national', 'JJ')], [('interest', 'NN')], [('first', 'RB')], [('Let', 'VB')], [('us', 'PRP')], [('join', 'NN')], [('making', 'VBG')], [('sure', 'NN')], [('legislation', 'NN')], [('Nation', 'NN')], [('needs', 'NNS')], [('become', 'NN')], [('hostage', 'NN')], [('political', 'JJ')], [('interests', 'NNS')], [('party', 'NN')], [('person', 'NN')], [('There', 'EX')], [('ample', 'NN')], [('precedent', 'NN')], [('election', 'NN')], [('year', 'NN')], [('present', 'NN')], [('huge', 'JJ')], [('list', 'NN')], [('new', 'JJ')], [('proposals', 'NNS')], [('knowing', 'VBG')], [('full', 'JJ')], [('well', 'RB')], [('would', 'MD')], [('possibility', 'NN')], [('passing', 'NN')], [('worked', 'VBN')], [('night', 'NN')], [('day', 'NN')], [('I', 'PRP')], [('shall', 'MD')], [('I', 'PRP')], [('presented', 'VBN')], [('leaders', 'NNS')], [('Congress', 'NNP')], [('today', 'NN')], [('message', 'NN')], [('15,000', 'CD')], [('words', 'NNS')], [('discussing', 'VBG')], [('detail', 'NN')], [('Nation', 'NN')], [('stands', 'NNS')], [('setting', 'VBG')], [('forth', 'NN')], [('specific', 'JJ')], [('legislative', 'JJ')], [('items', 'NNS')], [('I', 'PRP')], [('asked', 'VBN')], [('Congress', 'NNP')], [('act', 'NN')], [('Much', 'JJ')], [('legislation', 'NN')], [('I', 'PRP')], [('proposed', 'VBN')], [('1969', 'CD')], [('1970', 'CD')], [('also', 'RB')], [('first', 'RB')], [('session', 'NN')], [('92d', 'CD')], [('congress', 'NN')], [('I', 'PRP')], [('feel', 'NN')], [('essential', 'JJ')], [('action', 'NN')], [('completed', 'VBN')], [('year', 'NN')], [('I', 'PRP')], [('presenting', 'VBG')], [('proposals', 'NNS')], [('attractive', 'JJ')], [('labels', 'NNS')], [('hope', 'NN')], [('passage', 'NN')], [('I', 'PRP')], [('presenting', 'VBG')], [('vital', 'NN')], [('programs', 'NNS')], [('within', 'IN')], [('capacity', 'NN')], [('Congress', 'NNP')], [('enact', 'NN')], [('within', 'IN')], [('capacity', 'NN')], [('budget', 'NN')], [('finance', 'NN')], [('I', 'PRP')], [('believe', 'VB')], [('partisanship�Xprograms', 'NNS')], [('deal', 'NN')], [('urgent', 'NN')], [('priorities', 'NNS')], [('Nation', 'NN')], [('must', 'MD')], [('subject', 'NN')], [('bipartisan', 'NN')], [('action', 'NN')], [('Congress', 'NNP')], [('interests', 'NNS')], [('country', 'NN')], [('1972', 'CD')], [('When', 'WRB')], [('I', 'PRP')], [('took', 'VBD')], [('oath', 'NN')], [('office', 'NN')], [('steps', 'NNS')], [('building', 'NN')], [('3', 'CD')], [('years', 'NNS')], [('ago', 'RB')], [('today', 'NN')], [('Nation', 'NN')], [('ending', 'VBG')], [('one', 'CD')], [('tortured', 'VBN')], [('decades', 'NNS')], [('history', 'NN')], [('The', 'DT')], [('1960��s', 'CD')], [('time', 'NN')], [('great', 'JJ')], [('progress', 'NN')], [('many', 'JJ')], [('areas', 'NNS')], [('But', 'CC')], [('know', 'VB')], [('also', 'RB')], [('times', 'NNS')], [('great', 'JJ')], [('agony�Xthe', 'NN')], [('agonies', 'NNS')], [('war', 'NN')], [('inflation', 'NN')], [('rapidly', 'RB')], [('rising', 'VBG')], [('crime', 'NN')], [('deteriorating', 'VBG')], [('cities', 'NNS')], [('hopes', 'NNS')], [('raised', 'VBN')], [('disappointed', 'JJ')], [('anger', 'NN')], [('frustration', 'NN')], [('led', 'VBN')], [('finally', 'RB')], [('violence', 'NN')], [('worst', 'JJS')], [('civil', 'JJ')], [('disorder', 'NN')], [('century', 'NN')], [('I', 'PRP')], [('recall', 'NN')], [('troubles', 'NNS')], [('point', 'NN')], [('fingers', 'NNS')], [('blame', 'NN')], [('The', 'DT')], [('Nation', 'NN')], [('torn', 'NN')], [('final', 'JJ')], [('years', 'NNS')], [('sixties', 'NNS')], [('many', 'JJ')], [('parties', 'NNS')], [('questioned', 'VBN')], [('whether', 'IN')], [('America', 'NNP')], [('could', 'MD')], [('governed', 'VBN')], [('The', 'DT')], [('Nation', 'NN')], [('made', 'VBN')], [('significant', 'JJ')], [('progress', 'NN')], [('first', 'RB')], [('years', 'NNS')], [('seventies', 'NNS')], [('Our', 'PRP$')], [('colleges', 'NNS')], [('universities', 'NNS')], [('become', 'NN')], [('places', 'NNS')], [('learning', 'VBG')], [('instead', 'RB')], [('battlegrounds', 'NNS')], [('A', 'DT')], [('beginning', 'VBG')], [('made', 'VBN')], [('preserving', 'VBG')], [('protecting', 'VBG')], [('environment', 'NN')], [('The', 'DT')], [('rate', 'NN')], [('increase', 'NN')], [('crime', 'NN')], [('slowed�Xand', 'NN')], [('District', 'NNP')], [('Columbia', 'NNP')], [('one', 'CD')], [('city', 'NN')], [('Federal', 'JJ')], [('Government', 'NN')], [('direct', 'JJ')], [('jurisdiction', 'NN')], [('serious', 'JJ')], [('crime', 'NN')], [('1971', 'CD')], [('actually', 'RB')], [('reduced', 'VBN')], [('13', 'CD')], [('percent', 'NN')], [('year', 'NN')], [('Most', 'JJS')], [('important', 'JJ')], [('beginnings', 'NNS')], [('made', 'VBN')], [('say', 'VB')], [('today', 'NN')], [('year', 'NN')], [('1972', 'CD')], [('year', 'NN')], [('America', 'NNP')], [('may', 'MD')], [('make', 'VB')], [('greatest', 'JJS')], [('progress', 'NN')], [('25', 'CD')], [('years', 'NNS')], [('toward', 'IN')], [('achieving', 'VBG')], [('goal', 'NN')], [('peace', 'NN')], [('nations', 'NNS')], [('world', 'NN')], [('As', 'IN')], [('involvement', 'NN')], [('war', 'NN')], [('Vietnam', 'NNP')], [('comes', 'VBZ')], [('end', 'NN')], [('must', 'MD')], [('go', 'VB')], [('build', 'NN')], [('generation', 'NN')], [('peace', 'NN')], [('To', 'TO')], [('achieve', 'NN')], [('goal', 'NN')], [('must', 'MD')], [('first', 'RB')], [('face', 'NN')], [('realistically', 'RB')], [('need', 'NN')], [('maintain', 'NN')], [('defense', 'NN')], [('In', 'IN')], [('past', 'NN')], [('3', 'CD')], [('years', 'NNS')], [('reduced', 'VBN')], [('burden', 'NN')], [('arms', 'NNS')], [('For', 'IN')], [('first', 'RB')], [('time', 'NN')], [('20', 'CD')], [('years', 'NNS')], [('spending', 'NN')], [('defense', 'NN')], [('brought', 'NN')], [('spending', 'NN')], [('human', 'NN')], [('resources', 'NNS')], [('As', 'IN')], [('look', 'NN')], [('future', 'NN')], [('find', 'VB')], [('encouraging', 'VBG')], [('progress', 'NN')], [('negotiations', 'NNS')], [('Soviet', 'JJ')], [('Union', 'NNP')], [('limitation', 'NN')], [('strategic', 'JJ')], [('arms', 'NNS')], [('And', 'CC')], [('looking', 'VBG')], [('future', 'NN')], [('hope', 'NN')], [('eventually', 'RB')], [('agreement', 'NN')], [('mutual', 'JJ')], [('reduction', 'NN')], [('arms', 'NNS')], [('But', 'CC')], [('mutual', 'JJ')], [('agreement', 'NN')], [('must', 'MD')], [('maintain', 'NN')], [('strength', 'NN')], [('necessary', 'JJ')], [('deter', 'NN')], [('war', 'NN')], [('And', 'CC')], [('rising', 'VBG')], [('research', 'NN')], [('development', 'NN')], [('costs', 'NNS')], [('increases', 'NNS')], [('military', 'JJ')], [('civilian', 'JJ')], [('pay', 'NN')], [('need', 'NN')], [('proceed', 'NN')], [('new', 'JJ')], [('weapons', 'NNS')], [('systems', 'NNS')], [('budget', 'NN')], [('coming', 'VBG')], [('fiscal', 'JJ')], [('year', 'NN')], [('provide', 'NN')], [('increase', 'NN')], [('defense', 'NN')], [('spending', 'NN')], [('Strong', 'JJ')], [('military', 'JJ')], [('defenses', 'NNS')], [('enemy', 'NN')], [('peace', 'NN')], [('guardians', 'NNS')], [('peace', 'NN')], [('There', 'EX')], [('could', 'MD')], [('misguided', 'VBN')], [('set', 'NN')], [('priorities', 'NNS')], [('one', 'CD')], [('would', 'MD')], [('tempt', 'NN')], [('others', 'NNS')], [('weakening', 'VBG')], [('America', 'NNP')], [('thereby', 'RB')], [('endanger', 'NN')], [('peace', 'NN')], [('world', 'NN')], [('In', 'IN')], [('foreign', 'JJ')], [('policy', 'NN')], [('entered', 'VBN')], [('new', 'JJ')], [('era', 'NN')], [('The', 'DT')], [('world', 'NN')], [('changed', 'VBN')], [('greatly', 'RB')], [('11', 'CD')], [('years', 'NNS')], [('since', 'IN')], [('President', 'NNP')], [('John', 'NNP')], [('Kennedy', 'NN')], [('said', 'VBD')], [('Inaugural', 'JJ')], [('Address', 'NN')], [('���Kwe', 'NN')], [('shall', 'MD')], [('pay', 'NN')], [('price', 'NN')], [('bear', 'NN')], [('burden', 'NN')], [('meet', 'NN')], [('hardship', 'NN')], [('support', 'NN')], [('friend', 'NN')], [('oppose', 'NN')], [('foe', 'NN')], [('assure', 'NN')], [('survival', 'NN')], [('success', 'NN')], [('liberty.��', 'NN')], [('Our', 'PRP$')], [('policy', 'NN')], [('carefully', 'RB')], [('deliberately', 'RB')], [('adjusted', 'VBN')], [('meet', 'NN')], [('new', 'JJ')], [('realities', 'NNS')], [('new', 'JJ')], [('world', 'NN')], [('live', 'JJ')], [('We', 'PRP')], [('make', 'VB')], [('today', 'NN')], [('commitments', 'NNS')], [('able', 'JJ')], [('prepared', 'JJ')], [('meet', 'NN')], [('Our', 'PRP$')], [('commitment', 'NN')], [('freedom', 'NN')], [('remains', 'NNS')], [('strong', 'JJ')], [('unshakable', 'JJ')], [('But', 'CC')], [('others', 'NNS')], [('must', 'MD')], [('bear', 'NN')], [('share', 'NN')], [('burden', 'NN')], [('defending', 'VBG')], [('freedom', 'NN')], [('around', 'IN')], [('world', 'NN')], [('And', 'CC')], [('policy', 'NN')], [('--', ':')], [('We', 'PRP')], [('maintain', 'NN')], [('nuclear', 'JJ')], [('deterrent', 'NN')], [('adequate', 'NN')], [('meet', 'NN')], [('threat', 'NN')], [('security', 'NN')], [('United', 'NNP')], [('States', 'NNS')], [('allies', 'NNS')], [('--', ':')], [('We', 'PRP')], [('help', 'NN')], [('nations', 'NNS')], [('develop', 'VB')], [('capability', 'NN')], [('defending', 'VBG')], [('--', ':')], [('We', 'PRP')], [('faithfully', 'RB')], [('honor', 'NN')], [('treaty', 'NN')], [('commitments', 'NNS')], [('--', ':')], [('We', 'PRP')], [('act', 'NN')], [('defend', 'NN')], [('interests', 'NNS')], [('whenever', 'NN')], [('wherever', 'NN')], [('threatened', 'VBN')], [('anyplace', 'NN')], [('world', 'NN')], [('--', ':')], [('But', 'CC')], [('interests', 'NNS')], [('treaty', 'NN')], [('commitments', 'NNS')], [('involved', 'VBN')], [('role', 'NN')], [('limited', 'JJ')], [('--', ':')], [('We', 'PRP')], [('intervene', 'NN')], [('militarily', 'RB')], [('--', ':')], [('But', 'CC')], [('use', 'NN')], [('influence', 'NN')], [('prevent', 'NN')], [('war', 'NN')], [('--', ':')], [('If', 'IN')], [('war', 'NN')], [('comes', 'VBZ')], [('use', 'NN')], [('influence', 'NN')], [('stop', 'NN')], [('--', ':')], [('Once', 'RB')], [('share', 'NN')], [('helping', 'VBG')], [('bind', 'NN')], [('wounds', 'NNS')], [('participated', 'VBD')], [('�', 'NN')], [('As', 'IN')], [('know', 'VB')], [('I', 'PRP')], [('soon', 'RB')], [('visiting', 'VBG')], [('People��s', 'NN')], [('Republic', 'JJ')], [('China', 'NNP')], [('Soviet', 'JJ')], [('Union', 'NNP')], [('I', 'PRP')], [('go', 'VB')], [('illusions', 'NNS')], [('We', 'PRP')], [('great', 'JJ')], [('differences', 'NNS')], [('powers', 'NNS')], [('We', 'PRP')], [('shall', 'MD')], [('continue', 'NN')], [('great', 'JJ')], [('differences', 'NNS')], [('But', 'CC')], [('peace', 'NN')], [('depends', 'NNS')], [('ability', 'NN')], [('great', 'JJ')], [('powers', 'NNS')], [('live', 'JJ')], [('together', 'RB')], [('planet', 'NN')], [('despite', 'IN')], [('differences', 'NNS')], [('We', 'PRP')], [('would', 'MD')], [('true', 'JJ')], [('obligation', 'NN')], [('generations', 'NNS')], [('yet', 'RB')], [('unborn', 'JJ')], [('failed', 'VBD')], [('seize', 'NN')], [('moment', 'NN')], [('everything', 'NN')], [('power', 'NN')], [('insure', 'NN')], [('able', 'JJ')], [('talk', 'NN')], [('differences', 'NNS')], [('rather', 'RB')], [('fight', 'NN')], [('future', 'NN')], [('As', 'IN')], [('look', 'NN')], [('back', 'RB')], [('century', 'NN')], [('let', 'VB')], [('us', 'PRP')], [('highest', 'JJS')], [('spirit', 'NN')], [('bipartisanship', 'NN')], [('recognize', 'VB')], [('proud', 'NN')], [('Nation��s', 'NN')], [('record', 'NN')], [('foreign', 'JJ')], [('affairs', 'NNS')], [('America', 'NNP')], [('given', 'VBN')], [('generously', 'RB')], [('toward', 'IN')], [('maintaining', 'VBG')], [('freedom', 'NN')], [('preserving', 'VBG')], [('peace', 'NN')], [('alleviating', 'VBG')], [('human', 'NN')], [('suffering', 'VBG')], [('around', 'IN')], [('globe', 'NN')], [('nation', 'NN')], [('ever', 'RB')], [('done', 'VBN')], [('history', 'NN')], [('man', 'NN')], [('We', 'PRP')], [('fought', 'NN')], [('four', 'CD')], [('wars', 'NNS')], [('century', 'NN')], [('power', 'NN')], [('never', 'RB')], [('used', 'VBN')], [('break', 'NN')], [('peace', 'NN')], [('keep', 'VB')], [('never', 'RB')], [('used', 'VBN')], [('destroy', 'NN')], [('freedom', 'NN')], [('defend', 'NN')], [('never', 'RB')], [('used', 'VBN')], [('destroy', 'NN')], [('freedom', 'NN')], [('defend', 'NN')], [('We', 'PRP')], [('within', 'IN')], [('reach', 'NN')], [('goal', 'NN')], [('insuring', 'VBG')], [('next', 'JJ')], [('generation', 'NN')], [('first', 'RB')], [('generation', 'NN')], [('century', 'NN')], [('spared', 'VBN')], [('scourges', 'NNS')], [('war', 'NN')], [('Turning', 'VBG')], [('problems', 'NNS')], [('home', 'NN')], [('making', 'VBG')], [('progress', 'NN')], [('toward', 'IN')], [('goal', 'NN')], [('new', 'JJ')], [('prosperity', 'NN')], [('without', 'IN')], [('war', 'NN')], [('Industrial', 'NNP')], [('production', 'NN')], [('consumer', 'NN')], [('spending', 'NN')], [('retail', 'JJ')], [('sales', 'NNS')], [('personal', 'JJ')], [('income', 'NN')], [('rising', 'VBG')], [('Total', 'JJ')], [('employment', 'NN')], [('real', 'JJ')], [('income', 'NN')], [('highest', 'JJS')], [('history', 'NN')], [('New', 'NNP')], [('homebuilding', 'VBG')], [('starts', 'NNS')], [('past', 'NN')], [('year', 'NN')], [('reached', 'VBN')], [('highest', 'JJS')], [('level', 'NN')], [('ever', 'RB')], [('Business', 'NN')], [('consumer', 'NN')], [('confidence', 'NN')], [('rising', 'VBG')], [('Interest', 'NN')], [('rates', 'NNS')], [('The', 'DT')], [('rate', 'NN')], [('inflation', 'NN')], [('We', 'PRP')], [('look', 'NN')], [('confidence', 'NN')], [('1972', 'CD')], [('year', 'NN')], [('back', 'RB')], [('inflation', 'NN')], [('broken', 'NN')], [('Now', 'RB')], [('good', 'JJ')], [('record', 'NN')], [('good', 'JJ')], [('enough�Xnot', 'NN')], [('still', 'RB')], [('unemployment', 'NN')], [('rate', 'NN')], [('6', 'CD')], [('percent', 'NN')], [('It', 'PRP')], [('enough', 'RB')], [('point', 'NN')], [('rate', 'NN')], [('early', 'RB')], [('peacetime', 'NN')], [('years', 'NNS')], [('sixties', 'NNS')], [('2', 'CD')], [('million', 'CD')], [('men', 'NNS')], [('released', 'VBN')], [('Armed', 'VBN')], [('Forces', 'NNS')], [('defense-related', 'JJ')], [('industries', 'NNS')], [('still', 'RB')], [('wartime', 'NN')], [('jobs', 'NNS')], [('unemployment', 'NN')], [('would', 'MD')], [('far', 'RB')], [('lower', 'JJR')], [('Our', 'PRP$')], [('goal', 'NN')], [('country', 'NN')], [('full', 'JJ')], [('employment', 'NN')], [('peacetime', 'NN')], [('We', 'PRP')], [('intend', 'NN')], [('meet', 'NN')], [('goal', 'NN')], [('The', 'DT')], [('Congress', 'NNP')], [('helped', 'VBD')], [('meet', 'NN')], [('goal', 'NN')], [('passing', 'NN')], [('job-creating', 'NN')], [('tax', 'NN')], [('program', 'NN')], [('last', 'JJ')], [('month', 'NN')], [('The', 'DT')], [('historic', 'NN')], [('monetary', 'JJ')], [('agreements', 'NNS')], [('agreements', 'NNS')], [('reached', 'VBN')], [('major', 'JJ')], [('European', 'JJ')], [('nations', 'NNS')], [('Canada', 'NNP')], [('Japan', 'NNP')], [('help', 'NN')], [('meet', 'NN')], [('providing', 'VBG')], [('new', 'JJ')], [('markets', 'NNS')], [('American', 'JJ')], [('products', 'NNS')], [('new', 'JJ')], [('jobs', 'NNS')], [('American', 'JJ')], [('workers', 'NNS')], [('Our', 'PRP$')], [('budget', 'NN')], [('help', 'NN')], [('meet', 'NN')], [('expansionary', 'JJ')], [('without', 'IN')], [('inflationary�Xa', 'NN')], [('job-producing', 'NN')], [('budget', 'NN')], [('help', 'NN')], [('take', 'VB')], [('gap', 'NN')], [('economy', 'NN')], [('expands', 'NNS')], [('full', 'JJ')], [('employment', 'NN')], [('Our', 'PRP$')], [('program', 'NN')], [('raise', 'NN')], [('farm', 'NN')], [('income', 'NN')], [('help', 'NN')], [('meet', 'NN')], [('helping', 'VBG')], [('revitalize', 'VB')], [('rural', 'JJ')], [('America', 'NNP')], [('giving', 'VBG')], [('America��s', 'NN')], [('farmers', 'NNS')], [('fair', 'NN')], [('share', 'NN')], [('America��s', 'NN')], [('increasing', 'VBG')], [('productivity', 'NN')], [('We', 'PRP')], [('also', 'RB')], [('help', 'NN')], [('meet', 'NN')], [('goal', 'NN')], [('full', 'JJ')], [('employment', 'NN')], [('peacetime', 'NN')], [('set', 'NN')], [('major', 'JJ')], [('initiatives', 'NNS')], [('stimulate', 'NN')], [('imaginative', 'JJ')], [('use', 'NN')], [('America��s', 'NN')], [('great', 'JJ')], [('capacity', 'NN')], [('technological', 'JJ')], [('advance', 'NN')], [('direct', 'JJ')], [('toward', 'IN')], [('improving', 'VBG')], [('quality', 'NN')], [('life', 'NN')], [('every', 'DT')], [('American', 'JJ')], [('In', 'IN')], [('reaching', 'VBG')], [('moon', 'NN')], [('demonstrated', 'VBN')], [('miracles', 'NNS')], [('American', 'JJ')], [('technology', 'NN')], [('capable', 'JJ')], [('achieving', 'VBG')], [('Now', 'RB')], [('time', 'NN')], [('come', 'VB')], [('move', 'NN')], [('deliberately', 'RB')], [('toward', 'IN')], [('making', 'VBG')], [('full', 'JJ')], [('use', 'NN')], [('technology', 'NN')], [('earth', 'NN')], [('harnessing', 'VBG')], [('wonders', 'NNS')], [('science', 'NN')], [('service', 'NN')], [('man', 'NN')], [('I', 'PRP')], [('shall', 'MD')], [('soon', 'RB')], [('send', 'NN')], [('Congress', 'NNP')], [('special', 'JJ')], [('message', 'NN')], [('proposing', 'VBG')], [('new', 'JJ')], [('program', 'NN')], [('Federal', 'JJ')], [('partnership', 'NN')], [('technological', 'JJ')], [('research', 'NN')], [('developments�Xwith', 'NN')], [('Federal', 'JJ')], [('incentives', 'NNS')], [('increase', 'NN')], [('private', 'JJ')], [('research', 'NN')], [('federally', 'RB')], [('supported', 'VBN')], [('research', 'NN')], [('projects', 'NNS')], [('designed', 'VBN')], [('improve', 'VB')], [('everyday', 'NN')], [('lives', 'NNS')], [('ways', 'NNS')], [('range', 'NN')], [('improving', 'VBG')], [('mass', 'NN')], [('transit', 'NN')], [('developing', 'VBG')], [('new', 'JJ')], [('systems', 'NNS')], [('emergency', 'NN')], [('health', 'NN')], [('care', 'NN')], [('could', 'MD')], [('save', 'VB')], [('thousands', 'NNS')], [('lives', 'NNS')], [('annually', 'RB')], [('�', 'NN')], [('Historically', 'RB')], [('superior', 'JJ')], [('technology', 'NN')], [('high', 'JJ')], [('productivity', 'NN')], [('made', 'VBN')], [('possible', 'JJ')], [('American', 'JJ')], [('workers', 'NNS')], [('highest', 'JJS')], [('paid', 'NN')], [('world', 'NN')], [('far', 'RB')], [('yet', 'RB')], [('goods', 'NNS')], [('still', 'RB')], [('compete', 'NN')], [('world', 'NN')], [('markets', 'NNS')], [('Now', 'RB')], [('face', 'NN')], [('new', 'JJ')], [('situation', 'NN')], [('As', 'IN')], [('nations', 'NNS')], [('move', 'NN')], [('rapidly', 'RB')], [('forward', 'RB')], [('technology', 'NN')], [('answer', 'NN')], [('new', 'JJ')], [('competition', 'NN')], [('build', 'NN')], [('wall', 'NN')], [('around', 'IN')], [('America', 'NNP')], [('rather', 'RB')], [('remain', 'NN')], [('competitive', 'JJ')], [('improving', 'VBG')], [('technology', 'NN')], [('still', 'RB')], [('increasing', 'VBG')], [('productivity', 'NN')], [('American', 'JJ')], [('industry', 'NN')], [('Our', 'PRP$')], [('new', 'JJ')], [('monetary', 'JJ')], [('trade', 'NN')], [('agreements', 'NNS')], [('make', 'VB')], [('possible', 'JJ')], [('American', 'JJ')], [('goods', 'NNS')], [('compete', 'NN')], [('fairly', 'RB')], [('world��s', 'NN')], [('markets�Xbut', 'NN')], [('still', 'RB')], [('must', 'MD')], [('compete', 'NN')], [('The', 'DT')], [('new', 'JJ')], [('technology', 'NN')], [('program', 'NN')], [('put', 'NN')], [('use', 'NN')], [('skills', 'NNS')], [('many', 'JJ')], [('highly', 'RB')], [('trained', 'VBN')], [('Americans', 'NNS')], [('skills', 'NNS')], [('might', 'MD')], [('otherwise', 'RB')], [('wasted', 'VBN')], [('It', 'PRP')], [('also', 'RB')], [('meet', 'NN')], [('growing', 'VBG')], [('technological', 'JJ')], [('challenge', 'NN')], [('abroad', 'RB')], [('thus', 'RB')], [('help', 'NN')], [('create', 'NN')], [('new', 'JJ')], [('industries', 'NNS')], [('well', 'RB')], [('creating', 'VBG')], [('jobs', 'NNS')], [('America��s', 'NN')], [('workers', 'NNS')], [('producing', 'VBG')], [('world��s', 'NN')], [('markets', 'NNS')], [('This', 'DT')], [('second', 'JJ')], [('session', 'NN')], [('92d', 'CD')], [('congress', 'NN')], [('already', 'RB')], [('90', 'CD')], [('major', 'JJ')], [('Administration', 'NN')], [('proposals', 'NNS')], [('still', 'RB')], [('await', 'NN')], [('action', 'NN')], [('I', 'PRP')], [('discussed', 'VBN')], [('extensive', 'JJ')], [('written', 'VBN')], [('message', 'NN')], [('I', 'PRP')], [('presented', 'VBN')], [('Congress', 'NNP')], [('today', 'NN')], [('They', 'PRP')], [('include', 'NN')], [('among', 'IN')], [('others', 'NNS')], [('programs', 'NNS')], [('improve', 'VB')], [('life', 'NN')], [('aging', 'VBG')], [('combat', 'NN')], [('crime', 'NN')], [('drug', 'NN')], [('abuse', 'NN')], [('improve', 'VB')], [('health', 'NN')], [('services', 'NNS')], [('ensure', 'VB')], [('one', 'CD')], [('denied', 'VBD')], [('needed', 'VBN')], [('health', 'NN')], [('care', 'NN')], [('inability', 'NN')], [('pay', 'NN')], [('protect', 'NN')], [('workers��', 'NN')], [('pension', 'NN')], [('rights', 'NNS')], [('promote', 'NN')], [('equal', 'JJ')], [('opportunity', 'NN')], [('members', 'NNS')], [('minorities', 'NNS')], [('others', 'NNS')], [('left', 'NN')], [('behind', 'IN')], [('expand', 'NN')], [('consumer', 'NN')], [('protection', 'NN')], [('improve', 'VB')], [('environment', 'NN')], [('revitalize', 'VB')], [('rural', 'JJ')], [('America', 'NNP')], [('help', 'NN')], [('cities', 'NNS')], [('launch', 'NN')], [('new', 'JJ')], [('initiatives', 'NNS')], [('education', 'NN')], [('improve', 'VB')], [('transportation', 'NN')], [('put', 'NN')], [('end', 'NN')], [('costly', 'JJ')], [('labor', 'NN')], [('tie-ups', 'NNS')], [('transportation', 'NN')], [('The', 'DT')], [('west', 'NN')], [('coast', 'NN')], [('dock', 'NN')], [('strike', 'NN')], [('case', 'NN')], [('point', 'NN')], [('This', 'DT')], [('Nation', 'NN')], [('tolerate', 'NN')], [('kind', 'NN')], [('irresponsible', 'JJ')], [('labor', 'NN')], [('tie-up', 'NN')], [('future', 'NN')], [('The', 'DT')], [('messages', 'NNS')], [('also', 'RB')], [('include', 'NN')], [('basic', 'JJ')], [('reforms', 'NNS')], [('essential', 'JJ')], [('structure', 'NN')], [('government', 'NN')], [('adequate', 'NN')], [('decades', 'NNS')], [('ahead', 'RB')], [('They', 'PRP')], [('include', 'NN')], [('reform', 'NN')], [('wasteful', 'NN')], [('outmoded', 'VBN')], [('welfare', 'NN')], [('system�Xsubstitution', 'NN')], [('new', 'JJ')], [('system', 'NN')], [('provides', 'VBZ')], [('work', 'NN')], [('requirements', 'NNS')], [('work', 'NN')], [('incentives', 'NNS')], [('help', 'NN')], [('income', 'NN')], [('support', 'NN')], [('help', 'NN')], [('fairness', 'NN')], [('working', 'VBG')], [('poor', 'JJ')], [('They', 'PRP')], [('include', 'NN')], [('17', 'CD')], [('billion', 'CD')], [('program', 'NN')], [('Federal', 'JJ')], [('revenue', 'NN')], [('sharing', 'VBG')], [('States', 'NNS')], [('localities', 'NNS')], [('investment', 'NN')], [('renewal', 'NN')], [('investment', 'NN')], [('also', 'RB')], [('faith', 'NN')], [('American', 'JJ')], [('people', 'NNS')], [('They', 'PRP')], [('also', 'RB')], [('include', 'NN')], [('sweeping', 'VBG')], [('reorganization', 'NN')], [('executive', 'NN')], [('branch', 'NN')], [('Federal', 'JJ')], [('Government', 'NN')], [('efficient', 'NN')], [('responsive', 'NN')], [('able', 'JJ')], [('meet', 'NN')], [('challenges', 'NNS')], [('decades', 'NNS')], [('ahead', 'RB')], [('One', 'CD')], [('year', 'NN')], [('ago', 'RB')], [('standing', 'VBG')], [('place', 'NN')], [('I', 'PRP')], [('laid', 'NN')], [('opening', 'NN')], [('session', 'NN')], [('Congress', 'NNP')], [('six', 'CD')], [('great', 'JJ')], [('goals', 'NNS')], [('One', 'CD')], [('welfare', 'NN')], [('reform', 'NN')], [('That', 'DT')], [('proposal', 'NN')], [('Congress', 'NNP')], [('nearly', 'RB')], [('2', 'CD')], [('1/2', 'CD')], [('years', 'NNS')], [('My', 'PRP$')], [('proposals', 'NNS')], [('revenue', 'NN')], [('sharing', 'VBG')], [('government', 'NN')], [('reorganization', 'NN')], [('health', 'NN')], [('care', 'NN')], [('environment', 'NN')], [('Congress', 'NNP')], [('nearly', 'RB')], [('year', 'NN')], [('Many', 'JJ')], [('major', 'JJ')], [('proposals', 'NNS')], [('I', 'PRP')], [('referred', 'VBN')], [('long', 'RB')], [('longer', 'NN')], [('Now', 'RB')], [('1971', 'CD')], [('say', 'VB')], [('year', 'NN')], [('consideration', 'NN')], [('measures', 'NNS')], [('Now', 'RB')], [('let', 'VB')], [('us', 'PRP')], [('join', 'NN')], [('making', 'VBG')], [('1972', 'CD')], [('year', 'NN')], [('action', 'NN')], [('action', 'NN')], [('Congress', 'NNP')], [('Nation', 'NN')], [('people', 'NNS')], [('America', 'NNP')], [('Now', 'RB')], [('addition', 'NN')], [('one', 'CD')], [('pressing', 'VBG')], [('need', 'NN')], [('I', 'PRP')], [('previously', 'RB')], [('covered', 'VBN')], [('must', 'MD')], [('placed', 'VBN')], [('national', 'JJ')], [('agenda', 'NN')], [('We', 'PRP')], [('long', 'RB')], [('looked', 'VBD')], [('Nation', 'NN')], [('local', 'JJ')], [('property', 'NN')], [('tax', 'NN')], [('main', 'JJ')], [('source', 'NN')], [('financing', 'NN')], [('public', 'NN')], [('primary', 'NN')], [('secondary', 'JJ')], [('education', 'NN')], [('As', 'IN')], [('result', 'NN')], [('soaring', 'VBG')], [('school', 'NN')], [('costs', 'NNS')], [('soaring', 'VBG')], [('property', 'NN')], [('tax', 'NN')], [('rates', 'NNS')], [('threaten', 'NNS')], [('communities', 'NNS')], [('schools', 'NNS')], [('They', 'PRP')], [('threaten', 'NNS')], [('communities', 'NNS')], [('property', 'NN')], [('taxes', 'NNS')], [('doubled', 'VBD')], [('10', 'CD')], [('years', 'NNS')], [('1960', 'CD')], [('70', 'CD')], [('become', 'NN')], [('one', 'CD')], [('oppressive', 'JJ')], [('discriminatory', 'NN')], [('taxes', 'NNS')], [('hitting', 'VBG')], [('cruelly', 'RB')], [('elderly', 'RB')], [('retired', 'VBN')], [('threaten', 'NNS')], [('schools', 'NNS')], [('hard-pressed', 'JJ')], [('voters', 'NNS')], [('understandably', 'RB')], [('reject', 'NN')], [('new', 'JJ')], [('bond', 'NN')], [('issues', 'NNS')], [('polls', 'NNS')], [('The', 'DT')], [('problem', 'NN')], [('given', 'VBN')], [('even', 'RB')], [('greater', 'JJR')], [('urgency', 'NN')], [('four', 'CD')], [('recent', 'JJ')], [('court', 'NN')], [('decisions', 'NNS')], [('held', 'NN')], [('conventional', 'JJ')], [('method', 'NN')], [('financing', 'NN')], [('schools', 'NNS')], [('local', 'JJ')], [('property', 'NN')], [('taxes', 'NNS')], [('discriminatory', 'NN')], [('unconstitutional', 'JJ')], [('Nearly', 'RB')], [('2', 'CD')], [('years', 'NNS')], [('ago', 'RB')], [('I', 'PRP')], [('named', 'VBN')], [('special', 'JJ')], [('Presidential', 'JJ')], [('commission', 'NN')], [('study', 'NN')], [('problems', 'NNS')], [('school', 'NN')], [('finance', 'NN')], [('I', 'PRP')], [('also', 'RB')], [('directed', 'VBN')], [('Federal', 'JJ')], [('departments', 'NNS')], [('look', 'NN')], [('problems', 'NNS')], [('We', 'PRP')], [('developing', 'VBG')], [('comprehensive', 'NN')], [('proposals', 'NNS')], [('meet', 'NN')], [('problems', 'NNS')], [('This', 'DT')], [('issue', 'NN')], [('involves', 'NNS')], [('two', 'CD')], [('complex', 'JJ')], [('interrelated', 'VBN')], [('sets', 'NNS')], [('problems', 'NNS')], [('support', 'NN')], [('schools', 'NNS')], [('basic', 'JJ')], [('relationships', 'NNS')], [('Federal', 'JJ')], [('State', 'NN')], [('local', 'JJ')], [('governments', 'NNS')], [('tax', 'NN')], [('reforms', 'NNS')], [('Under', 'IN')], [('leadership', 'NN')], [('Secretary', 'NNP')], [('Treasury', 'NNP')], [('carefully', 'RB')], [('reviewing', 'VBG')], [('tax', 'NN')], [('aspects', 'NNS')], [('I', 'PRP')], [('week', 'NN')], [('enlisted', 'VBN')], [('Advisory', 'NN')], [('Commission', 'NNP')], [('Intergovernmental', 'NN')], [('Relations', 'NNS')], [('addressing', 'VBG')], [('intergovernmental', 'NN')], [('relations', 'NNS')], [('aspects', 'NNS')], [('I', 'PRP')], [('asked', 'VBN')], [('bipartisan', 'NN')], [('Commission', 'NNP')], [('review', 'NN')], [('proposals', 'NNS')], [('Federal', 'JJ')], [('action', 'NN')], [('cope', 'NN')], [('gathering', 'NN')], [('crisis', 'NN')], [('school', 'NN')], [('finance', 'NN')], [('property', 'NN')], [('taxes', 'NNS')], [('Later', 'RB')], [('year', 'NN')], [('Commissions', 'NNS')], [('completed', 'VBN')], [('studies', 'NNS')], [('I', 'PRP')], [('shall', 'MD')], [('make', 'VB')], [('final', 'JJ')], [('recommendations', 'NNS')], [('relieving', 'VBG')], [('burden', 'NN')], [('property', 'NN')], [('taxes', 'NNS')], [('providing', 'VBG')], [('fair', 'NN')], [('adequate', 'NN')], [('financing', 'NN')], [('children��s', 'NN')], [('education', 'NN')], [('These', 'DT')], [('recommendations', 'NNS')], [('revolutionary', 'JJ')], [('But', 'CC')], [('recommendations', 'NNS')], [('however', 'RB')], [('rooted', 'VBN')], [('one', 'CD')], [('fundamental', 'JJ')], [('principle', 'NN')], [('compromise', 'NN')], [('Local', 'JJ')], [('school', 'NN')], [('boards', 'NNS')], [('must', 'MD')], [('control', 'NN')], [('local', 'JJ')], [('schools', 'NNS')], [('As', 'IN')], [('look', 'NN')], [('ahead', 'RB')], [('coming', 'VBG')], [('decades', 'NNS')], [('vast', 'NN')], [('new', 'JJ')], [('growth', 'NN')], [('change', 'NN')], [('certainties', 'NNS')], [('dominant', 'NN')], [('reality', 'NN')], [('world', 'NN')], [('particularly', 'RB')], [('life', 'NN')], [('America', 'NNP')], [('Surveying', 'VBG')], [('certainty', 'NN')], [('rapid', 'JJ')], [('change', 'NN')], [('like', 'IN')], [('fallen', 'VBN')], [('rider', 'NN')], [('caught', 'NN')], [('stirrups�Xor', 'NN')], [('sit', 'NN')], [('high', 'JJ')], [('saddle', 'NN')], [('masters', 'NNS')], [('change', 'NN')], [('directing', 'VBG')], [('course', 'NN')], [('choose', 'NN')], [('The', 'DT')], [('secret', 'NN')], [('mastering', 'VBG')], [('change', 'NN')], [('today��s', 'NN')], [('world', 'NN')], [('reach', 'NN')], [('back', 'RB')], [('old', 'JJ')], [('proven', 'NN')], [('principles', 'NNS')], [('adapt', 'NN')], [('imagination', 'NN')], [('intelligence', 'NN')], [('new', 'JJ')], [('realities', 'NNS')], [('new', 'JJ')], [('age', 'NN')], [('That', 'DT')], [('done', 'VBN')], [('proposals', 'NNS')], [('I', 'PRP')], [('laid', 'NN')], [('Congress', 'NNP')], [('They', 'PRP')], [('rooted', 'VBN')], [('basic', 'JJ')], [('principles', 'NNS')], [('enduring', 'VBG')], [('human', 'NN')], [('nature', 'NN')], [('robust', 'NN')], [('American', 'JJ')], [('experience', 'NN')], [('responsive', 'NN')], [('new', 'JJ')], [('conditions', 'NNS')], [('Thus', 'RB')], [('represent', 'NN')], [('spirit', 'NN')], [('change', 'NN')], [('truly', 'RB')], [('renewal', 'NN')], [('As', 'IN')], [('look', 'NN')], [('back', 'RB')], [('old', 'JJ')], [('principles', 'NNS')], [('find', 'VB')], [('timely', 'RB')], [('timeless', 'NN')], [('We', 'PRP')], [('believe', 'VB')], [('independence', 'NN')], [('self-reliance', 'NN')], [('creative', 'JJ')], [('value', 'NN')], [('competitive', 'JJ')], [('spirit', 'NN')], [('We', 'PRP')], [('believe', 'VB')], [('full', 'JJ')], [('equal', 'JJ')], [('opportunity', 'NN')], [('Americans', 'NNS')], [('protection', 'NN')], [('individual', 'JJ')], [('rights', 'NNS')], [('liberties', 'NNS')], [('We', 'PRP')], [('believe', 'VB')], [('family', 'NN')], [('keystone', 'NN')], [('community', 'NN')], [('community', 'NN')], [('keystone', 'NN')], [('Nation', 'NN')], [('We', 'PRP')], [('believe', 'VB')], [('compassion', 'NN')], [('toward', 'IN')], [('need', 'NN')], [('We', 'PRP')], [('believe', 'VB')], [('system', 'NN')], [('law', 'NN')], [('justice', 'NN')], [('order', 'NN')], [('basis', 'NN')], [('genuinely', 'RB')], [('free', 'JJ')], [('society', 'NN')], [('We', 'PRP')], [('believe', 'VB')], [('person', 'NN')], [('get', 'VB')], [('works', 'NNS')], [('for�Xand', 'NN')], [('work', 'NN')], [('for�Xand', 'NN')], [('work', 'NN')], [('get', 'VB')], [('We', 'PRP')], [('believe', 'VB')], [('capacity', 'NN')], [('people', 'NNS')], [('make', 'VB')], [('decisions', 'NNS')], [('lives', 'NNS')], [('communities�Xand', 'NN')], [('believe', 'VB')], [('right', 'NN')], [('make', 'VB')], [('decisions', 'NNS')], [('In', 'IN')], [('applying', 'VBG')], [('principles', 'NNS')], [('done', 'VBN')], [('full', 'JJ')], [('understanding', 'VBG')], [('seek', 'NN')], [('seventies', 'NNS')], [('quest', 'NN')], [('merely', 'RB')], [('better�Xfor', 'NN')], [('better', 'RBR')], [('quality', 'NN')], [('life', 'NN')], [('Americans', 'NNS')], [('Thus', 'RB')], [('example', 'NN')], [('giving', 'VBG')], [('new', 'JJ')], [('measure', 'NN')], [('attention', 'NN')], [('cleaning', 'NN')], [('air', 'NN')], [('water', 'NN')], [('making', 'VBG')], [('surroundings', 'NNS')], [('attractive', 'JJ')], [('We', 'PRP')], [('providing', 'VBG')], [('broader', 'NN')], [('support', 'NN')], [('arts', 'NNS')], [('helping', 'VBG')], [('stimulate', 'NN')], [('deeper', 'NN')], [('appreciation', 'NN')], [('contribute', 'NN')], [('Nation��s', 'NN')], [('activities', 'NNS')], [('individual', 'JJ')], [('lives', 'NNS')], [('But', 'CC')], [('nothing', 'NN')], [('really', 'RB')], [('matters', 'NNS')], [('quality', 'NN')], [('lives', 'NNS')], [('way', 'NN')], [('treat', 'NN')], [('one', 'CD')], [('another', 'DT')], [('capacity', 'NN')], [('live', 'JJ')], [('respectfully', 'RB')], [('together', 'RB')], [('unified', 'JJ')], [('society', 'NN')], [('full', 'JJ')], [('generous', 'JJ')], [('regard', 'NN')], [('rights', 'NNS')], [('others', 'NNS')], [('also', 'RB')], [('feelings', 'NNS')], [('others', 'NNS')], [('As', 'IN')], [('recover', 'NN')], [('turmoil', 'NN')], [('violence', 'NN')], [('recent', 'JJ')], [('years', 'NNS')], [('learn', 'NN')], [('speak', 'NN')], [('one', 'CD')], [('another', 'DT')], [('instead', 'RB')], [('shouting', 'VBG')], [('one', 'CD')], [('another', 'DT')], [('regaining', 'VBG')], [('capacity', 'NN')], [('As', 'IN')], [('customary', 'JJ')], [('occasion', 'NN')], [('I', 'PRP')], [('talking', 'VBG')], [('programs', 'NNS')], [('Programs', 'NNS')], [('important', 'JJ')], [('But', 'CC')], [('even', 'RB')], [('important', 'JJ')], [('programs', 'NNS')], [('Nation�Xwhat', 'RB')], [('mean', 'NN')], [('Nation', 'NN')], [('world', 'NN')], [('In', 'IN')], [('New', 'NNP')], [('York', 'NNP')], [('Harbor', 'NN')], [('stands', 'NNS')], [('one', 'CD')], [('famous', 'JJ')], [('statues', 'NNS')], [('world�Xthe', 'NN')], [('Statue', 'NN')], [('Liberty', 'NN')], [('gift', 'NN')], [('1886', 'CD')], [('people', 'NNS')], [('France', 'NNP')], [('people', 'NNS')], [('United', 'NNP')], [('States', 'NNS')], [('This', 'DT')], [('statue', 'NN')], [('landmark', 'NN')], [('symbol�Xa', 'NN')], [('symbol', 'NN')], [('America', 'NNP')], [('meant', 'NN')], [('world', 'NN')], [('It', 'PRP')], [('reminds', 'NNS')], [('us', 'PRP')], [('America', 'NNP')], [('meant', 'NN')], [('wealth', 'NN')], [('power', 'NN')], [('spirit', 'NN')], [('purpose�Xa', 'NN')], [('land', 'NN')], [('enshrines', 'NNS')], [('liberty', 'NN')], [('opportunity', 'NN')], [('held', 'NN')], [('hand', 'NN')], [('welcome', 'NN')], [('millions', 'NNS')], [('search', 'NN')], [('better', 'RBR')], [('fuller', 'NN')], [('freer', 'NN')], [('life', 'NN')], [('The', 'DT')], [('world��s', 'NN')], [('hopes', 'NNS')], [('poured', 'VBN')], [('America', 'NNP')], [('along', 'IN')], [('people', 'NNS')], [('And', 'CC')], [('hopes', 'NNS')], [('dreams', 'NNS')], [('brought', 'NN')], [('every', 'DT')], [('corner', 'NN')], [('world', 'NN')], [('become', 'NN')], [('part', 'NN')], [('hope', 'NN')], [('hold', 'NN')], [('world', 'NN')], [('Four', 'CD')], [('years', 'NNS')], [('America', 'NNP')], [('celebrate', 'NN')], [('200th', 'JJ')], [('anniversary', 'NN')], [('founding', 'VBG')], [('Nation', 'NN')], [('There', 'EX')], [('say', 'VB')], [('old', 'JJ')], [('Spirit', 'NN')], [('��76', 'NN')], [('dead�Xthat', 'NN')], [('longer', 'NN')], [('strength', 'NN')], [('character', 'NN')], [('idealism', 'NN')], [('faith', 'NN')], [('founding', 'VBG')], [('purposes', 'NNS')], [('spirit', 'NN')], [('represents', 'VBZ')], [('Those', 'DT')], [('say', 'VB')], [('know', 'VB')], [('America', 'NNP')], [('We', 'PRP')], [('undergoing', 'VBG')], [('self-doubts', 'NNS')], [('self-criticism', 'NN')], [('But', 'CC')], [('side', 'NN')], [('growing', 'VBG')], [('sensitivity', 'NN')], [('persistence', 'NN')], [('want', 'NN')], [('midst', 'NN')], [('plenty', 'NN')], [('impatience', 'NN')], [('slowness', 'NN')], [('age-old', 'JJ')], [('ills', 'NNS')], [('overcome', 'NN')], [('If', 'IN')], [('indifferent', 'NN')], [('shortcomings', 'NNS')], [('society', 'NN')], [('complacent', 'NN')], [('institutions', 'NNS')], [('blind', 'NN')], [('lingering', 'VBG')], [('inequities�Xthen', 'NN')], [('would', 'MD')], [('lost', 'VBN')], [('way', 'NN')], [('But', 'CC')], [('fact', 'NN')], [('concerns', 'NNS')], [('evidence', 'NN')], [('ideals', 'NNS')], [('deep', 'NN')], [('still', 'RB')], [('strong', 'JJ')], [('Indeed', 'RB')], [('remind', 'NN')], [('us', 'PRP')], [('really', 'RB')], [('best', 'JJS')], [('America', 'NNP')], [('compassion', 'NN')], [('They', 'PRP')], [('remind', 'NN')], [('us', 'PRP')], [('final', 'JJ')], [('analysis', 'NN')], [('America', 'NNP')], [('great', 'JJ')], [('rich', 'JJ')], [('good', 'JJ')], [('country', 'NN')], [('Let', 'VB')], [('us', 'PRP')], [('reject', 'NN')], [('narrow', 'NN')], [('visions', 'NNS')], [('would', 'MD')], [('tell', 'NN')], [('us', 'PRP')], [('evil', 'NN')], [('yet', 'RB')], [('perfect', 'NN')], [('corrupt', 'NN')], [('yet', 'RB')], [('pure', 'NN')], [('sweat', 'NN')], [('trial', 'NN')], [('sacrifice', 'NN')], [('gone', 'VBN')], [('building', 'NN')], [('America', 'NNP')], [('naught', 'NN')], [('building', 'NN')], [('yet', 'RB')], [('done', 'VBN')], [('Let', 'VB')], [('us', 'PRP')], [('see', 'VB')], [('path', 'NN')], [('traveling', 'VBG')], [('wide', 'JJ')], [('room', 'NN')], [('us', 'PRP')], [('direction', 'NN')], [('toward', 'IN')], [('better', 'RBR')], [('Nation', 'NN')], [('peaceful', 'NN')], [('world', 'NN')], [('Never', 'RB')], [('mattered', 'VBN')], [('go', 'VB')], [('forward', 'RB')], [('together', 'RB')], [('Look', 'VB')], [('Chamber', 'NNP')], [('The', 'DT')], [('leadership', 'NN')], [('America', 'NNP')], [('today�Xthe', 'NN')], [('Supreme', 'NNP')], [('Court', 'NNP')], [('Cabinet', 'NN')], [('Senate', 'NNP')], [('House', 'NNP')], [('Representatives', 'NNS')], [('Together', 'RB')], [('hold', 'NN')], [('future', 'NN')], [('Nation', 'NN')], [('conscience', 'NN')], [('Nation', 'NN')], [('hands', 'NNS')], [('Because', 'IN')], [('year', 'NN')], [('election', 'NN')], [('year', 'NN')], [('time', 'NN')], [('great', 'JJ')], [('pressure', 'NN')], [('If', 'IN')], [('yield', 'NN')], [('pressure', 'NN')], [('fail', 'NN')], [('deal', 'NN')], [('seriously', 'RB')], [('historic', 'NN')], [('challenges', 'NNS')], [('face', 'NN')], [('failed', 'VBD')], [('trust', 'NN')], [('millions', 'NNS')], [('Americans', 'NNS')], [('shaken', 'NNS')], [('confidence', 'NN')], [('right', 'NN')], [('place', 'NN')], [('us', 'PRP')], [('Government', 'NN')], [('Never', 'RB')], [('Congress', 'NNP')], [('greater', 'JJR')], [('opportunity', 'NN')], [('leave', 'VB')], [('legacy', 'NN')], [('profound', 'NN')], [('constructive', 'NN')], [('reform', 'NN')], [('Nation', 'NN')], [('Congress', 'NNP')], [('If', 'IN')], [('succeed', 'VB')], [('tasks', 'NNS')], [('credit', 'NN')], [('enough', 'RB')], [('all�Xnot', 'NN')], [('right', 'NN')], [('right', 'NN')], [('way', 'NN')], [('rising', 'VBG')], [('partisan', 'NN')], [('interest', 'NN')], [('serve', 'NN')], [('national', 'JJ')], [('interest', 'NN')], [('And', 'CC')], [('fail', 'NN')], [('one', 'CD')], [('us', 'PRP')], [('America', 'NNP')], [('loser', 'NN')], [('That', 'DT')], [('call', 'NN')], [('upon', 'IN')], [('Congress', 'NNP')], [('today', 'NN')], [('high', 'JJ')], [('statesmanship', 'NN')], [('years', 'NNS')], [('come', 'VB')], [('Americans', 'NNS')], [('look', 'NN')], [('back', 'RB')], [('say', 'VB')], [('withstood', 'NN')], [('intense', 'NN')], [('pressures', 'NNS')], [('political', 'JJ')], [('year', 'NN')], [('achieved', 'VBN')], [('great', 'JJ')], [('good', 'JJ')], [('American', 'JJ')], [('people', 'NNS')], [('future', 'NN')], [('Nation', 'NN')], [('truly', 'RB')], [('great', 'JJ')], [('Congress', 'NNP')], [('NOTE', 'NN')], [('The', 'DT')], [('President', 'NNP')], [('spoke', 'NN')], [('12:34', 'CD')], [('p.m.', 'NN')], [('House', 'NNP')], [('Chamber', 'NNP')], [('Capitol', 'NN')], [('introduced', 'VBN')], [('Carl', 'NNP')], [('Albert', 'NNP')], [('Speaker', 'NN')], [('House', 'NNP')], [('Representatives', 'NNS')], [('The', 'DT')], [('address', 'NN')], [('broadcast', 'NN')], [('live', 'JJ')], [('radio', 'NN')], [('television', 'NN')], [('The', 'DT')], [('President', 'NNP')], [('spoke', 'NN')], [('prepared', 'JJ')], [('text', 'NN')], [('An', 'DT')], [('advance', 'NN')], [('text', 'NN')], [('address', 'NN')], [('released', 'VBN')], [('day', 'NN')]]\n"
          ]
        }
      ]
    },
    {
      "cell_type": "code",
      "metadata": {
        "colab": {
          "base_uri": "https://localhost:8080/"
        },
        "id": "EAeAoCZRg9ai",
        "outputId": "f341b744-b12c-4777-dc55-eb34c916e78a"
      },
      "source": [
        "%time\n",
        "text_Freq = filtered_data.flatMap(lambda x : nltk.FreqDist(x.split(\",\")).most_common())\\\n",
        "            .map(lambda x: x)\\\n",
        "            .reduceByKey(lambda x,y : x+y)\\\n",
        "            .sortBy(lambda x: x[1], ascending = False)\n",
        "topcommon_data = text_Freq.take(100) #take first 100 most common words\n",
        "print(topcommon_data)"
      ],
      "execution_count": 35,
      "outputs": [
        {
          "output_type": "stream",
          "name": "stdout",
          "text": [
            "CPU times: user 2 µs, sys: 1e+03 ns, total: 3 µs\n",
            "Wall time: 5.01 µs\n",
            "[('I', 31), ('We', 26), ('new', 23), ('Congress', 22), ('The', 20), ('America', 19), ('Nation', 18), ('years', 16), ('us', 16), ('year', 16), ('world', 16), ('great', 14), ('But', 13), ('one', 13), ('meet', 13), ('As', 11), ('American', 10), ('help', 10), ('must', 9), ('--', 9), ('believe', 9), ('also', 9), ('President', 8), ('full', 8), ('Federal', 8), ('war', 8), ('goal', 8), ('peace', 8), ('proposals', 8), ('toward', 7), ('first', 7), ('today', 7), ('They', 7), ('still', 7), ('look', 7), ('time', 7), ('Our', 7), ('people', 7), ('policy', 6), ('action', 6), ('make', 6), ('Now', 6), ('technology', 6), ('program', 6), ('future', 6), ('property', 6), ('Americans', 6), ('would', 6), ('capacity', 6), ('others', 6), ('differences', 6), ('And', 6), ('shall', 6), ('problems', 6), ('rising', 5), ('spirit', 5), ('improve', 5), ('schools', 5), ('change', 5), ('1972', 5), ('freedom', 5), ('back', 5), ('life', 5), ('lives', 5), ('taxes', 5), ('making', 5), ('tax', 5), ('session', 5), ('In', 5), ('good', 5), ('progress', 5), ('say', 5), ('use', 5), ('yet', 5), ('include', 5), ('national', 5), ('ago', 4), ('foreign', 4), ('It', 4), ('know', 4), ('let', 4), ('become', 4), ('live', 4), ('right', 4), ('There', 4), ('done', 4), ('health', 4), ('Union', 4), ('�', 4), ('never', 4), ('interest', 4), ('decades', 4), ('rate', 4), ('nations', 4), ('spending', 4), ('research', 4), ('opportunity', 4), ('work', 4), ('school', 4), ('Chamber', 4)]\n"
          ]
        }
      ]
    },
    {
      "cell_type": "code",
      "metadata": {
        "colab": {
          "base_uri": "https://localhost:8080/"
        },
        "id": "fdA22ZTzhHd7",
        "outputId": "d3b9b2f0-4869-456b-c280-ab7248534479"
      },
      "source": [
        "%time\n",
        "bigrams = rdd.map(lambda s : s.split(\" \"))\\\n",
        "             .flatMap(lambda s: [((s[i],s[i+1]),1) for i in range (0, len(s)-1)])\\\n",
        "             .map(lambda x: x)\\\n",
        "             .reduceByKey(lambda x,y : x+y)\\\n",
        "             .sortBy(lambda x: x[1], ascending = False)\n",
        "bigrams.collect()"
      ],
      "execution_count": 36,
      "outputs": [
        {
          "output_type": "stream",
          "name": "stdout",
          "text": [
            "CPU times: user 4 µs, sys: 0 ns, total: 4 µs\n",
            "Wall time: 7.39 µs\n"
          ]
        },
        {
          "output_type": "execute_result",
          "data": {
            "text/plain": [
              "[(('', ''), 100),\n",
              " (('of', 'the'), 43),\n",
              " (('in', 'the'), 34),\n",
              " (('to', 'the'), 22),\n",
              " (('for', 'the'), 15),\n",
              " (('will', 'be'), 12),\n",
              " (('', 'We'), 12),\n",
              " (('', 'The'), 12),\n",
              " (('we', 'are'), 11),\n",
              " (('I', 'have'), 10),\n",
              " (('that', 'we'), 9),\n",
              " (('have', 'been'), 9),\n",
              " (('of', 'our'), 9),\n",
              " (('the', 'Congress'), 9),\n",
              " (('', 'I'), 8),\n",
              " (('', 'As'), 8),\n",
              " (('in', 'this'), 8),\n",
              " (('and', 'to'), 7),\n",
              " (('', 'Our'), 7),\n",
              " (('a', 'new'), 7),\n",
              " (('the', 'world.'), 7),\n",
              " (('believe', 'in'), 7),\n",
              " (('We', 'believe'), 7),\n",
              " (('on', 'the'), 7),\n",
              " (('of', 'this'), 7),\n",
              " (('with', 'the'), 7),\n",
              " (('and', 'the'), 7),\n",
              " (('those', 'who'), 7),\n",
              " (('of', 'a'), 7),\n",
              " (('as', 'the'), 7),\n",
              " (('has', 'been'), 6),\n",
              " (('we', 'have'), 6),\n",
              " (('as', 'a'), 6),\n",
              " (('in', 'their'), 6),\n",
              " (('which', 'I'), 6),\n",
              " (('be', 'the'), 6),\n",
              " (('is', 'not'), 6),\n",
              " (('the', 'Nation'), 6),\n",
              " (('to', 'meet'), 6),\n",
              " (('will', 'help'), 6),\n",
              " (('can', 'be'), 5),\n",
              " (('As', 'we'), 5),\n",
              " (('are', 'not'), 5),\n",
              " (('--We', 'will'), 5),\n",
              " (('more', 'than'), 5),\n",
              " (('it', 'is'), 5),\n",
              " (('because', 'of'), 5),\n",
              " (('we', 'can'), 5),\n",
              " (('to', 'improve'), 5),\n",
              " (('session', 'of'), 5),\n",
              " (('', 'In'), 5),\n",
              " (('to', 'be'), 4),\n",
              " (('that', 'the'), 4),\n",
              " (('all', 'of'), 4),\n",
              " (('in', 'our'), 4),\n",
              " (('the', 'new'), 4),\n",
              " (('we', 'will'), 4),\n",
              " (('us', 'that'), 4),\n",
              " (('the', 'first'), 4),\n",
              " (('I', 'shall'), 4),\n",
              " (('the', 'national'), 4),\n",
              " (('progress', 'in'), 4),\n",
              " (('rate', 'of'), 4),\n",
              " (('goal', 'of'), 4),\n",
              " (('we', 'look'), 4),\n",
              " (('before', 'the'), 4),\n",
              " (('Let', 'us'), 4),\n",
              " (('the', 'highest'), 4),\n",
              " (('help', 'meet'), 4),\n",
              " (('', 'They'), 4),\n",
              " (('one', 'of'), 4),\n",
              " (('of', 'great'), 4),\n",
              " (('they', 'are'), 4),\n",
              " (('for', 'American'), 4),\n",
              " (('with', 'a'), 3),\n",
              " (('capacity', 'of'), 3),\n",
              " (('the', 'same'), 3),\n",
              " (('to', 'our'), 3),\n",
              " (('life', 'for'), 3),\n",
              " (('for', 'all'), 3),\n",
              " (('the', 'United'), 3),\n",
              " (('which', 'have'), 3),\n",
              " (('the', 'capacity'), 3),\n",
              " (('that', 'have'), 3),\n",
              " (('into', 'the'), 3),\n",
              " (('the', 'American'), 3),\n",
              " (('people', 'of'), 3),\n",
              " (('what', 'we'), 3),\n",
              " (('all', 'the'), 3),\n",
              " (('there', 'is'), 3),\n",
              " (('us', 'join'), 3),\n",
              " (('join', 'in'), 3),\n",
              " (('this', 'Congress'), 3),\n",
              " (('years', 'of'), 3),\n",
              " (('the', 'burden'), 3),\n",
              " (('it', 'will'), 3),\n",
              " (('the', 'people'), 3),\n",
              " (('that', 'what'), 3),\n",
              " (('a', 'better'), 3),\n",
              " (('our', 'goal'), 3),\n",
              " (('burden', 'of'), 3),\n",
              " (('meet', 'the'), 3),\n",
              " (('to', 'defend'), 3),\n",
              " (('We', 'have'), 3),\n",
              " (('look', 'back'), 3),\n",
              " (('never', 'been'), 3),\n",
              " (('been', 'used'), 3),\n",
              " (('only', 'to'), 3),\n",
              " (('is', 'a'), 3),\n",
              " (('their', 'own'), 3),\n",
              " (('', 'If'), 3),\n",
              " (('If', 'we'), 3),\n",
              " (('not', 'yet'), 3),\n",
              " (('the', 'House'), 3),\n",
              " (('let', 'us'), 3),\n",
              " (('the', 'most'), 3),\n",
              " (('the', 'Federal'), 3),\n",
              " (('we', 'must'), 3),\n",
              " (('America', 'has'), 3),\n",
              " (('it', 'by'), 3),\n",
              " (('quality', 'of'), 3),\n",
              " (('that', 'I'), 3),\n",
              " (('Congress', 'to'), 3),\n",
              " (('time', 'in'), 3),\n",
              " (('used', 'to'), 3),\n",
              " (('', 'Now,'), 3),\n",
              " (('meet', 'it'), 3),\n",
              " (('at', 'the'), 3),\n",
              " (('America', 'is'), 3),\n",
              " (('first', 'time'), 2),\n",
              " (('80th', 'Congress,'), 2),\n",
              " (('any', 'one'), 2),\n",
              " (('and', 'on'), 2),\n",
              " (('in', 'making'), 2),\n",
              " (('interests', 'of'), 2),\n",
              " (('election', 'year,'), 2),\n",
              " (('and', 'also'), 2),\n",
              " (('92d', 'congress'), 2),\n",
              " (('could', 'be'), 2),\n",
              " (('increase', 'in'), 2),\n",
              " (('need', 'to'), 2),\n",
              " (('', 'And'), 2),\n",
              " (('will', 'not'), 2),\n",
              " (('of', 'man.'), 2),\n",
              " (('from', 'the'), 2),\n",
              " (('jobs', 'for'), 2),\n",
              " (('of', 'America��s'), 2),\n",
              " (('a', 'special'), 2),\n",
              " (('to', 'compete'), 2),\n",
              " (('the', 'world��s'), 2),\n",
              " (('for', 'those'), 2),\n",
              " (('faith', 'in'), 2),\n",
              " (('of', 'these'), 2),\n",
              " (('year', 'of'), 2),\n",
              " (('Nation', 'and'), 2),\n",
              " (('and', 'for'), 2),\n",
              " (('have', 'become'), 2),\n",
              " (('and', 'they'), 2),\n",
              " (('leadership', 'of'), 2),\n",
              " (('with', 'which'), 2),\n",
              " (('That', 'is'), 2),\n",
              " (('the', 'keystone'), 2),\n",
              " (('that', 'those'), 2),\n",
              " (('one', 'another,'), 2),\n",
              " (('and', 'a'), 2),\n",
              " (('because', 'it'), 2),\n",
              " (('', 'Let'), 2),\n",
              " (('the', 'State'), 2),\n",
              " (('the', 'Congress,'), 2),\n",
              " (('the', 'President'), 2),\n",
              " (('United', 'States.'), 2),\n",
              " (('differences', 'with'), 2),\n",
              " (('to', 'put'), 2),\n",
              " (('There', 'are'), 2),\n",
              " (('not', 'only'), 2),\n",
              " (('', 'There'), 2),\n",
              " (('would', 'not'), 2),\n",
              " (('Congress', 'today'), 2),\n",
              " (('have', 'asked'), 2),\n",
              " (('I', 'am'), 2),\n",
              " (('the', 'Nation,'), 2),\n",
              " (('action', 'by'), 2),\n",
              " (('Nation', 'was'), 2),\n",
              " (('in', 'a'), 2),\n",
              " (('that', 'goal,'), 2),\n",
              " (('we', 'find'), 2),\n",
              " (('there', 'can'), 2),\n",
              " (('research', 'and'), 2),\n",
              " (('meet', 'any'), 2),\n",
              " (('new', 'realities'), 2),\n",
              " (('will', 'use'), 2),\n",
              " (('our', 'influence'), 2),\n",
              " (('helping', 'to'), 2),\n",
              " (('who', 'have'), 2),\n",
              " (('to', 'live'), 2),\n",
              " (('our', 'power'), 2),\n",
              " (('able', 'to'), 2),\n",
              " (('than', 'any'), 2),\n",
              " (('it;', 'never'), 2),\n",
              " (('to', 'revitalize'), 2),\n",
              " (('the', 'quality'), 2),\n",
              " (('of', 'life'), 2),\n",
              " (('of', 'Federal'), 2),\n",
              " (('possible', 'for'), 2),\n",
              " (('decades', 'ahead.'), 2),\n",
              " (('an', 'investment'), 2),\n",
              " (('We', 'are'), 2),\n",
              " (('have', 'done'), 2),\n",
              " (('can,', 'should'), 2),\n",
              " (('of', 'what'), 2),\n",
              " (('remind', 'us'), 2),\n",
              " (('of', 'us,'), 2),\n",
              " (('of', 'Representatives.'), 2),\n",
              " (('future', 'of'), 2),\n",
              " (('State', 'of'), 2),\n",
              " (('President', 'of'), 2),\n",
              " (('had', 'some'), 2),\n",
              " (('by', 'the'), 2),\n",
              " (('is', 'an'), 2),\n",
              " (('on', 'some'), 2),\n",
              " (('us', 'have'), 2),\n",
              " (('not', 'be'), 2),\n",
              " (('this', 'is'), 2),\n",
              " (('within', 'the'), 2),\n",
              " (('finance,', 'and'), 2),\n",
              " (('a', 'time'), 2),\n",
              " (('Federal', 'Government'), 2),\n",
              " (('this', 'year'), 2),\n",
              " (('set', 'of'), 2),\n",
              " (('share', 'of'), 2),\n",
              " (('our', 'treaty'), 2),\n",
              " (('the', 'future.'), 2),\n",
              " (('use', 'of'), 2),\n",
              " (('equal', 'opportunity'), 2),\n",
              " (('proposals', 'that'), 2),\n",
              " (('local', 'property'), 2),\n",
              " (('financing', 'for'), 2),\n",
              " (('', 'That'), 2),\n",
              " (('for�Xand', 'that'), 2),\n",
              " (('what', 'they'), 2),\n",
              " (('', 'But'), 2),\n",
              " (('has', 'meant'), 2),\n",
              " (('America', 'will'), 2),\n",
              " (('', 'Never'), 2),\n",
              " (('the', 'future'), 2),\n",
              " (('The', 'President'), 2),\n",
              " (('Court,', 'the'), 2),\n",
              " (('of', 'all'), 2),\n",
              " (('national', 'interest.'), 2),\n",
              " (('good', 'for'), 2),\n",
              " (('the', 'political'), 2),\n",
              " (('history', 'of'), 2),\n",
              " (('that', 'are'), 2),\n",
              " (('differences.', 'But'), 2),\n",
              " (('presented', 'to'), 2),\n",
              " (('where', 'the'), 2),\n",
              " (('which', 'are'), 2),\n",
              " (('time', 'of'), 2),\n",
              " (('the', 'year'), 2),\n",
              " (('of', 'arms.'), 2),\n",
              " (('the', 'future,'), 2),\n",
              " (('the', 'strength'), 2),\n",
              " (('that', 'is'), 2),\n",
              " (('realities', 'of'), 2),\n",
              " (('around', 'the'), 2),\n",
              " (('use', 'our'), 2),\n",
              " (('to', 'have'), 2),\n",
              " (('done', 'in'), 2),\n",
              " (('destroy', 'freedom,'), 2),\n",
              " (('of', 'inflation'), 2),\n",
              " (('employment', 'in'), 2),\n",
              " (('revitalize', 'rural'), 2),\n",
              " (('program', 'of'), 2),\n",
              " (('it', 'possible'), 2),\n",
              " (('', 'This'), 2),\n",
              " (('opportunity', 'for'), 2),\n",
              " (('also', 'include'), 2),\n",
              " (('is', 'to'), 2),\n",
              " (('support', 'for'), 2),\n",
              " (('include', 'a'), 2),\n",
              " (('laid', 'before'), 2),\n",
              " (('been', 'before'), 2),\n",
              " (('of', 'financing'), 2),\n",
              " (('years', 'from'), 2),\n",
              " (('rooted', 'in'), 2),\n",
              " (('principles,', 'we'), 2),\n",
              " (('keystone', 'of'), 2),\n",
              " (('who', 'can,'), 2),\n",
              " (('should', 'work'), 2),\n",
              " (('right', 'to'), 2),\n",
              " (('who', 'say'), 2),\n",
              " (('of', 'America'), 2),\n",
              " (('the', 'Congress.'), 2),\n",
              " (('years', 'ago'), 2),\n",
              " (('Senate,', 'the'), 2),\n",
              " (('foreign', 'policy'), 2),\n",
              " (('be', 'a'), 2),\n",
              " (('the', 'Nation.'), 2),\n",
              " (('have', 'presented'), 2),\n",
              " (('on', 'which'), 2),\n",
              " (('proposals', 'which'), 2),\n",
              " (('as', 'we'), 2),\n",
              " (('not', 'to'), 2),\n",
              " (('in', 'these'), 2),\n",
              " (('instead', 'of'), 2),\n",
              " (('The', 'rate'), 2),\n",
              " (('to', 'build'), 2),\n",
              " (('build', 'a'), 2),\n",
              " (('of', 'peace.'), 2),\n",
              " (('the', 'need'), 2),\n",
              " (('been', 'brought'), 2),\n",
              " (('future,', 'we'), 2),\n",
              " (('the', 'Soviet'), 2),\n",
              " (('the', 'coming'), 2),\n",
              " (('other', 'nations'), 2),\n",
              " (('up', 'the'), 2),\n",
              " (('spirit', 'of'), 2),\n",
              " (('to', 'destroy'), 2),\n",
              " (('freedom,', 'only'), 2),\n",
              " (('been', 'rising.'), 2),\n",
              " (('', 'It'), 2),\n",
              " (('this', 'was'), 2),\n",
              " (('that', 'will'), 2),\n",
              " (('health', 'care'), 2),\n",
              " (('for', 'our'), 2),\n",
              " (('They', 'include'), 2),\n",
              " (('so', 'that'), 2),\n",
              " (('for', 'nearly'), 2),\n",
              " (('property', 'taxes'), 2),\n",
              " (('of', 'school'), 2),\n",
              " (('and', 'I'), 2),\n",
              " (('are', 'as'), 2),\n",
              " (('what', 'America'), 2),\n",
              " (('not', 'its'), 2),\n",
              " (('and', 'that'), 2),\n",
              " (('the', 'building'), 2),\n",
              " (('House', 'of'), 2),\n",
              " (('President', 'spoke'), 2),\n",
              " (('Supreme', 'Court,'), 2),\n",
              " (('upon', 'the'), 2),\n",
              " (('25', 'years'), 2),\n",
              " (('in', 'which'), 2),\n",
              " (('have', 'our'), 2),\n",
              " (('must', 'be'), 2),\n",
              " (('to', 'point'), 2),\n",
              " (('The', 'Nation'), 2),\n",
              " (('that', 'this'), 2),\n",
              " (('spending', 'on'), 2),\n",
              " (('are', 'the'), 2),\n",
              " (('be', 'no'), 2),\n",
              " (('of', 'defending'), 2),\n",
              " (('influence', 'to'), 2),\n",
              " (('of', 'those'), 2),\n",
              " (('have', 'great'), 2),\n",
              " (('if', 'we'), 2),\n",
              " (('this', 'century,'), 2),\n",
              " (('us,', 'in'), 2),\n",
              " (('a', 'good'), 2),\n",
              " (('full', 'employment'), 2),\n",
              " (('meet', 'that'), 2),\n",
              " (('the', 'decades'), 2),\n",
              " (('help', 'themselves,'), 2),\n",
              " (('the', 'other'), 2),\n",
              " (('a', 'year'), 2),\n",
              " (('property', 'tax'), 2),\n",
              " (('is', 'what'), 2),\n",
              " (('Americans', 'and'), 2),\n",
              " (('and', 'in'), 2),\n",
              " (('to', 'make'), 2),\n",
              " (('what', 'is'), 2),\n",
              " (('that', 'in'), 2),\n",
              " (('because', 'we'), 2),\n",
              " (('Never', 'has'), 2),\n",
              " (('address', 'was'), 2),\n",
              " (('January', '20,'), 1),\n",
              " (('Mr.', 'President,'), 1),\n",
              " (('our', 'distinguished'), 1),\n",
              " (('guests,', 'my'), 1),\n",
              " (('fellow', 'Americans:'), 1),\n",
              " (('freshman', 'Congressman�Xalong'), 1),\n",
              " (('the', 'diplomatic'), 1),\n",
              " (('Cabinet', 'entered'), 1),\n",
              " (('Chamber,', 'and'), 1),\n",
              " (('he', 'spoke'), 1),\n",
              " (('a', 'partisan,'), 1),\n",
              " (('as', 'President'), 1),\n",
              " (('put', 'aside'), 1),\n",
              " (('aside', 'partisan'), 1),\n",
              " (('partisan', 'considerations'), 1),\n",
              " (('the', 'great'), 1),\n",
              " (('over', '25'), 1),\n",
              " (('by', 'a'), 1),\n",
              " (('bipartisan', 'majority'), 1),\n",
              " (('hundred', 'seventy-two'), 1),\n",
              " (('It', 'holds'), 1),\n",
              " (('holds', 'precious'), 1),\n",
              " (('to', 'accomplish'), 1),\n",
              " (('Nation.', 'We'), 1),\n",
              " (('political', 'pressures'), 1),\n",
              " (('be', 'great.'), 1),\n",
              " (('great.', 'There'), 1),\n",
              " (('are', 'more'), 1),\n",
              " (('more', 'candidates'), 1),\n",
              " (('probably', 'have'), 1),\n",
              " (('whole', 'history'), 1),\n",
              " (('of', 'opinion,'), 1),\n",
              " (('within', 'each'), 1),\n",
              " (('each', 'party,'), 1),\n",
              " (('some', 'domestic'), 1),\n",
              " (('', 'However,'), 1),\n",
              " (('However,', 'there'), 1),\n",
              " (('there', 'are'), 1),\n",
              " (('they', 'transcend'), 1),\n",
              " (('debates.', 'Let'), 1),\n",
              " (('But', 'let'), 1),\n",
              " (('does', 'not'), 1),\n",
              " (('any', 'person.'), 1),\n",
              " (('ample', 'precedent,'), 1),\n",
              " (('precedent,', 'in'), 1),\n",
              " (('year,', 'for'), 1),\n",
              " (('me', 'to'), 1),\n",
              " (('well', 'that'), 1),\n",
              " (('if', 'you'), 1),\n",
              " (('worked', 'night'), 1),\n",
              " (('a', 'message'), 1),\n",
              " (('stands', 'and'), 1),\n",
              " (('specific', 'legislative'), 1),\n",
              " (('proposed', 'in'), 1),\n",
              " (('is', 'essential'), 1),\n",
              " (('be', 'completed'), 1),\n",
              " (('not', 'presenting'), 1),\n",
              " (('of', 'passage.'), 1),\n",
              " (('to', 'enact,'), 1),\n",
              " (('budget', 'to'), 1),\n",
              " (('and', 'which'), 1),\n",
              " (('priorities', 'for'), 1),\n",
              " (('Congress', 'in'), 1),\n",
              " (('', 'When'), 1),\n",
              " (('office', 'on'), 1),\n",
              " (('ending', 'one'), 1),\n",
              " (('many', 'areas.'), 1),\n",
              " (('know,', 'they'), 1),\n",
              " (('cities,', 'of'), 1),\n",
              " (('and', 'disappointed,'), 1),\n",
              " (('to', 'violence'), 1),\n",
              " (('violence', 'and'), 1),\n",
              " (('a', 'century.'), 1),\n",
              " (('blame.', 'The'), 1),\n",
              " (('so', 'torn'), 1),\n",
              " (('governed', 'at'), 1),\n",
              " (('Nation', 'has'), 1),\n",
              " (('significant', 'progress'), 1),\n",
              " (('Our', 'colleges'), 1),\n",
              " (('and', 'universities'), 1),\n",
              " (('of', 'battlegrounds.'), 1),\n",
              " (('A', 'beginning'), 1),\n",
              " (('been', 'made'), 1),\n",
              " (('the', 'one'), 1),\n",
              " (('one', 'city'), 1),\n",
              " (('serious', 'crime'), 1),\n",
              " (('13', 'percent'), 1),\n",
              " (('percent', 'from'), 1),\n",
              " (('been', 'made,'), 1),\n",
              " (('today', 'that'), 1),\n",
              " (('1972', 'can'), 1),\n",
              " (('which', 'America'), 1),\n",
              " (('may', 'make'), 1),\n",
              " (('at', 'peace'), 1),\n",
              " (('with', 'all'), 1),\n",
              " (('As', 'our'), 1),\n",
              " (('in', 'Vietnam'), 1),\n",
              " (('must', 'now'), 1),\n",
              " (('generation', 'of'), 1),\n",
              " (('To', 'achieve'), 1),\n",
              " (('goal,', 'we'), 1),\n",
              " (('For', 'the'), 1),\n",
              " (('in', '20'), 1),\n",
              " (('human', 'resources.'), 1),\n",
              " (('on', 'limitation'), 1),\n",
              " (('looking', 'further'), 1),\n",
              " (('further', 'into'), 1),\n",
              " (('But', 'until'), 1),\n",
              " (('must', 'maintain'), 1),\n",
              " (('war.', ''), 1),\n",
              " (('rising', 'research'), 1),\n",
              " (('military', 'and'), 1),\n",
              " (('civilian', 'pay,'), 1),\n",
              " (('budget', 'for'), 1),\n",
              " (('defenses', 'are'), 1),\n",
              " (('not', 'the'), 1),\n",
              " (('enemy', 'of'), 1),\n",
              " (('guardians', 'of'), 1),\n",
              " (('There', 'could'), 1),\n",
              " (('weakening', 'America,'), 1),\n",
              " (('thereby', 'endanger'), 1),\n",
              " (('Kennedy', 'said'), 1),\n",
              " (('said', 'in'), 1),\n",
              " (('Inaugural', 'Address,'), 1),\n",
              " (('price,', 'bear'), 1),\n",
              " (('deliberately', 'adjusted'), 1),\n",
              " (('new', 'world'), 1),\n",
              " (('remains', 'strong'), 1),\n",
              " (('and', 'unshakable.'), 1),\n",
              " (('But', 'others'), 1),\n",
              " (('others', 'must'), 1),\n",
              " (('our', 'policy:'), 1),\n",
              " (('deterrent', 'adequate'), 1),\n",
              " (('help', 'other'), 1),\n",
              " (('develop', 'the'), 1),\n",
              " (('defending', 'themselves.'), 1),\n",
              " (('or', 'our'), 1),\n",
              " (('commitments', 'are'), 1),\n",
              " (('not', 'intervene'), 1),\n",
              " (('stop', 'it.'), 1),\n",
              " (('share', 'in'), 1),\n",
              " (('participated', 'in'), 1),\n",
              " (('in', 'it.'), 1),\n",
              " (('will', 'soon'), 1),\n",
              " (('visiting', 'the'), 1),\n",
              " (('same', 'planet'), 1),\n",
              " (('our', 'obligation'), 1),\n",
              " (('obligation', 'to'), 1),\n",
              " (('seize', 'this'), 1),\n",
              " (('talk', 'about'), 1),\n",
              " (('about', 'those'), 1),\n",
              " (('them,', 'in'), 1),\n",
              " (('back', 'over'), 1),\n",
              " (('in', 'foreign'), 1),\n",
              " (('more', 'generously'), 1),\n",
              " (('generously', 'of'), 1),\n",
              " (('toward', 'maintaining'), 1),\n",
              " (('maintaining', 'freedom,'), 1),\n",
              " (('freedom,', 'preserving'), 1),\n",
              " (('human', 'suffering'), 1),\n",
              " (('the', 'peace,'), 1),\n",
              " (('to', 'keep'), 1),\n",
              " (('keep', 'it;'), 1),\n",
              " (('defend', 'it.'), 1),\n",
              " (('reach', 'the'), 1),\n",
              " (('of', 'war.'), 1),\n",
              " (('are', 'making'), 1),\n",
              " (('progress', 'toward'), 1),\n",
              " (('', 'Industrial'), 1),\n",
              " (('Industrial', 'production,'), 1),\n",
              " (('Total', 'employment,'), 1),\n",
              " (('income', 'are'), 1),\n",
              " (('history.', 'New'), 1),\n",
              " (('homebuilding', 'starts'), 1),\n",
              " (('highest', 'level'), 1),\n",
              " (('Business', 'and'), 1),\n",
              " (('rates', 'are'), 1),\n",
              " (('are', 'down.'), 1),\n",
              " (('is', 'down.'), 1),\n",
              " (('with', 'confidence'), 1),\n",
              " (('the', 'back'), 1),\n",
              " (('good', 'enough�Xnot'), 1),\n",
              " (('when', 'we'), 1),\n",
              " (('have', 'an'), 1),\n",
              " (('point', 'out'), 1),\n",
              " (('2', 'million'), 1),\n",
              " (('men', 'released'), 1),\n",
              " (('Armed', 'Forces'), 1),\n",
              " (('wartime', 'jobs,'), 1),\n",
              " (('goal', 'in'), 1),\n",
              " (('is', 'full'), 1),\n",
              " (('has', 'helped'), 1),\n",
              " (('by', 'passing'), 1),\n",
              " (('The', 'historic'), 1),\n",
              " (('have', 'reached'), 1),\n",
              " (('and', 'Japan,'), 1),\n",
              " (('Our', 'budget'), 1),\n",
              " (('by', 'being'), 1),\n",
              " (('budget', 'that'), 1),\n",
              " (('help', 'take'), 1),\n",
              " (('gap', 'as'), 1),\n",
              " (('Our', 'program'), 1),\n",
              " (('to', 'raise'), 1),\n",
              " (('giving', 'to'), 1),\n",
              " (('farmers', 'their'), 1),\n",
              " (('also', 'will'), 1),\n",
              " (('stimulate', 'more'), 1),\n",
              " (('for', 'technological'), 1),\n",
              " (('American', 'technology'), 1),\n",
              " (('is', 'capable'), 1),\n",
              " (('come', 'to'), 1),\n",
              " (('move', 'more'), 1),\n",
              " (('more', 'deliberately'), 1),\n",
              " (('deliberately', 'toward'), 1),\n",
              " (('toward', 'making'), 1),\n",
              " (('here', 'on'), 1),\n",
              " (('special', 'message'), 1),\n",
              " (('and', 'developments�Xwith'), 1),\n",
              " (('incentives', 'to'), 1),\n",
              " (('research,', 'federally'), 1),\n",
              " (('projects', 'designed'), 1),\n",
              " (('ways', 'that'), 1),\n",
              " (('new', 'systems'), 1),\n",
              " (('of', 'emergency'), 1),\n",
              " (('care', 'that'), 1),\n",
              " (('lives', 'annually.'), 1),\n",
              " (('still', 'to'), 1),\n",
              " (('', 'Now'), 1),\n",
              " (('face', 'a'), 1),\n",
              " (('nations', 'move'), 1),\n",
              " (('a', 'wall'), 1),\n",
              " (('by', 'improving'), 1),\n",
              " (('monetary', 'and'), 1),\n",
              " (('fairly', 'in'), 1),\n",
              " (('world��s', 'markets�Xbut'), 1),\n",
              " (('The', 'new'), 1),\n",
              " (('might', 'otherwise'), 1),\n",
              " (('wasted.', 'It'), 1),\n",
              " (('from', 'abroad,'), 1),\n",
              " (('creating', 'more'), 1),\n",
              " (('second', 'session'), 1),\n",
              " (('congress', 'already'), 1),\n",
              " (('written', 'message'), 1),\n",
              " (('message', 'that'), 1),\n",
              " (('Congress', 'today.'), 1),\n",
              " (('They', 'include,'), 1),\n",
              " (('crime', 'and'), 1),\n",
              " (('and', 'drug'), 1),\n",
              " (('drug', 'abuse;'), 1),\n",
              " (('abuse;', 'to'), 1),\n",
              " (('protect', 'workers��'), 1),\n",
              " (('promote', 'equal'), 1),\n",
              " (('members', 'of'), 1),\n",
              " (('been', 'left'), 1),\n",
              " (('behind;', 'to'), 1),\n",
              " (('expand', 'consumer'), 1),\n",
              " (('in', 'education;'), 1),\n",
              " (('coast', 'dock'), 1),\n",
              " (('and', 'will'), 1),\n",
              " (('not', 'tolerate'), 1),\n",
              " (('tolerate', 'that'), 1),\n",
              " (('The', 'messages'), 1),\n",
              " (('be', 'adequate'), 1),\n",
              " (('include', 'reform'), 1),\n",
              " (('income', 'support'), 1),\n",
              " (('as', 'an'), 1),\n",
              " (('their', 'renewal,'), 1),\n",
              " (('investment', 'also'), 1),\n",
              " (('Government', 'so'), 1),\n",
              " (('efficient,', 'more'), 1),\n",
              " (('', 'One'), 1),\n",
              " (('six', 'great'), 1),\n",
              " (('nearly', '2'), 1),\n",
              " (('2', '1/2'), 1),\n",
              " (('government', 'reorganization,'), 1),\n",
              " (('reorganization,', 'health'), 1),\n",
              " (('the', 'environment'), 1),\n",
              " (('here', 'that'), 1),\n",
              " (('or', 'longer.'), 1),\n",
              " (('Now', 'let'), 1),\n",
              " (('one', 'pressing'), 1),\n",
              " (('and', 'secondary'), 1),\n",
              " (('because', 'property'), 1),\n",
              " (('doubled', 'in'), 1),\n",
              " (('discriminatory', 'of'), 1),\n",
              " (('the', 'retired;'), 1),\n",
              " (('problem', 'has'), 1),\n",
              " (('recent', 'court'), 1),\n",
              " (('', 'Nearly'), 1),\n",
              " (('to', 'study'), 1),\n",
              " (('study', 'the'), 1),\n",
              " (('also', 'directed'), 1),\n",
              " (('look', 'into'), 1),\n",
              " (('are', 'developing'), 1),\n",
              " (('developing', 'comprehensive'), 1),\n",
              " (('proposals', 'to'), 1),\n",
              " (('these', 'problems.'), 1),\n",
              " (('complex', 'and'), 1),\n",
              " (('sets', 'of'), 1),\n",
              " (('of', 'problems:'), 1),\n",
              " (('relationships', 'of'), 1),\n",
              " (('Treasury,', 'we'), 1),\n",
              " (('aspects,', 'and'), 1),\n",
              " (('Commission', 'on'), 1),\n",
              " (('bipartisan', 'Commission'), 1),\n",
              " (('to', 'review'), 1),\n",
              " (('our', 'proposals'), 1),\n",
              " (('the', 'gathering'), 1),\n",
              " (('and', 'property'), 1),\n",
              " (('the', 'year,'), 1),\n",
              " (('when', 'both'), 1),\n",
              " (('completed', 'their'), 1),\n",
              " (('recommendations', 'for'), 1),\n",
              " (('fair', 'and'), 1),\n",
              " (('', 'These'), 1),\n",
              " (('be', 'revolutionary.'), 1),\n",
              " (('recommendations,', 'however,'), 1),\n",
              " (('must', 'have'), 1),\n",
              " (('ahead', 'over'), 1),\n",
              " (('decades,', 'vast'), 1),\n",
              " (('dominant', 'reality'), 1),\n",
              " (('', 'Surveying'), 1),\n",
              " (('the', 'certainty'), 1),\n",
              " (('rider', 'caught'), 1),\n",
              " (('caught', 'in'), 1),\n",
              " (('stirrups�Xor', 'we'), 1),\n",
              " (('can', 'sit'), 1),\n",
              " (('the', 'masters'), 1),\n",
              " (('of', 'change,'), 1),\n",
              " (('it', 'on'), 1),\n",
              " (('on', 'a'), 1),\n",
              " (('secret', 'of'), 1),\n",
              " (('reach', 'back'), 1),\n",
              " (('back', 'to'), 1),\n",
              " (('to', 'old'), 1),\n",
              " (('proven', 'principles,'), 1),\n",
              " (('principles,', 'and'), 1),\n",
              " (('principles', 'that'), 1),\n",
              " (('enduring', 'as'), 1),\n",
              " (('new', 'conditions.'), 1),\n",
              " (('of', 'change'), 1),\n",
              " (('in', 'independence,'), 1),\n",
              " (('creative', 'value'), 1),\n",
              " (('value', 'of'), 1),\n",
              " (('in', 'full'), 1),\n",
              " (('of', 'individual'), 1),\n",
              " (('the', 'community,'), 1),\n",
              " (('community', 'as'), 1),\n",
              " (('in', 'compassion'), 1),\n",
              " (('and', 'order'), 1),\n",
              " (('a', 'genuinely'), 1),\n",
              " (('should', 'get'), 1),\n",
              " (('get', 'what'), 1),\n",
              " (('works', 'for�Xand'), 1),\n",
              " (('they', 'get.'), 1),\n",
              " (('own', 'lives,'), 1),\n",
              " (('communities�Xand', 'we'), 1),\n",
              " (('we', 'believe'), 1),\n",
              " (('applying', 'these'), 1),\n",
              " (('our', 'quest'), 1),\n",
              " (('better�Xfor', 'a'), 1),\n",
              " (('Thus,', 'for'), 1),\n",
              " (('giving', 'a'), 1),\n",
              " (('measure', 'of'), 1),\n",
              " (('more', 'attractive.'), 1),\n",
              " (('are', 'providing'), 1),\n",
              " (('they', 'can'), 1),\n",
              " (('can', 'contribute'), 1),\n",
              " (('matters', 'more'), 1),\n",
              " (('our', 'lives'), 1),\n",
              " (('way', 'we'), 1),\n",
              " (('society,', 'with'), 1),\n",
              " (('the', 'feelings'), 1),\n",
              " (('the', 'turmoil'), 1),\n",
              " (('and', 'violence'), 1),\n",
              " (('shouting', 'at'), 1),\n",
              " (('this', 'occasion,'), 1),\n",
              " (('about', 'programs.'), 1),\n",
              " (('programs', 'is'), 1),\n",
              " (('a', 'Nation�Xwhat'), 1),\n",
              " (('we', 'mean'), 1),\n",
              " (('famous', 'statues'), 1),\n",
              " (('the', 'world�Xthe'), 1),\n",
              " (('Liberty,', 'the'), 1),\n",
              " (('gift', 'in'), 1),\n",
              " (('statue', 'is'), 1),\n",
              " (('symbol', 'of'), 1),\n",
              " (('liberty', 'and'), 1),\n",
              " (('that', 'has'), 1),\n",
              " (('millions', 'in'), 1),\n",
              " (('search', 'of'), 1),\n",
              " (('better', 'and'), 1),\n",
              " (('all,', 'a'), 1),\n",
              " (('along', 'with'), 1),\n",
              " (('here', 'from'), 1),\n",
              " (('from', 'every'), 1),\n",
              " (('every', 'corner'), 1),\n",
              " (('hope', 'that'), 1),\n",
              " (('we', 'now'), 1),\n",
              " (('', 'Four'), 1),\n",
              " (('now,', 'America'), 1),\n",
              " (('will', 'celebrate'), 1),\n",
              " (('celebrate', 'the'), 1),\n",
              " (('founding', 'as'), 1),\n",
              " (('Nation.', 'There'), 1),\n",
              " (('Spirit', 'of'), 1),\n",
              " (('is', 'dead�Xthat'), 1),\n",
              " (('dead�Xthat', 'we'), 1),\n",
              " (('longer', 'have'), 1),\n",
              " (('of', 'character,'), 1),\n",
              " (('founding', 'purposes'), 1),\n",
              " (('that', 'that'), 1),\n",
              " (('this', 'do'), 1),\n",
              " (('self-doubts', 'and'), 1),\n",
              " (('these', 'are'), 1),\n",
              " (('sensitivity', 'to'), 1),\n",
              " (('persistence', 'of'), 1),\n",
              " (('our', 'impatience'), 1),\n",
              " (('impatience', 'with'), 1),\n",
              " (('or', 'complacent'), 1),\n",
              " (('institutions,', 'or'), 1),\n",
              " (('inequities�Xthen', 'we'), 1),\n",
              " (('would', 'have'), 1),\n",
              " (('concerns', 'is'), 1),\n",
              " (('that', 'our'), 1),\n",
              " (('our', 'ideals,'), 1),\n",
              " (('still', 'strong.'), 1),\n",
              " (('strong.', 'Indeed,'), 1),\n",
              " (('they', 'remind'), 1),\n",
              " (('is', 'really'), 1),\n",
              " (('the', 'final'), 1),\n",
              " (('analysis,', 'America'), 1),\n",
              " (('not', 'because'), 1),\n",
              " (('rich,', 'but'), 1),\n",
              " (('reject', 'the'), 1),\n",
              " (('narrow', 'visions'), 1),\n",
              " (('are', 'corrupt'), 1),\n",
              " (('sweat', 'and'), 1),\n",
              " (('America', 'were'), 1),\n",
              " (('for', 'naught'), 1),\n",
              " (('naught', 'because'), 1),\n",
              " (('yet', 'done.'), 1),\n",
              " (('see', 'that'), 1),\n",
              " (('path', 'we'), 1),\n",
              " (('are', 'traveling'), 1),\n",
              " (('it', 'for'), 1),\n",
              " (('direction', 'is'), 1),\n",
              " (('better', 'Nation'), 1),\n",
              " (('has', 'it'), 1),\n",
              " (('this', 'Chamber.'), 1),\n",
              " (('our', 'hands.'), 1),\n",
              " (('', 'Because'), 1),\n",
              " (('Because', 'this'), 1),\n",
              " (('pressure.', ''), 1),\n",
              " (('to', 'that'), 1),\n",
              " (('fail', 'to'), 1),\n",
              " (('deal', 'seriously'), 1),\n",
              " (('millions', 'of'), 1),\n",
              " (('of', 'Americans'), 1),\n",
              " (('shaken', 'the'), 1),\n",
              " (('to', 'place'), 1),\n",
              " (('their', 'Government.'), 1),\n",
              " (('has', 'a'), 1),\n",
              " (('a', 'greater'), 1),\n",
              " (('profound', 'and'), 1),\n",
              " (('credit', 'enough'), 1),\n",
              " (('doing', 'what'), 1),\n",
              " (('is', 'right,'), 1),\n",
              " (('doing', 'it'), 1),\n",
              " (('rising', 'above'), 1),\n",
              " (('above', 'partisan'), 1),\n",
              " (('us,', 'America'), 1),\n",
              " (('call', 'upon'), 1),\n",
              " (('to', 'come'), 1),\n",
              " (('back', 'and'), 1),\n",
              " (('intense', 'pressures'), 1),\n",
              " (('pressures', 'of'), 1),\n",
              " (('year,', 'and'), 1),\n",
              " (('people', 'and'), 1),\n",
              " (('great', 'Congress.'), 1),\n",
              " (('NOTE:', 'The'), 1),\n",
              " (('Carl', 'Albert,'), 1),\n",
              " (('advance', 'text'), 1),\n",
              " (('of', 'his'), 1),\n",
              " (('Mr.', 'Speaker,'), 1),\n",
              " (('Speaker,', 'Mr.'), 1),\n",
              " (('colleagues', 'in'), 1),\n",
              " (('Congress,', 'our'), 1),\n",
              " (('ago', 'I'), 1),\n",
              " (('Congressman�Xalong', 'with'), 1),\n",
              " (('Albert�Xand', 'listened'), 1),\n",
              " (('shall', 'never'), 1),\n",
              " (('never', 'forget'), 1),\n",
              " (('entered', 'the'), 1),\n",
              " (('aware,', 'I'), 1),\n",
              " (('But', 'I'), 1),\n",
              " (('that', 'day�Xthe'), 1),\n",
              " (('the', 'newly'), 1),\n",
              " (('partisan,', 'but'), 1),\n",
              " (('responsible', 'for'), 1),\n",
              " (('Congress,', 'by'), 1),\n",
              " (('I', 'was'), 1),\n",
              " (('us.', 'It'), 1),\n",
              " (('precious', 'time'), 1),\n",
              " (('this', 'session'), 1),\n",
              " (('Congress', 'will'), 1),\n",
              " (('candidates', 'for'), 1),\n",
              " (('this', 'Chamber'), 1),\n",
              " (('been', 'at'), 1),\n",
              " (('an', 'honest'), 1),\n",
              " (('difference', 'of'), 1),\n",
              " (('the', 'parties,'), 1),\n",
              " (('but', 'within'), 1),\n",
              " (('some', 'foreign'), 1),\n",
              " (('domestic', 'policy'), 1),\n",
              " (('are', 'great'), 1),\n",
              " (('transcend', 'partisanship.'), 1),\n",
              " (('our', 'debates.'), 1),\n",
              " (('national', 'interest'), 1),\n",
              " (('first.', 'Let'), 1),\n",
              " (('of', 'any'), 1),\n",
              " (('huge', 'list'), 1),\n",
              " (('list', 'of'), 1),\n",
              " (('proposals,', 'knowing'), 1),\n",
              " (('any', 'possibility'), 1),\n",
              " (('them', 'if'), 1),\n",
              " (('night', 'and'), 1),\n",
              " (('day.', ''), 1),\n",
              " (('do', 'that.'), 1),\n",
              " (('message', 'of'), 1),\n",
              " (('words', 'discussing'), 1),\n",
              " (('in', 'some'), 1),\n",
              " (('forth', 'specific'), 1),\n",
              " (('legislation', 'which'), 1),\n",
              " (('in', '1970,'), 1),\n",
              " (('congress', 'and'), 1),\n",
              " (('action', 'be'), 1),\n",
              " (('attractive', 'labels'), 1),\n",
              " (('no', 'hope'), 1),\n",
              " (('are', 'within'), 1),\n",
              " (('be', 'above'), 1),\n",
              " (('above', 'partisanship�Xprograms'), 1),\n",
              " (('which', 'deal'), 1),\n",
              " (('deal', 'with'), 1),\n",
              " (('Nation,', 'which'), 1),\n",
              " (('and', 'must'), 1),\n",
              " (('by', 'this'), 1),\n",
              " (('the', 'country'), 1),\n",
              " (('took', 'the'), 1),\n",
              " (('the', 'oath'), 1),\n",
              " (('of', 'office'), 1),\n",
              " (('building', 'just'), 1),\n",
              " (('was', 'ending'), 1),\n",
              " (('1960��s', 'were'), 1),\n",
              " (('areas.', 'But'), 1),\n",
              " (('we', 'all'), 1),\n",
              " (('crime,', 'of'), 1),\n",
              " (('of', 'hopes'), 1),\n",
              " (('led', 'finally'), 1),\n",
              " (('worst', 'civil'), 1),\n",
              " (('troubles', 'not'), 1),\n",
              " (('point', 'any'), 1),\n",
              " (('any', 'fingers'), 1),\n",
              " (('both', 'parties'), 1),\n",
              " (('questioned', 'whether'), 1),\n",
              " (('be', 'governed'), 1),\n",
              " (('at', 'all.'), 1),\n",
              " (('universities', 'have'), 1),\n",
              " (('become', 'places'), 1),\n",
              " (('places', 'of'), 1),\n",
              " (('in', 'crime'), 1),\n",
              " (('been', 'slowed�Xand'), 1),\n",
              " (('city', 'where'), 1),\n",
              " (('crime', 'in'), 1),\n",
              " (('1971', 'was'), 1),\n",
              " (('', 'Most'), 1),\n",
              " (('made,', 'we'), 1),\n",
              " (('say', 'today'), 1),\n",
              " (('America', 'may'), 1),\n",
              " (('to', 'an'), 1),\n",
              " (('a', 'generation'), 1),\n",
              " (('', 'To'), 1),\n",
              " (('maintain', 'our'), 1),\n",
              " (('on', 'human'), 1),\n",
              " (('negotiations', 'with'), 1),\n",
              " (('Soviet', 'Union'), 1),\n",
              " (('arms.', 'And'), 1),\n",
              " (('we', 'hope'), 1),\n",
              " (('hope', 'there'), 1),\n",
              " (('can', 'eventually'), 1),\n",
              " (('agreement', 'on'), 1),\n",
              " (('the', 'mutual'), 1),\n",
              " (('mutual', 'reduction'), 1),\n",
              " (('a', 'mutual'), 1),\n",
              " (('mutual', 'agreement,'), 1),\n",
              " (('is', 'why,'), 1),\n",
              " (('year', 'will'), 1),\n",
              " (('', 'Strong'), 1),\n",
              " (('the', 'enemy'), 1),\n",
              " (('priorities', 'than'), 1),\n",
              " (('which', 'would'), 1),\n",
              " (('others', 'by'), 1),\n",
              " (('by', 'weakening'), 1),\n",
              " (('and', 'thereby'), 1),\n",
              " (('endanger', 'the'), 1),\n",
              " (('our', 'foreign'), 1),\n",
              " (('changed', 'greatly'), 1),\n",
              " (('John', 'Kennedy'), 1),\n",
              " (('Address,', '���Kwe'), 1),\n",
              " (('bear', 'any'), 1),\n",
              " (('any', 'hardship,'), 1),\n",
              " (('support', 'any'), 1),\n",
              " (('assure', 'the'), 1),\n",
              " (('the', 'success'), 1),\n",
              " (('of', 'liberty.��'), 1),\n",
              " (('policy', 'has'), 1),\n",
              " (('carefully', 'and'), 1),\n",
              " (('adjusted', 'to'), 1),\n",
              " (('We', 'make'), 1),\n",
              " (('only', 'those'), 1),\n",
              " (('their', 'share'), 1),\n",
              " (('And', 'so'), 1),\n",
              " (('is', 'our'), 1),\n",
              " (('maintain', 'a'), 1),\n",
              " (('a', 'nuclear'), 1),\n",
              " (('any', 'threat'), 1),\n",
              " ...]"
            ]
          },
          "metadata": {},
          "execution_count": 36
        }
      ]
    },
    {
      "cell_type": "code",
      "metadata": {
        "colab": {
          "base_uri": "https://localhost:8080/"
        },
        "id": "7rBw2WdfhPIC",
        "outputId": "872d809a-ceb1-48ac-934b-2c77f27cfd72"
      },
      "source": [
        "nltk.download('maxent_ne_chunker')\n",
        "nltk.download('words')\n",
        "%time\n",
        "from nltk import word_tokenize, pos_tag, ne_chunk\n",
        "def ne_list(input_text):\n",
        "    ne_tree = nltk.ne_chunk(pos_tag(word_tokenize(input_text)),binary = True)\n",
        "    return ne_tree\n",
        "nes = rdd.flatMap(ne_list)\n",
        "print(nes.collect())\n"
      ],
      "execution_count": 37,
      "outputs": [
        {
          "output_type": "stream",
          "name": "stderr",
          "text": [
            "[nltk_data] Downloading package maxent_ne_chunker to\n",
            "[nltk_data]     /root/nltk_data...\n",
            "[nltk_data]   Unzipping chunkers/maxent_ne_chunker.zip.\n",
            "[nltk_data] Downloading package words to /root/nltk_data...\n",
            "[nltk_data]   Unzipping corpora/words.zip.\n"
          ]
        },
        {
          "output_type": "stream",
          "name": "stdout",
          "text": [
            "CPU times: user 4 µs, sys: 0 ns, total: 4 µs\n",
            "Wall time: 7.63 µs\n",
            "[Tree('NE', [('Address', 'NN')]), ('on', 'IN'), ('the', 'DT'), ('State', 'NNP'), ('of', 'IN'), ('the', 'DT'), Tree('NE', [('Union', 'NNP'), ('Delivered', 'NNP')]), ('Before', 'IN'), ('a', 'DT'), ('Joint', 'JJ'), ('Session', 'NN'), ('of', 'IN'), ('the', 'DT'), Tree('NE', [('Congress', 'NNP')]), ('.', '.'), ('January', 'NNP'), ('20', 'CD'), (',', ','), ('1972', 'CD'), Tree('NE', [('Mr.', 'NNP'), ('Speaker', 'NNP')]), (',', ','), Tree('NE', [('Mr.', 'NNP')]), ('President', 'NNP'), (',', ','), ('my', 'PRP$'), ('colleagues', 'NNS'), ('in', 'IN'), ('the', 'DT'), Tree('NE', [('Congress', 'NNP')]), (',', ','), ('our', 'PRP$'), ('distinguished', 'JJ'), ('guests', 'NNS'), (',', ','), ('my', 'PRP$'), ('fellow', 'JJ'), ('Americans', 'NNPS'), (':', ':'), ('�', 'JJ'), ('@', 'NNP'), ('Twenty-five', 'CD'), ('years', 'NNS'), ('ago', 'RB'), ('I', 'PRP'), ('sat', 'VBP'), ('here', 'RB'), ('as', 'IN'), ('a', 'DT'), ('freshman', 'NN'), ('Congressman�Xalong', 'NNP'), ('with', 'IN'), Tree('NE', [('Speaker', 'NNP')]), ('Albert�Xand', 'NNP'), ('listened', 'VBD'), ('for', 'IN'), ('the', 'DT'), ('first', 'JJ'), ('time', 'NN'), ('to', 'TO'), ('the', 'DT'), ('President', 'NNP'), ('address', 'VBD'), ('the', 'DT'), ('State', 'NNP'), ('of', 'IN'), ('the', 'DT'), ('Union', 'NNP'), ('.', '.'), ('I', 'PRP'), ('shall', 'MD'), ('never', 'RB'), ('forget', 'VB'), ('that', 'DT'), ('moment', 'NN'), ('.', '.'), ('The', 'DT'), Tree('NE', [('Senate', 'NNP')]), (',', ','), ('the', 'DT'), ('diplomatic', 'JJ'), ('corps', 'NN'), (',', ','), ('the', 'DT'), Tree('NE', [('Supreme', 'NNP'), ('Court', 'NNP')]), (',', ','), ('the', 'DT'), Tree('NE', [('Cabinet', 'NNP')]), ('entered', 'VBD'), ('the', 'DT'), ('Chamber', 'NNP'), (',', ','), ('and', 'CC'), ('then', 'RB'), ('the', 'DT'), ('President', 'NNP'), ('of', 'IN'), ('the', 'DT'), Tree('NE', [('United', 'NNP'), ('States', 'NNPS')]), ('.', '.'), ('As', 'IN'), ('all', 'DT'), ('of', 'IN'), ('you', 'PRP'), ('are', 'VBP'), ('aware', 'JJ'), (',', ','), ('I', 'PRP'), ('had', 'VBD'), ('some', 'DT'), ('differences', 'NNS'), ('with', 'IN'), ('President', 'NNP'), Tree('NE', [('Truman', 'NNP')]), ('.', '.'), ('He', 'PRP'), ('had', 'VBD'), ('some', 'DT'), ('with', 'IN'), ('me', 'PRP'), ('.', '.'), ('But', 'CC'), ('I', 'PRP'), ('remember', 'VBP'), ('that', 'IN'), ('on', 'IN'), ('that', 'DT'), ('day�Xthe', 'JJ'), ('day', 'NN'), ('he', 'PRP'), ('addressed', 'VBD'), ('that', 'IN'), ('joint', 'JJ'), ('session', 'NN'), ('of', 'IN'), ('the', 'DT'), ('newly', 'RB'), ('elected', 'VBN'), ('Republican', 'NNP'), ('80th', 'CD'), ('Congress', 'NNP'), (',', ','), ('he', 'PRP'), ('spoke', 'VBD'), ('not', 'RB'), ('as', 'IN'), ('a', 'DT'), ('partisan', 'JJ'), (',', ','), ('but', 'CC'), ('as', 'IN'), ('President', 'NNP'), ('of', 'IN'), ('all', 'PDT'), ('the', 'DT'), ('people�Xcalling', 'VBG'), ('upon', 'IN'), ('the', 'DT'), Tree('NE', [('Congress', 'NNP')]), ('to', 'TO'), ('put', 'VB'), ('aside', 'RP'), ('partisan', 'JJ'), ('considerations', 'NNS'), ('in', 'IN'), ('the', 'DT'), ('national', 'JJ'), ('interest', 'NN'), ('.', '.'), ('The', 'DT'), ('Greek-Turkish', 'JJ'), ('aid', 'NN'), ('program', 'NN'), (',', ','), ('the', 'DT'), Tree('NE', [('Marshall', 'NNP'), ('Plan', 'NNP')]), (',', ','), ('the', 'DT'), ('great', 'JJ'), ('foreign', 'JJ'), ('policy', 'NN'), ('initiatives', 'NNS'), ('which', 'WDT'), ('have', 'VBP'), ('been', 'VBN'), ('responsible', 'JJ'), ('for', 'IN'), ('avoiding', 'VBG'), ('a', 'DT'), ('world', 'NN'), ('war', 'NN'), ('for', 'IN'), ('over', 'IN'), ('25', 'CD'), ('years', 'NNS'), ('were', 'VBD'), ('approved', 'VBN'), ('by', 'IN'), ('the', 'DT'), ('80th', 'JJ'), ('Congress', 'NNP'), (',', ','), ('by', 'IN'), ('a', 'DT'), ('bipartisan', 'JJ'), ('majority', 'NN'), ('of', 'IN'), ('which', 'WDT'), ('I', 'PRP'), ('was', 'VBD'), ('proud', 'JJ'), ('to', 'TO'), ('be', 'VB'), ('a', 'DT'), ('part', 'NN'), ('.', '.'), ('�', 'JJ'), ('@', 'NNP'), ('Nineteen', 'NNP'), ('hundred', 'VBD'), ('seventy-two', 'JJ'), ('is', 'VBZ'), ('now', 'RB'), ('before', 'IN'), ('us', 'PRP'), ('.', '.'), ('It', 'PRP'), ('holds', 'VBZ'), ('precious', 'JJ'), ('time', 'NN'), ('in', 'IN'), ('which', 'WDT'), ('to', 'TO'), ('accomplish', 'VB'), ('good', 'JJ'), ('for', 'IN'), ('the', 'DT'), ('Nation', 'NNP'), ('.', '.'), ('We', 'PRP'), ('must', 'MD'), ('not', 'RB'), ('waste', 'VB'), ('it', 'PRP'), ('.', '.'), ('I', 'PRP'), ('know', 'VBP'), ('the', 'DT'), ('political', 'JJ'), ('pressures', 'NNS'), ('in', 'IN'), ('this', 'DT'), ('session', 'NN'), ('of', 'IN'), ('the', 'DT'), Tree('NE', [('Congress', 'NNP')]), ('will', 'MD'), ('be', 'VB'), ('great', 'JJ'), ('.', '.'), ('There', 'EX'), ('are', 'VBP'), ('more', 'JJR'), ('candidates', 'NNS'), ('for', 'IN'), ('the', 'DT'), ('Presidency', 'NNP'), ('in', 'IN'), ('this', 'DT'), ('Chamber', 'NNP'), ('today', 'NN'), ('than', 'IN'), ('there', 'RB'), ('probably', 'RB'), ('have', 'VBP'), ('been', 'VBN'), ('at', 'IN'), ('any', 'DT'), ('one', 'CD'), ('time', 'NN'), ('in', 'IN'), ('the', 'DT'), ('whole', 'JJ'), ('history', 'NN'), ('of', 'IN'), ('the', 'DT'), ('Republic', 'NNP'), ('.', '.'), ('And', 'CC'), ('there', 'EX'), ('is', 'VBZ'), ('an', 'DT'), ('honest', 'JJ'), ('difference', 'NN'), ('of', 'IN'), ('opinion', 'NN'), (',', ','), ('not', 'RB'), ('only', 'RB'), ('between', 'IN'), ('the', 'DT'), ('parties', 'NNS'), (',', ','), ('but', 'CC'), ('within', 'IN'), ('each', 'DT'), ('party', 'NN'), (',', ','), ('on', 'IN'), ('some', 'DT'), ('foreign', 'JJ'), ('policy', 'NN'), ('issues', 'NNS'), ('and', 'CC'), ('on', 'IN'), ('some', 'DT'), ('domestic', 'JJ'), ('policy', 'NN'), ('issues', 'NNS'), ('.', '.'), ('However', 'RB'), (',', ','), ('there', 'EX'), ('are', 'VBP'), ('great', 'JJ'), ('national', 'JJ'), ('problems', 'NNS'), ('that', 'WDT'), ('are', 'VBP'), ('so', 'RB'), ('vital', 'JJ'), ('that', 'IN'), ('they', 'PRP'), ('transcend', 'VBP'), ('partisanship', 'NN'), ('.', '.'), ('So', 'CC'), ('let', 'VB'), ('us', 'PRP'), ('have', 'VB'), ('our', 'PRP$'), ('debates', 'NNS'), ('.', '.'), ('Let', 'VB'), ('us', 'PRP'), ('have', 'VB'), ('our', 'PRP$'), ('honest', 'JJS'), ('differences', 'NNS'), ('.', '.'), ('But', 'CC'), ('let', 'VBD'), ('us', 'PRP'), ('join', 'VB'), ('in', 'IN'), ('keeping', 'VBG'), ('the', 'DT'), ('national', 'JJ'), ('interest', 'NN'), ('first', 'RB'), ('.', '.'), ('Let', 'VB'), ('us', 'PRP'), ('join', 'VB'), ('in', 'IN'), ('making', 'VBG'), ('sure', 'JJ'), ('that', 'IN'), ('legislation', 'NN'), ('the', 'DT'), ('Nation', 'NN'), ('needs', 'VBZ'), ('does', 'VBZ'), ('not', 'RB'), ('become', 'VBN'), ('hostage', 'NN'), ('to', 'TO'), ('the', 'DT'), ('political', 'JJ'), ('interests', 'NNS'), ('of', 'IN'), ('any', 'DT'), ('party', 'NN'), ('or', 'CC'), ('any', 'DT'), ('person', 'NN'), ('.', '.'), ('There', 'EX'), ('is', 'VBZ'), ('ample', 'JJ'), ('precedent', 'NN'), (',', ','), ('in', 'IN'), ('this', 'DT'), ('election', 'NN'), ('year', 'NN'), (',', ','), ('for', 'IN'), ('me', 'PRP'), ('to', 'TO'), ('present', 'VB'), ('you', 'PRP'), ('with', 'IN'), ('a', 'DT'), ('huge', 'JJ'), ('list', 'NN'), ('of', 'IN'), ('new', 'JJ'), ('proposals', 'NNS'), (',', ','), ('knowing', 'VBG'), ('full', 'JJ'), ('well', 'RB'), ('that', 'IN'), ('there', 'EX'), ('would', 'MD'), ('not', 'RB'), ('be', 'VB'), ('any', 'DT'), ('possibility', 'NN'), ('of', 'IN'), ('your', 'PRP$'), ('passing', 'VBG'), ('them', 'PRP'), ('if', 'IN'), ('you', 'PRP'), ('worked', 'VBD'), ('night', 'NN'), ('and', 'CC'), ('day', 'NN'), ('.', '.'), ('I', 'PRP'), ('shall', 'MD'), ('not', 'RB'), ('do', 'VB'), ('that', 'DT'), ('.', '.'), ('I', 'PRP'), ('have', 'VBP'), ('presented', 'VBN'), ('to', 'TO'), ('the', 'DT'), ('leaders', 'NNS'), ('of', 'IN'), ('the', 'DT'), Tree('NE', [('Congress', 'NNP')]), ('today', 'NN'), ('a', 'DT'), ('message', 'NN'), ('of', 'IN'), ('15,000', 'CD'), ('words', 'NNS'), ('discussing', 'VBG'), ('in', 'IN'), ('some', 'DT'), ('detail', 'NN'), ('where', 'WRB'), ('the', 'DT'), ('Nation', 'NNP'), ('stands', 'NNS'), ('and', 'CC'), ('setting', 'VBG'), ('forth', 'NN'), ('specific', 'JJ'), ('legislative', 'JJ'), ('items', 'NNS'), ('on', 'IN'), ('which', 'WDT'), ('I', 'PRP'), ('have', 'VBP'), ('asked', 'VBN'), ('the', 'DT'), Tree('NE', [('Congress', 'NNP')]), ('to', 'TO'), ('act', 'VB'), ('.', '.'), ('Much', 'JJ'), ('of', 'IN'), ('this', 'DT'), ('is', 'VBZ'), ('legislation', 'NN'), ('which', 'WDT'), ('I', 'PRP'), ('proposed', 'VBD'), ('in', 'IN'), ('1969', 'CD'), (',', ','), ('in', 'IN'), ('1970', 'CD'), (',', ','), ('and', 'CC'), ('also', 'RB'), ('in', 'IN'), ('the', 'DT'), ('first', 'JJ'), ('session', 'NN'), ('of', 'IN'), ('this', 'DT'), ('92d', 'CD'), ('congress', 'NN'), ('and', 'CC'), ('on', 'IN'), ('which', 'WDT'), ('I', 'PRP'), ('feel', 'VBP'), ('it', 'PRP'), ('is', 'VBZ'), ('essential', 'JJ'), ('that', 'IN'), ('action', 'NN'), ('be', 'VB'), ('completed', 'VBN'), ('this', 'DT'), ('year', 'NN'), ('.', '.'), ('I', 'PRP'), ('am', 'VBP'), ('not', 'RB'), ('presenting', 'VBG'), ('proposals', 'NNS'), ('which', 'WDT'), ('have', 'VBP'), ('attractive', 'JJ'), ('labels', 'NNS'), ('but', 'CC'), ('no', 'DT'), ('hope', 'NN'), ('of', 'IN'), ('passage', 'NN'), ('.', '.'), ('I', 'PRP'), ('am', 'VBP'), ('presenting', 'VBG'), ('only', 'RB'), ('vital', 'JJ'), ('programs', 'NNS'), ('which', 'WDT'), ('are', 'VBP'), ('within', 'IN'), ('the', 'DT'), ('capacity', 'NN'), ('of', 'IN'), ('this', 'DT'), ('Congress', 'NNP'), ('to', 'TO'), ('enact', 'VB'), (',', ','), ('within', 'IN'), ('the', 'DT'), ('capacity', 'NN'), ('of', 'IN'), ('the', 'DT'), ('budget', 'NN'), ('to', 'TO'), ('finance', 'NN'), (',', ','), ('and', 'CC'), ('which', 'WDT'), ('I', 'PRP'), ('believe', 'VBP'), ('should', 'MD'), ('be', 'VB'), ('above', 'IN'), ('partisanship�Xprograms', 'NNS'), ('which', 'WDT'), ('deal', 'VBP'), ('with', 'IN'), ('urgent', 'JJ'), ('priorities', 'NNS'), ('for', 'IN'), ('the', 'DT'), ('Nation', 'NNP'), (',', ','), ('which', 'WDT'), ('should', 'MD'), ('and', 'CC'), ('must', 'MD'), ('be', 'VB'), ('the', 'DT'), ('subject', 'NN'), ('of', 'IN'), ('bipartisan', 'JJ'), ('action', 'NN'), ('by', 'IN'), ('this', 'DT'), ('Congress', 'NNP'), ('in', 'IN'), ('the', 'DT'), ('interests', 'NNS'), ('of', 'IN'), ('the', 'DT'), ('country', 'NN'), ('in', 'IN'), ('1972', 'CD'), ('.', '.'), ('When', 'WRB'), ('I', 'PRP'), ('took', 'VBD'), ('the', 'DT'), ('oath', 'NN'), ('of', 'IN'), ('office', 'NN'), ('on', 'IN'), ('the', 'DT'), ('steps', 'NNS'), ('of', 'IN'), ('this', 'DT'), ('building', 'NN'), ('just', 'RB'), ('3', 'CD'), ('years', 'NNS'), ('ago', 'RB'), ('today', 'NN'), (',', ','), ('the', 'DT'), Tree('NE', [('Nation', 'NNP')]), ('was', 'VBD'), ('ending', 'VBG'), ('one', 'CD'), ('of', 'IN'), ('the', 'DT'), ('most', 'RBS'), ('tortured', 'JJ'), ('decades', 'NNS'), ('in', 'IN'), ('its', 'PRP$'), ('history', 'NN'), ('.', '.'), ('The', 'DT'), ('1960��s', 'CD'), ('were', 'VBD'), ('a', 'DT'), ('time', 'NN'), ('of', 'IN'), ('great', 'JJ'), ('progress', 'NN'), ('in', 'IN'), ('many', 'JJ'), ('areas', 'NNS'), ('.', '.'), ('But', 'CC'), ('as', 'IN'), ('we', 'PRP'), ('all', 'DT'), ('know', 'VBP'), (',', ','), ('they', 'PRP'), ('were', 'VBD'), ('also', 'RB'), ('times', 'NNS'), ('of', 'IN'), ('great', 'JJ'), ('agony�Xthe', 'JJ'), ('agonies', 'NNS'), ('of', 'IN'), ('war', 'NN'), (',', ','), ('of', 'IN'), ('inflation', 'NN'), (',', ','), ('of', 'IN'), ('rapidly', 'RB'), ('rising', 'VBG'), ('crime', 'NN'), (',', ','), ('of', 'IN'), ('deteriorating', 'VBG'), ('cities', 'NNS'), (',', ','), ('of', 'IN'), ('hopes', 'NNS'), ('raised', 'VBN'), ('and', 'CC'), ('disappointed', 'VBN'), (',', ','), ('and', 'CC'), ('of', 'IN'), ('anger', 'NN'), ('and', 'CC'), ('frustration', 'NN'), ('that', 'WDT'), ('led', 'VBD'), ('finally', 'RB'), ('to', 'TO'), ('violence', 'NN'), ('and', 'CC'), ('to', 'TO'), ('the', 'DT'), ('worst', 'JJS'), ('civil', 'JJ'), ('disorder', 'NN'), ('in', 'IN'), ('a', 'DT'), ('century', 'NN'), ('.', '.'), ('I', 'PRP'), ('recall', 'VBP'), ('these', 'DT'), ('troubles', 'NNS'), ('not', 'RB'), ('to', 'TO'), ('point', 'VB'), ('any', 'DT'), ('fingers', 'NNS'), ('of', 'IN'), ('blame', 'NN'), ('.', '.'), ('The', 'DT'), Tree('NE', [('Nation', 'NN')]), ('was', 'VBD'), ('so', 'RB'), ('torn', 'JJ'), ('in', 'IN'), ('those', 'DT'), ('final', 'JJ'), ('years', 'NNS'), ('of', 'IN'), ('the', 'DT'), ('sixties', 'NNS'), ('that', 'WDT'), ('many', 'JJ'), ('in', 'IN'), ('both', 'DT'), ('parties', 'NNS'), ('questioned', 'VBD'), ('whether', 'IN'), Tree('NE', [('America', 'NNP')]), ('could', 'MD'), ('be', 'VB'), ('governed', 'VBN'), ('at', 'IN'), ('all', 'DT'), ('.', '.'), ('The', 'DT'), Tree('NE', [('Nation', 'NN')]), ('has', 'VBZ'), ('made', 'VBN'), ('significant', 'JJ'), ('progress', 'NN'), ('in', 'IN'), ('these', 'DT'), ('first', 'JJ'), ('years', 'NNS'), ('of', 'IN'), ('the', 'DT'), ('seventies', 'NNS'), (':', ':'), ('Our', 'PRP$'), ('colleges', 'NNS'), ('and', 'CC'), ('universities', 'NNS'), ('have', 'VBP'), ('again', 'RB'), ('become', 'VBN'), ('places', 'NNS'), ('of', 'IN'), ('learning', 'VBG'), ('instead', 'RB'), ('of', 'IN'), ('battlegrounds', 'NNS'), ('.', '.'), ('A', 'DT'), ('beginning', 'NN'), ('has', 'VBZ'), ('been', 'VBN'), ('made', 'VBN'), ('in', 'IN'), ('preserving', 'NN'), ('and', 'CC'), ('protecting', 'VBG'), ('our', 'PRP$'), ('environment', 'NN'), ('.', '.'), ('The', 'DT'), ('rate', 'NN'), ('of', 'IN'), ('increase', 'NN'), ('in', 'IN'), ('crime', 'NN'), ('has', 'VBZ'), ('been', 'VBN'), ('slowed�Xand', 'VBN'), ('here', 'RB'), ('in', 'IN'), ('the', 'DT'), Tree('NE', [('District', 'NNP')]), ('of', 'IN'), Tree('NE', [('Columbia', 'NNP')]), (',', ','), ('the', 'DT'), ('one', 'CD'), ('city', 'NN'), ('where', 'WRB'), ('the', 'DT'), ('Federal', 'NNP'), ('Government', 'NNP'), ('has', 'VBZ'), ('direct', 'JJ'), ('jurisdiction', 'NN'), (',', ','), ('serious', 'JJ'), ('crime', 'NN'), ('in', 'IN'), ('1971', 'CD'), ('was', 'VBD'), ('actually', 'RB'), ('reduced', 'VBN'), ('by', 'IN'), ('13', 'CD'), ('percent', 'NN'), ('from', 'IN'), ('that', 'DT'), ('year', 'NN'), ('before', 'RB'), ('.', '.'), ('Most', 'RBS'), ('important', 'JJ'), (',', ','), ('because', 'IN'), ('of', 'IN'), ('the', 'DT'), ('beginnings', 'NNS'), ('that', 'WDT'), ('have', 'VBP'), ('been', 'VBN'), ('made', 'VBN'), (',', ','), ('we', 'PRP'), ('can', 'MD'), ('say', 'VB'), ('today', 'NN'), ('that', 'IN'), ('this', 'DT'), ('year', 'NN'), ('1972', 'CD'), ('can', 'MD'), ('be', 'VB'), ('the', 'DT'), ('year', 'NN'), ('in', 'IN'), ('which', 'WDT'), Tree('NE', [('America', 'NNP')]), ('may', 'MD'), ('make', 'VB'), ('the', 'DT'), ('greatest', 'JJS'), ('progress', 'NN'), ('in', 'IN'), ('25', 'CD'), ('years', 'NNS'), ('toward', 'IN'), ('achieving', 'VBG'), ('our', 'PRP$'), ('goal', 'NN'), ('of', 'IN'), ('being', 'VBG'), ('at', 'IN'), ('peace', 'NN'), ('with', 'IN'), ('all', 'PDT'), ('the', 'DT'), ('nations', 'NNS'), ('of', 'IN'), ('the', 'DT'), ('world', 'NN'), ('.', '.'), ('As', 'IN'), ('our', 'PRP$'), ('involvement', 'NN'), ('in', 'IN'), ('the', 'DT'), ('war', 'NN'), ('in', 'IN'), Tree('NE', [('Vietnam', 'NNP')]), ('comes', 'VBZ'), ('to', 'TO'), ('an', 'DT'), ('end', 'NN'), (',', ','), ('we', 'PRP'), ('must', 'MD'), ('now', 'RB'), ('go', 'VB'), ('on', 'IN'), ('to', 'TO'), ('build', 'VB'), ('a', 'DT'), ('generation', 'NN'), ('of', 'IN'), ('peace', 'NN'), ('.', '.'), ('To', 'TO'), ('achieve', 'VB'), ('that', 'DT'), ('goal', 'NN'), (',', ','), ('we', 'PRP'), ('must', 'MD'), ('first', 'RB'), ('face', 'VB'), ('realistically', 'RB'), ('the', 'DT'), ('need', 'NN'), ('to', 'TO'), ('maintain', 'VB'), ('our', 'PRP$'), ('defense', 'NN'), ('.', '.'), ('In', 'IN'), ('the', 'DT'), ('past', 'JJ'), ('3', 'CD'), ('years', 'NNS'), (',', ','), ('we', 'PRP'), ('have', 'VBP'), ('reduced', 'VBN'), ('the', 'DT'), ('burden', 'NN'), ('of', 'IN'), ('arms', 'NNS'), ('.', '.'), ('For', 'IN'), ('the', 'DT'), ('first', 'JJ'), ('time', 'NN'), ('in', 'IN'), ('20', 'CD'), ('years', 'NNS'), (',', ','), ('spending', 'VBG'), ('on', 'IN'), ('defense', 'NN'), ('has', 'VBZ'), ('been', 'VBN'), ('brought', 'VBN'), ('below', 'IN'), ('spending', 'NN'), ('on', 'IN'), ('human', 'JJ'), ('resources', 'NNS'), ('.', '.'), ('As', 'IN'), ('we', 'PRP'), ('look', 'VBP'), ('to', 'TO'), ('the', 'DT'), ('future', 'NN'), (',', ','), ('we', 'PRP'), ('find', 'VBP'), ('encouraging', 'JJ'), ('progress', 'NN'), ('in', 'IN'), ('our', 'PRP$'), ('negotiations', 'NNS'), ('with', 'IN'), ('the', 'DT'), Tree('NE', [('Soviet', 'NNP'), ('Union', 'NNP')]), ('on', 'IN'), ('limitation', 'NN'), ('of', 'IN'), ('strategic', 'JJ'), ('arms', 'NNS'), ('.', '.'), ('And', 'CC'), ('looking', 'VBG'), ('further', 'RB'), ('into', 'IN'), ('the', 'DT'), ('future', 'NN'), (',', ','), ('we', 'PRP'), ('hope', 'VBP'), ('there', 'EX'), ('can', 'MD'), ('eventually', 'RB'), ('be', 'VB'), ('agreement', 'NN'), ('on', 'IN'), ('the', 'DT'), ('mutual', 'JJ'), ('reduction', 'NN'), ('of', 'IN'), ('arms', 'NNS'), ('.', '.'), ('But', 'CC'), ('until', 'IN'), ('there', 'EX'), ('is', 'VBZ'), ('such', 'JJ'), ('a', 'DT'), ('mutual', 'JJ'), ('agreement', 'NN'), (',', ','), ('we', 'PRP'), ('must', 'MD'), ('maintain', 'VB'), ('the', 'DT'), ('strength', 'NN'), ('necessary', 'JJ'), ('to', 'TO'), ('deter', 'VB'), ('war', 'NN'), ('.', '.'), ('And', 'CC'), ('that', 'DT'), ('is', 'VBZ'), ('why', 'WRB'), (',', ','), ('because', 'IN'), ('of', 'IN'), ('rising', 'VBG'), ('research', 'NN'), ('and', 'CC'), ('development', 'NN'), ('costs', 'NNS'), (',', ','), ('because', 'IN'), ('of', 'IN'), ('increases', 'NNS'), ('in', 'IN'), ('military', 'JJ'), ('and', 'CC'), ('civilian', 'JJ'), ('pay', 'NN'), (',', ','), ('because', 'IN'), ('of', 'IN'), ('the', 'DT'), ('need', 'NN'), ('to', 'TO'), ('proceed', 'VB'), ('with', 'IN'), ('new', 'JJ'), ('weapons', 'NNS'), ('systems', 'NNS'), (',', ','), ('my', 'PRP$'), ('budget', 'NN'), ('for', 'IN'), ('the', 'DT'), ('coming', 'VBG'), ('fiscal', 'JJ'), ('year', 'NN'), ('will', 'MD'), ('provide', 'VB'), ('for', 'IN'), ('an', 'DT'), ('increase', 'NN'), ('in', 'IN'), ('defense', 'NN'), ('spending', 'NN'), ('.', '.'), Tree('NE', [('Strong', 'JJ')]), ('military', 'JJ'), ('defenses', 'NNS'), ('are', 'VBP'), ('not', 'RB'), ('the', 'DT'), ('enemy', 'NN'), ('of', 'IN'), ('peace', 'NN'), (';', ':'), ('they', 'PRP'), ('are', 'VBP'), ('the', 'DT'), ('guardians', 'NNS'), ('of', 'IN'), ('peace', 'NN'), ('.', '.'), ('There', 'EX'), ('could', 'MD'), ('be', 'VB'), ('no', 'RB'), ('more', 'RBR'), ('misguided', 'JJ'), ('set', 'NN'), ('of', 'IN'), ('priorities', 'NNS'), ('than', 'IN'), ('one', 'CD'), ('which', 'WDT'), ('would', 'MD'), ('tempt', 'VB'), ('others', 'NNS'), ('by', 'IN'), ('weakening', 'VBG'), Tree('NE', [('America', 'NNP')]), (',', ','), ('and', 'CC'), ('thereby', 'RB'), ('endanger', 'VB'), ('the', 'DT'), ('peace', 'NN'), ('of', 'IN'), ('the', 'DT'), ('world', 'NN'), ('.', '.'), ('In', 'IN'), ('our', 'PRP$'), ('foreign', 'JJ'), ('policy', 'NN'), (',', ','), ('we', 'PRP'), ('have', 'VBP'), ('entered', 'VBN'), ('a', 'DT'), ('new', 'JJ'), ('era', 'NN'), ('.', '.'), ('The', 'DT'), ('world', 'NN'), ('has', 'VBZ'), ('changed', 'VBN'), ('greatly', 'RB'), ('in', 'IN'), ('the', 'DT'), ('11', 'CD'), ('years', 'NNS'), ('since', 'IN'), ('President', 'NNP'), Tree('NE', [('John', 'NNP'), ('Kennedy', 'NNP')]), ('said', 'VBD'), ('in', 'IN'), ('his', 'PRP$'), ('Inaugural', 'NNP'), ('Address', 'NNP'), (',', ','), ('���Kwe', 'NNP'), ('shall', 'MD'), ('pay', 'VB'), ('any', 'DT'), ('price', 'NN'), (',', ','), ('bear', 'IN'), ('any', 'DT'), ('burden', 'NN'), (',', ','), ('meet', 'VB'), ('any', 'DT'), ('hardship', 'NN'), (',', ','), ('support', 'VB'), ('any', 'DT'), ('friend', 'NN'), (',', ','), ('oppose', 'VBP'), ('any', 'DT'), ('foe', 'NN'), ('to', 'TO'), ('assure', 'VB'), ('the', 'DT'), ('survival', 'NN'), ('and', 'CC'), ('the', 'DT'), ('success', 'NN'), ('of', 'IN'), ('liberty.��', 'NN'), ('Our', 'PRP$'), ('policy', 'NN'), ('has', 'VBZ'), ('been', 'VBN'), ('carefully', 'RB'), ('and', 'CC'), ('deliberately', 'RB'), ('adjusted', 'VBN'), ('to', 'TO'), ('meet', 'VB'), ('the', 'DT'), ('new', 'JJ'), ('realities', 'NNS'), ('of', 'IN'), ('the', 'DT'), ('new', 'JJ'), ('world', 'NN'), ('we', 'PRP'), ('live', 'VBP'), ('in', 'IN'), ('.', '.'), ('We', 'PRP'), ('make', 'VBP'), ('today', 'NN'), ('only', 'RB'), ('those', 'DT'), ('commitments', 'NNS'), ('we', 'PRP'), ('are', 'VBP'), ('able', 'JJ'), ('and', 'CC'), ('prepared', 'JJ'), ('to', 'TO'), ('meet', 'VB'), ('.', '.'), ('Our', 'PRP$'), ('commitment', 'NN'), ('to', 'TO'), ('freedom', 'NN'), ('remains', 'VBZ'), ('strong', 'JJ'), ('and', 'CC'), ('unshakable', 'JJ'), ('.', '.'), ('But', 'CC'), ('others', 'NNS'), ('must', 'MD'), ('bear', 'VB'), ('their', 'PRP$'), ('share', 'NN'), ('of', 'IN'), ('the', 'DT'), ('burden', 'NN'), ('of', 'IN'), ('defending', 'VBG'), ('freedom', 'NN'), ('around', 'IN'), ('the', 'DT'), ('world', 'NN'), ('.', '.'), ('And', 'CC'), ('so', 'RB'), ('this', 'DT'), (',', ','), ('then', 'RB'), (',', ','), ('is', 'VBZ'), ('our', 'PRP$'), ('policy', 'NN'), (':', ':'), ('--', ':'), ('We', 'PRP'), ('will', 'MD'), ('maintain', 'VB'), ('a', 'DT'), ('nuclear', 'JJ'), ('deterrent', 'NN'), ('adequate', 'NN'), ('to', 'TO'), ('meet', 'VB'), ('any', 'DT'), ('threat', 'NN'), ('to', 'TO'), ('the', 'DT'), ('security', 'NN'), ('of', 'IN'), ('the', 'DT'), Tree('NE', [('United', 'NNP'), ('States', 'NNPS')]), ('or', 'CC'), ('of', 'IN'), ('our', 'PRP$'), ('allies', 'NNS'), ('.', '.'), ('--', ':'), ('We', 'PRP'), ('will', 'MD'), ('help', 'VB'), ('other', 'JJ'), ('nations', 'NNS'), ('develop', 'VBP'), ('the', 'DT'), ('capability', 'NN'), ('of', 'IN'), ('defending', 'VBG'), ('themselves', 'PRP'), ('.', '.'), ('--', ':'), ('We', 'PRP'), ('will', 'MD'), ('faithfully', 'RB'), ('honor', 'VB'), ('all', 'DT'), ('of', 'IN'), ('our', 'PRP$'), ('treaty', 'NN'), ('commitments', 'NNS'), ('.', '.'), ('--', ':'), ('We', 'PRP'), ('will', 'MD'), ('act', 'VB'), ('to', 'TO'), ('defend', 'VB'), ('our', 'PRP$'), ('interests', 'NNS'), (',', ','), ('whenever', 'NN'), ('and', 'CC'), ('wherever', 'NN'), ('they', 'PRP'), ('are', 'VBP'), ('threatened', 'JJ'), ('anyplace', 'NN'), ('in', 'IN'), ('the', 'DT'), ('world', 'NN'), ('.', '.'), ('--', ':'), ('But', 'CC'), ('where', 'WRB'), ('our', 'PRP$'), ('interests', 'NNS'), ('or', 'CC'), ('our', 'PRP$'), ('treaty', 'NN'), ('commitments', 'NNS'), ('are', 'VBP'), ('not', 'RB'), ('involved', 'VBN'), (',', ','), ('our', 'PRP$'), ('role', 'NN'), ('will', 'MD'), ('be', 'VB'), ('limited', 'VBN'), ('.', '.'), ('--', ':'), ('We', 'PRP'), ('will', 'MD'), ('not', 'RB'), ('intervene', 'VB'), ('militarily', 'RB'), ('.', '.'), ('--', ':'), ('But', 'CC'), ('we', 'PRP'), ('will', 'MD'), ('use', 'VB'), ('our', 'PRP$'), ('influence', 'NN'), ('to', 'TO'), ('prevent', 'VB'), ('war', 'NN'), ('.', '.'), ('--', ':'), ('If', 'IN'), ('war', 'NN'), ('comes', 'VBZ'), (',', ','), ('we', 'PRP'), ('will', 'MD'), ('use', 'VB'), ('our', 'PRP$'), ('influence', 'NN'), ('to', 'TO'), ('stop', 'VB'), ('it', 'PRP'), ('.', '.'), ('--', ':'), ('Once', 'IN'), ('it', 'PRP'), ('is', 'VBZ'), ('over', 'IN'), (',', ','), ('will', 'MD'), ('do', 'VB'), ('your', 'PRP$'), ('share', 'NN'), ('in', 'IN'), ('helping', 'VBG'), ('to', 'TO'), ('bind', 'VB'), ('up', 'RP'), ('the', 'DT'), ('wounds', 'NNS'), ('of', 'IN'), ('those', 'DT'), ('who', 'WP'), ('have', 'VBP'), ('participated', 'VBN'), ('in', 'IN'), ('it', 'PRP'), ('.', '.'), ('�', 'RB'), ('@', 'RB'), ('As', 'IN'), ('you', 'PRP'), ('know', 'VBP'), (',', ','), ('I', 'PRP'), ('will', 'MD'), ('soon', 'RB'), ('be', 'VB'), ('visiting', 'VBG'), ('the', 'DT'), ('People��s', 'NNP'), ('Republic', 'NNP'), ('of', 'IN'), Tree('NE', [('China', 'NNP')]), ('and', 'CC'), ('the', 'DT'), Tree('NE', [('Soviet', 'NNP'), ('Union', 'NNP')]), ('.', '.'), ('I', 'PRP'), ('go', 'VBP'), ('there', 'RB'), ('with', 'IN'), ('no', 'DT'), ('illusions', 'NNS'), ('.', '.'), ('We', 'PRP'), ('have', 'VBP'), ('great', 'JJ'), ('differences', 'NNS'), ('with', 'IN'), ('both', 'DT'), ('powers', 'NNS'), ('.', '.'), ('We', 'PRP'), ('shall', 'MD'), ('continue', 'VB'), ('to', 'TO'), ('have', 'VB'), ('great', 'JJ'), ('differences', 'NNS'), ('.', '.'), ('But', 'CC'), ('peace', 'JJ'), ('depends', 'NNS'), ('on', 'IN'), ('the', 'DT'), ('ability', 'NN'), ('of', 'IN'), ('great', 'JJ'), ('powers', 'NNS'), ('to', 'TO'), ('live', 'VB'), ('together', 'RB'), ('on', 'IN'), ('the', 'DT'), ('same', 'JJ'), ('planet', 'NN'), ('despite', 'IN'), ('their', 'PRP$'), ('differences', 'NNS'), ('.', '.'), ('We', 'PRP'), ('would', 'MD'), ('not', 'RB'), ('be', 'VB'), ('true', 'JJ'), ('to', 'TO'), ('our', 'PRP$'), ('obligation', 'NN'), ('to', 'TO'), ('generations', 'NNS'), ('yet', 'RB'), ('unborn', 'JJ'), ('if', 'IN'), ('we', 'PRP'), ('failed', 'VBD'), ('to', 'TO'), ('seize', 'VB'), ('this', 'DT'), ('moment', 'NN'), ('to', 'TO'), ('do', 'VB'), ('everything', 'NN'), ('in', 'IN'), ('our', 'PRP$'), ('power', 'NN'), ('to', 'TO'), ('insure', 'VB'), ('that', 'IN'), ('we', 'PRP'), ('will', 'MD'), ('be', 'VB'), ('able', 'JJ'), ('to', 'TO'), ('talk', 'VB'), ('about', 'IN'), ('those', 'DT'), ('differences', 'NNS'), (',', ','), ('rather', 'RB'), ('than', 'IN'), ('to', 'TO'), ('fight', 'VB'), ('about', 'IN'), ('them', 'PRP'), (',', ','), ('in', 'IN'), ('the', 'DT'), ('future', 'NN'), ('.', '.'), ('As', 'IN'), ('we', 'PRP'), ('look', 'VBP'), ('back', 'RB'), ('over', 'IN'), ('this', 'DT'), ('century', 'NN'), (',', ','), ('let', 'VB'), ('us', 'PRP'), (',', ','), ('in', 'IN'), ('the', 'DT'), ('highest', 'JJS'), ('spirit', 'NN'), ('of', 'IN'), ('bipartisanship', 'NN'), (',', ','), ('recognize', 'VB'), ('that', 'IN'), ('we', 'PRP'), ('can', 'MD'), ('be', 'VB'), ('proud', 'JJ'), ('of', 'IN'), ('our', 'PRP$'), ('Nation��s', 'NNP'), ('record', 'NN'), ('in', 'IN'), ('foreign', 'JJ'), ('affairs', 'NNS'), ('.', '.'), Tree('NE', [('America', 'NNP')]), ('has', 'VBZ'), ('given', 'VBN'), ('more', 'RBR'), ('generously', 'RB'), ('of', 'IN'), ('itself', 'PRP'), ('toward', 'IN'), ('maintaining', 'VBG'), ('freedom', 'NN'), (',', ','), ('preserving', 'VBG'), ('peace', 'NN'), (',', ','), ('alleviating', 'VBG'), ('human', 'JJ'), ('suffering', 'VBG'), ('around', 'IN'), ('the', 'DT'), ('globe', 'NN'), (',', ','), ('than', 'IN'), ('any', 'DT'), ('nation', 'NN'), ('has', 'VBZ'), ('ever', 'RB'), ('done', 'VBN'), ('in', 'IN'), ('the', 'DT'), ('history', 'NN'), ('of', 'IN'), ('man', 'NN'), ('.', '.'), ('We', 'PRP'), ('have', 'VBP'), ('fought', 'VBN'), ('four', 'CD'), ('wars', 'NNS'), ('in', 'IN'), ('this', 'DT'), ('century', 'NN'), (',', ','), ('but', 'CC'), ('our', 'PRP$'), ('power', 'NN'), ('has', 'VBZ'), ('never', 'RB'), ('been', 'VBN'), ('used', 'VBN'), ('to', 'TO'), ('break', 'VB'), ('the', 'DT'), ('peace', 'NN'), (',', ','), ('only', 'RB'), ('to', 'TO'), ('keep', 'VB'), ('it', 'PRP'), (';', ':'), ('never', 'RB'), ('been', 'VBN'), ('used', 'VBN'), ('to', 'TO'), ('destroy', 'VB'), ('freedom', 'NN'), (',', ','), ('only', 'RB'), ('to', 'TO'), ('defend', 'VB'), ('it', 'PRP'), (';', ':'), ('never', 'RB'), ('been', 'VBN'), ('used', 'VBN'), ('to', 'TO'), ('destroy', 'VB'), ('freedom', 'NN'), (',', ','), ('only', 'RB'), ('to', 'TO'), ('defend', 'VB'), ('it', 'PRP'), ('.', '.'), ('We', 'PRP'), ('now', 'RB'), ('have', 'VBP'), ('within', 'IN'), ('our', 'PRP$'), ('reach', 'NN'), ('the', 'DT'), ('goal', 'NN'), ('of', 'IN'), ('insuring', 'VBG'), ('that', 'IN'), ('the', 'DT'), ('next', 'JJ'), ('generation', 'NN'), ('can', 'MD'), ('be', 'VB'), ('the', 'DT'), ('first', 'JJ'), ('generation', 'NN'), ('in', 'IN'), ('this', 'DT'), ('century', 'NN'), ('to', 'TO'), ('be', 'VB'), ('spared', 'VBN'), ('the', 'DT'), ('scourges', 'NNS'), ('of', 'IN'), ('war', 'NN'), ('.', '.'), ('Turning', 'VBG'), ('to', 'TO'), ('our', 'PRP$'), ('problems', 'NNS'), ('at', 'IN'), ('home', 'NN'), (',', ','), ('we', 'PRP'), ('are', 'VBP'), ('making', 'VBG'), ('progress', 'NN'), ('toward', 'IN'), ('our', 'PRP$'), ('goal', 'NN'), ('of', 'IN'), ('a', 'DT'), ('new', 'JJ'), ('prosperity', 'NN'), ('without', 'IN'), ('war', 'NN'), ('.', '.'), Tree('NE', [('Industrial', 'NNP')]), ('production', 'NN'), (',', ','), ('consumer', 'NN'), ('spending', 'NN'), (',', ','), ('retail', 'JJ'), ('sales', 'NNS'), (',', ','), ('personal', 'JJ'), ('income', 'NN'), ('all', 'DT'), ('have', 'VBP'), ('been', 'VBN'), ('rising', 'VBG'), ('.', '.'), ('Total', 'JJ'), ('employment', 'NN'), (',', ','), ('real', 'JJ'), ('income', 'NN'), ('are', 'VBP'), ('the', 'DT'), ('highest', 'JJS'), ('in', 'IN'), ('history', 'NN'), ('.', '.'), ('New', 'NNP'), ('homebuilding', 'VBG'), ('starts', 'VBZ'), ('this', 'DT'), ('past', 'JJ'), ('year', 'NN'), ('reached', 'VBD'), ('the', 'DT'), ('highest', 'JJS'), ('level', 'NN'), ('ever', 'RB'), ('.', '.'), ('Business', 'NNP'), ('and', 'CC'), ('consumer', 'NN'), ('confidence', 'NN'), ('have', 'VBP'), ('both', 'DT'), ('been', 'VBN'), ('rising', 'VBG'), ('.', '.'), ('Interest', 'JJS'), ('rates', 'NNS'), ('are', 'VBP'), ('down', 'RB'), ('.', '.'), ('The', 'DT'), ('rate', 'NN'), ('of', 'IN'), ('inflation', 'NN'), ('is', 'VBZ'), ('down', 'RB'), ('.', '.'), ('We', 'PRP'), ('can', 'MD'), ('look', 'VB'), ('with', 'IN'), ('confidence', 'NN'), ('to', 'TO'), ('1972', 'CD'), ('as', 'IN'), ('the', 'DT'), ('year', 'NN'), ('when', 'WRB'), ('the', 'DT'), ('back', 'NN'), ('of', 'IN'), ('inflation', 'NN'), ('will', 'MD'), ('be', 'VB'), ('broken', 'VBN'), ('.', '.'), ('Now', 'RB'), (',', ','), ('this', 'DT'), ('a', 'DT'), ('good', 'JJ'), ('record', 'NN'), (',', ','), ('but', 'CC'), ('it', 'PRP'), ('is', 'VBZ'), ('not', 'RB'), ('good', 'JJ'), ('enough�Xnot', 'NN'), ('when', 'WRB'), ('we', 'PRP'), ('still', 'RB'), ('have', 'VBP'), ('an', 'DT'), ('unemployment', 'NN'), ('rate', 'NN'), ('of', 'IN'), ('6', 'CD'), ('percent', 'NN'), ('.', '.'), ('It', 'PRP'), ('is', 'VBZ'), ('not', 'RB'), ('enough', 'RB'), ('to', 'TO'), ('point', 'VB'), ('out', 'RP'), ('that', 'IN'), ('this', 'DT'), ('was', 'VBD'), ('the', 'DT'), ('rate', 'NN'), ('of', 'IN'), ('the', 'DT'), ('early', 'JJ'), ('peacetime', 'NN'), ('years', 'NNS'), ('of', 'IN'), ('the', 'DT'), ('sixties', 'NNS'), (',', ','), ('or', 'CC'), ('that', 'IN'), ('if', 'IN'), ('the', 'DT'), ('more', 'JJR'), ('than', 'IN'), ('2', 'CD'), ('million', 'CD'), ('men', 'NNS'), ('released', 'VBN'), ('from', 'IN'), ('the', 'DT'), Tree('NE', [('Armed', 'NNP'), ('Forces', 'NNPS')]), ('and', 'CC'), ('defense-related', 'JJ'), ('industries', 'NNS'), ('were', 'VBD'), ('still', 'RB'), ('in', 'IN'), ('their', 'PRP$'), ('wartime', 'NN'), ('jobs', 'NNS'), (',', ','), ('unemployment', 'NN'), ('would', 'MD'), ('be', 'VB'), ('far', 'RB'), ('lower', 'JJR'), ('.', '.'), ('Our', 'PRP$'), ('goal', 'NN'), ('in', 'IN'), ('this', 'DT'), ('country', 'NN'), ('is', 'VBZ'), ('full', 'JJ'), ('employment', 'NN'), ('in', 'IN'), ('peacetime', 'NN'), ('.', '.'), ('We', 'PRP'), ('intend', 'VBP'), ('to', 'TO'), ('meet', 'VB'), ('that', 'DT'), ('goal', 'NN'), (',', ','), ('and', 'CC'), ('we', 'PRP'), ('can', 'MD'), ('.', '.'), ('The', 'DT'), Tree('NE', [('Congress', 'NNP')]), ('has', 'VBZ'), ('helped', 'VBN'), ('to', 'TO'), ('meet', 'VB'), ('that', 'DT'), ('goal', 'NN'), ('by', 'IN'), ('passing', 'VBG'), ('our', 'PRP$'), ('job-creating', 'JJ'), ('tax', 'NN'), ('program', 'NN'), ('last', 'JJ'), ('month', 'NN'), ('.', '.'), ('The', 'DT'), ('historic', 'JJ'), ('monetary', 'JJ'), ('agreements', 'NNS'), (',', ','), ('agreements', 'NNS'), ('that', 'IN'), ('we', 'PRP'), ('have', 'VBP'), ('reached', 'VBN'), ('with', 'IN'), ('the', 'DT'), ('major', 'JJ'), Tree('NE', [('European', 'JJ')]), ('nations', 'NNS'), (',', ','), Tree('NE', [('Canada', 'NNP')]), (',', ','), ('and', 'CC'), Tree('NE', [('Japan', 'NNP')]), (',', ','), ('will', 'MD'), ('help', 'VB'), ('meet', 'VB'), ('it', 'PRP'), ('by', 'IN'), ('providing', 'VBG'), ('new', 'JJ'), ('markets', 'NNS'), ('for', 'IN'), Tree('NE', [('American', 'JJ')]), ('products', 'NNS'), (',', ','), ('new', 'JJ'), ('jobs', 'NNS'), ('for', 'IN'), Tree('NE', [('American', 'JJ')]), ('workers', 'NNS'), ('.', '.'), ('Our', 'PRP$'), ('budget', 'NN'), ('will', 'MD'), ('help', 'VB'), ('meet', 'VB'), ('it', 'PRP'), ('by', 'IN'), ('being', 'VBG'), ('expansionary', 'JJ'), ('without', 'IN'), ('being', 'VBG'), ('inflationary�Xa', 'JJ'), ('job-producing', 'NN'), ('budget', 'NN'), ('that', 'WDT'), ('will', 'MD'), ('help', 'VB'), ('take', 'VB'), ('up', 'RP'), ('the', 'DT'), ('gap', 'NN'), ('as', 'IN'), ('the', 'DT'), ('economy', 'NN'), ('expands', 'VBZ'), ('to', 'TO'), ('full', 'JJ'), ('employment', 'NN'), ('.', '.'), ('Our', 'PRP$'), ('program', 'NN'), ('to', 'TO'), ('raise', 'VB'), ('farm', 'JJ'), ('income', 'NN'), ('will', 'MD'), ('help', 'VB'), ('meet', 'VB'), ('it', 'PRP'), ('by', 'IN'), ('helping', 'VBG'), ('to', 'TO'), ('revitalize', 'VB'), ('rural', 'JJ'), Tree('NE', [('America', 'NNP')]), (',', ','), ('by', 'IN'), ('giving', 'VBG'), ('to', 'TO'), ('America��s', 'NNP'), ('farmers', 'NNS'), ('their', 'PRP$'), ('fair', 'JJ'), ('share', 'NN'), ('of', 'IN'), ('America��s', 'NNP'), ('increasing', 'VBG'), ('productivity', 'NN'), ('.', '.'), ('We', 'PRP'), ('also', 'RB'), ('will', 'MD'), ('help', 'VB'), ('meet', 'VB'), ('our', 'PRP$'), ('goal', 'NN'), ('of', 'IN'), ('full', 'JJ'), ('employment', 'NN'), ('in', 'IN'), ('peacetime', 'NN'), ('with', 'IN'), ('a', 'DT'), ('set', 'NN'), ('of', 'IN'), ('major', 'JJ'), ('initiatives', 'NNS'), ('to', 'TO'), ('stimulate', 'VB'), ('more', 'RBR'), ('imaginative', 'JJ'), ('use', 'NN'), ('of', 'IN'), ('America��s', 'NNP'), ('great', 'JJ'), ('capacity', 'NN'), ('for', 'IN'), ('technological', 'JJ'), ('advance', 'NN'), (',', ','), ('and', 'CC'), ('to', 'TO'), ('direct', 'VB'), ('it', 'PRP'), ('toward', 'IN'), ('improving', 'VBG'), ('the', 'DT'), ('quality', 'NN'), ('of', 'IN'), ('life', 'NN'), ('for', 'IN'), ('every', 'DT'), Tree('NE', [('American', 'NNP')]), ('.', '.'), ('In', 'IN'), ('reaching', 'VBG'), ('the', 'DT'), ('moon', 'NN'), (',', ','), ('we', 'PRP'), ('demonstrated', 'VBD'), ('what', 'WP'), ('miracles', 'VBZ'), Tree('NE', [('American', 'NNP')]), ('technology', 'NN'), ('is', 'VBZ'), ('capable', 'JJ'), ('of', 'IN'), ('achieving', 'VBG'), ('.', '.'), ('Now', 'RB'), ('the', 'DT'), ('time', 'NN'), ('has', 'VBZ'), ('come', 'VBN'), ('to', 'TO'), ('move', 'VB'), ('more', 'RBR'), ('deliberately', 'RB'), ('toward', 'IN'), ('making', 'VBG'), ('full', 'JJ'), ('use', 'NN'), ('of', 'IN'), ('that', 'DT'), ('technology', 'NN'), ('here', 'RB'), ('on', 'IN'), ('earth', 'NN'), (',', ','), ('of', 'IN'), ('harnessing', 'VBG'), ('the', 'DT'), ('wonders', 'NNS'), ('of', 'IN'), ('science', 'NN'), ('to', 'TO'), ('the', 'DT'), ('service', 'NN'), ('of', 'IN'), ('man', 'NN'), ('.', '.'), ('I', 'PRP'), ('shall', 'MD'), ('soon', 'RB'), ('send', 'VB'), ('to', 'TO'), ('the', 'DT'), ('Congress', 'NNP'), ('a', 'DT'), ('special', 'JJ'), ('message', 'NN'), ('proposing', 'VBG'), ('a', 'DT'), ('new', 'JJ'), ('program', 'NN'), ('of', 'IN'), ('Federal', 'NNP'), ('partnership', 'NN'), ('in', 'IN'), ('technological', 'JJ'), ('research', 'NN'), ('and', 'CC'), ('developments�Xwith', 'VBZ'), ('Federal', 'NNP'), ('incentives', 'NNS'), ('to', 'TO'), ('increase', 'VB'), ('private', 'JJ'), ('research', 'NN'), (',', ','), ('federally', 'RB'), ('supported', 'VBN'), ('research', 'NN'), ('on', 'IN'), ('projects', 'NNS'), ('designed', 'VBN'), ('to', 'TO'), ('improve', 'VB'), ('our', 'PRP$'), ('everyday', 'JJ'), ('lives', 'NNS'), ('in', 'IN'), ('ways', 'NNS'), ('that', 'WDT'), ('will', 'MD'), ('range', 'VB'), ('from', 'IN'), ('improving', 'VBG'), ('mass', 'NN'), ('transit', 'NN'), ('to', 'TO'), ('developing', 'VBG'), ('new', 'JJ'), ('systems', 'NNS'), ('of', 'IN'), ('emergency', 'NN'), ('health', 'NN'), ('care', 'NN'), ('that', 'WDT'), ('could', 'MD'), ('save', 'VB'), ('thousands', 'NNS'), ('of', 'IN'), ('lives', 'NNS'), ('annually', 'RB'), ('.', '.'), ('�', 'JJ'), ('@', 'NNP'), ('Historically', 'NNP'), (',', ','), ('our', 'PRP$'), ('superior', 'JJ'), ('technology', 'NN'), ('and', 'CC'), ('high', 'JJ'), ('productivity', 'NN'), ('have', 'VBP'), ('made', 'VBN'), ('it', 'PRP'), ('possible', 'JJ'), ('for', 'IN'), Tree('NE', [('American', 'JJ')]), ('workers', 'NNS'), ('to', 'TO'), ('be', 'VB'), ('the', 'DT'), ('highest', 'JJS'), ('paid', 'NN'), ('in', 'IN'), ('the', 'DT'), ('world', 'NN'), ('by', 'IN'), ('far', 'RB'), (',', ','), ('and', 'CC'), ('yet', 'RB'), ('for', 'IN'), ('our', 'PRP$'), ('goods', 'NNS'), ('still', 'RB'), ('to', 'TO'), ('compete', 'VB'), ('in', 'IN'), ('world', 'NN'), ('markets', 'NNS'), ('.', '.'), ('Now', 'RB'), ('we', 'PRP'), ('face', 'VBP'), ('a', 'DT'), ('new', 'JJ'), ('situation', 'NN'), ('.', '.'), ('As', 'IN'), ('other', 'JJ'), ('nations', 'NNS'), ('move', 'VBP'), ('rapidly', 'RB'), ('forward', 'RB'), ('in', 'IN'), ('technology', 'NN'), (',', ','), ('the', 'DT'), ('answer', 'NN'), ('to', 'TO'), ('the', 'DT'), ('new', 'JJ'), ('competition', 'NN'), ('is', 'VBZ'), ('not', 'RB'), ('to', 'TO'), ('build', 'VB'), ('a', 'DT'), ('wall', 'NN'), ('around', 'IN'), Tree('NE', [('America', 'NNP')]), (',', ','), ('but', 'CC'), ('rather', 'RB'), ('to', 'TO'), ('remain', 'VB'), ('competitive', 'JJ'), ('by', 'IN'), ('improving', 'VBG'), ('our', 'PRP$'), ('own', 'JJ'), ('technology', 'NN'), ('still', 'RB'), ('further', 'RBR'), ('and', 'CC'), ('by', 'IN'), ('increasing', 'VBG'), ('productivity', 'NN'), ('in', 'IN'), Tree('NE', [('American', 'JJ')]), ('industry', 'NN'), ('.', '.'), ('Our', 'PRP$'), ('new', 'JJ'), ('monetary', 'JJ'), ('and', 'CC'), ('trade', 'NN'), ('agreements', 'NNS'), ('will', 'MD'), ('make', 'VB'), ('it', 'PRP'), ('possible', 'JJ'), ('for', 'IN'), Tree('NE', [('American', 'JJ')]), ('goods', 'NNS'), ('to', 'TO'), ('compete', 'VB'), ('fairly', 'RB'), ('in', 'IN'), ('the', 'DT'), ('world��s', 'NN'), ('markets�Xbut', 'NN'), ('they', 'PRP'), ('still', 'RB'), ('must', 'MD'), ('compete', 'VB'), ('.', '.'), ('The', 'DT'), ('new', 'JJ'), ('technology', 'NN'), ('program', 'NN'), ('will', 'MD'), ('put', 'VB'), ('to', 'TO'), ('use', 'VB'), ('the', 'DT'), ('skills', 'NNS'), ('of', 'IN'), ('many', 'JJ'), ('highly', 'RB'), ('trained', 'JJ'), ('Americans', 'NNPS'), (',', ','), ('skills', 'NNS'), ('that', 'WDT'), ('might', 'MD'), ('otherwise', 'RB'), ('be', 'VB'), ('wasted', 'VBN'), ('.', '.'), ('It', 'PRP'), ('will', 'MD'), ('also', 'RB'), ('meet', 'VB'), ('the', 'DT'), ('growing', 'VBG'), ('technological', 'JJ'), ('challenge', 'NN'), ('from', 'IN'), ('abroad', 'RB'), (',', ','), ('and', 'CC'), ('it', 'PRP'), ('will', 'MD'), ('thus', 'RB'), ('help', 'VB'), ('to', 'TO'), ('create', 'VB'), ('new', 'JJ'), ('industries', 'NNS'), (',', ','), ('as', 'RB'), ('well', 'RB'), ('as', 'IN'), ('creating', 'VBG'), ('more', 'JJR'), ('jobs', 'NNS'), ('for', 'IN'), ('America��s', 'NNP'), ('workers', 'NNS'), ('in', 'IN'), ('producing', 'VBG'), ('for', 'IN'), ('the', 'DT'), ('world��s', 'NN'), ('markets', 'NNS'), ('.', '.'), ('This', 'DT'), ('second', 'JJ'), ('session', 'NN'), ('of', 'IN'), ('the', 'DT'), ('92d', 'CD'), ('congress', 'NN'), ('already', 'RB'), ('has', 'VBZ'), ('before', 'IN'), ('it', 'PRP'), ('more', 'JJR'), ('than', 'IN'), ('90', 'CD'), ('major', 'JJ'), ('Administration', 'NNP'), ('proposals', 'NNS'), ('which', 'WDT'), ('still', 'RB'), ('await', 'VBP'), ('action', 'NN'), ('.', '.'), ('I', 'PRP'), ('have', 'VBP'), ('discussed', 'VBN'), ('these', 'DT'), ('in', 'IN'), ('the', 'DT'), ('extensive', 'JJ'), ('written', 'VBN'), ('message', 'NN'), ('that', 'IN'), ('I', 'PRP'), ('have', 'VBP'), ('presented', 'VBN'), ('to', 'TO'), ('the', 'DT'), Tree('NE', [('Congress', 'NNP')]), ('today', 'NN'), ('.', '.'), ('They', 'PRP'), ('include', 'VBP'), (',', ','), ('among', 'IN'), ('others', 'NNS'), (',', ','), ('our', 'PRP$'), ('programs', 'NNS'), ('to', 'TO'), ('improve', 'VB'), ('life', 'NN'), ('for', 'IN'), ('the', 'DT'), ('aging', 'NN'), (';', ':'), ('to', 'TO'), ('combat', 'VB'), ('crime', 'NN'), ('and', 'CC'), ('drug', 'NN'), ('abuse', 'NN'), (';', ':'), ('to', 'TO'), ('improve', 'VB'), ('health', 'NN'), ('services', 'NNS'), ('and', 'CC'), ('to', 'TO'), ('ensure', 'VB'), ('that', 'IN'), ('no', 'DT'), ('one', 'NN'), ('will', 'MD'), ('be', 'VB'), ('denied', 'VBN'), ('needed', 'JJ'), ('health', 'NN'), ('care', 'NN'), ('because', 'IN'), ('of', 'IN'), ('inability', 'NN'), ('to', 'TO'), ('pay', 'VB'), (';', ':'), ('to', 'TO'), ('protect', 'VB'), ('workers��', 'JJ'), ('pension', 'NN'), ('rights', 'NNS'), (';', ':'), ('to', 'TO'), ('promote', 'VB'), ('equal', 'JJ'), ('opportunity', 'NN'), ('for', 'IN'), ('members', 'NNS'), ('of', 'IN'), ('minorities', 'NNS'), (',', ','), ('and', 'CC'), ('others', 'NNS'), ('who', 'WP'), ('have', 'VBP'), ('been', 'VBN'), ('left', 'VBN'), ('behind', 'IN'), (';', ':'), ('to', 'TO'), ('expand', 'VB'), ('consumer', 'NN'), ('protection', 'NN'), (';', ':'), ('to', 'TO'), ('improve', 'VB'), ('the', 'DT'), ('environment', 'NN'), (';', ':'), ('to', 'TO'), ('revitalize', 'VB'), ('rural', 'JJ'), Tree('NE', [('America', 'NNP')]), (';', ':'), ('to', 'TO'), ('help', 'VB'), ('the', 'DT'), ('cities', 'NNS'), (';', ':'), ('to', 'TO'), ('launch', 'VB'), ('new', 'JJ'), ('initiatives', 'NNS'), ('in', 'IN'), ('education', 'NN'), (';', ':'), ('to', 'TO'), ('improve', 'VB'), ('transportation', 'NN'), (',', ','), ('and', 'CC'), ('to', 'TO'), ('put', 'VB'), ('and', 'CC'), ('end', 'VB'), ('to', 'TO'), ('costly', 'JJ'), ('labor', 'NN'), ('tie-ups', 'NNS'), ('in', 'IN'), ('transportation', 'NN'), ('.', '.'), ('The', 'DT'), ('west', 'JJS'), ('coast', 'NN'), ('dock', 'NN'), ('strike', 'NN'), ('is', 'VBZ'), ('a', 'DT'), ('case', 'NN'), ('in', 'IN'), ('point', 'NN'), ('.', '.'), ('This', 'DT'), ('Nation', 'NN'), ('can', 'MD'), ('not', 'RB'), ('and', 'CC'), ('will', 'MD'), ('not', 'RB'), ('tolerate', 'VB'), ('that', 'IN'), ('kind', 'NN'), ('of', 'IN'), ('irresponsible', 'JJ'), ('labor', 'NN'), ('tie-up', 'NN'), ('in', 'IN'), ('the', 'DT'), ('future', 'NN'), ('.', '.'), ('The', 'DT'), ('messages', 'NNS'), ('also', 'RB'), ('include', 'VBP'), ('basic', 'JJ'), ('reforms', 'NNS'), ('which', 'WDT'), ('are', 'VBP'), ('essential', 'JJ'), ('if', 'IN'), ('our', 'PRP$'), ('structure', 'NN'), ('of', 'IN'), ('government', 'NN'), ('is', 'VBZ'), ('to', 'TO'), ('be', 'VB'), ('adequate', 'JJ'), ('in', 'IN'), ('the', 'DT'), ('decades', 'NNS'), ('ahead', 'RB'), ('.', '.'), ('They', 'PRP'), ('include', 'VBP'), ('reform', 'NN'), ('of', 'IN'), ('our', 'PRP$'), ('wasteful', 'JJ'), ('and', 'CC'), ('outmoded', 'VBD'), ('welfare', 'NN'), ('system�Xsubstitution', 'NN'), ('of', 'IN'), ('a', 'DT'), ('new', 'JJ'), ('system', 'NN'), ('that', 'WDT'), ('provides', 'VBZ'), ('work', 'NN'), ('requirements', 'NNS'), ('and', 'CC'), ('work', 'NN'), ('incentives', 'NNS'), ('for', 'IN'), ('those', 'DT'), ('who', 'WP'), ('can', 'MD'), ('help', 'VB'), ('themselves', 'PRP'), (',', ','), ('income', 'NN'), ('support', 'NN'), ('for', 'IN'), ('those', 'DT'), ('who', 'WP'), ('can', 'MD'), ('not', 'RB'), ('help', 'VB'), ('themselves', 'PRP'), (',', ','), ('and', 'CC'), ('fairness', 'NN'), ('to', 'TO'), ('the', 'DT'), ('working', 'VBG'), ('poor', 'JJ'), ('.', '.'), ('They', 'PRP'), ('include', 'VBP'), ('a', 'DT'), ('$', '$'), ('17', 'CD'), ('billion', 'CD'), ('program', 'NN'), ('of', 'IN'), ('Federal', 'NNP'), ('revenue', 'NN'), ('sharing', 'VBG'), ('with', 'IN'), ('the', 'DT'), ('States', 'NNPS'), ('and', 'CC'), ('localities', 'NNS'), ('as', 'IN'), ('an', 'DT'), ('investment', 'NN'), ('in', 'IN'), ('their', 'PRP$'), ('renewal', 'NN'), (',', ','), ('an', 'DT'), ('investment', 'NN'), ('also', 'RB'), ('of', 'IN'), ('faith', 'NN'), ('in', 'IN'), ('the', 'DT'), Tree('NE', [('American', 'JJ')]), ('people', 'NNS'), ('.', '.'), ('They', 'PRP'), ('also', 'RB'), ('include', 'VBP'), ('a', 'DT'), ('sweeping', 'JJ'), ('reorganization', 'NN'), ('of', 'IN'), ('the', 'DT'), ('executive', 'NN'), ('branch', 'NN'), ('of', 'IN'), ('the', 'DT'), ('Federal', 'NNP'), ('Government', 'NNP'), ('so', 'IN'), ('that', 'IN'), ('it', 'PRP'), ('will', 'MD'), ('be', 'VB'), ('more', 'RBR'), ('efficient', 'JJ'), (',', ','), ('more', 'RBR'), ('responsive', 'JJ'), (',', ','), ('and', 'CC'), ('able', 'JJ'), ('to', 'TO'), ('meet', 'VB'), ('the', 'DT'), ('challenges', 'NNS'), ('of', 'IN'), ('the', 'DT'), ('decades', 'NNS'), ('ahead', 'RB'), ('.', '.'), ('One', 'CD'), ('year', 'NN'), ('ago', 'RB'), (',', ','), ('standing', 'VBG'), ('in', 'IN'), ('this', 'DT'), ('place', 'NN'), (',', ','), ('I', 'PRP'), ('laid', 'VBD'), ('before', 'IN'), ('the', 'DT'), ('opening', 'NN'), ('session', 'NN'), ('of', 'IN'), ('this', 'DT'), ('Congress', 'NNP'), ('six', 'CD'), ('great', 'JJ'), ('goals', 'NNS'), ('.', '.'), ('One', 'CD'), ('of', 'IN'), ('these', 'DT'), ('was', 'VBD'), ('welfare', 'NN'), ('reform', 'NN'), ('.', '.'), ('That', 'DT'), ('proposal', 'NN'), ('has', 'VBZ'), ('been', 'VBN'), ('before', 'IN'), ('the', 'DT'), Tree('NE', [('Congress', 'NNP')]), ('now', 'RB'), ('for', 'IN'), ('nearly', 'RB'), ('2', 'CD'), ('1/2', 'CD'), ('years', 'NNS'), ('.', '.'), ('My', 'PRP$'), ('proposals', 'NNS'), ('on', 'IN'), ('revenue', 'NN'), ('sharing', 'VBG'), (',', ','), ('government', 'NN'), ('reorganization', 'NN'), (',', ','), ('health', 'NN'), ('care', 'NN'), (',', ','), ('and', 'CC'), ('the', 'DT'), ('environment', 'NN'), ('have', 'VBP'), ('now', 'RB'), ('been', 'VBN'), ('before', 'IN'), ('the', 'DT'), Tree('NE', [('Congress', 'NNP')]), ('for', 'IN'), ('nearly', 'RB'), ('a', 'DT'), ('year', 'NN'), ('.', '.'), ('Many', 'NNP'), ('of', 'IN'), ('the', 'DT'), ('other', 'JJ'), ('major', 'JJ'), ('proposals', 'NNS'), ('that', 'IN'), ('I', 'PRP'), ('have', 'VBP'), ('referred', 'VBN'), ('to', 'TO'), ('have', 'VB'), ('been', 'VBN'), ('here', 'RB'), ('that', 'IN'), ('long', 'RB'), ('or', 'CC'), ('longer', 'JJR'), ('.', '.'), ('Now', 'RB'), (',', ','), ('1971', 'CD'), (',', ','), ('we', 'PRP'), ('can', 'MD'), ('say', 'VB'), (',', ','), ('was', 'VBD'), ('a', 'DT'), ('year', 'NN'), ('of', 'IN'), ('consideration', 'NN'), ('of', 'IN'), ('these', 'DT'), ('measures', 'NNS'), ('.', '.'), ('Now', 'RB'), ('let', 'VBP'), ('us', 'PRP'), ('join', 'VB'), ('in', 'IN'), ('making', 'VBG'), ('1972', 'CD'), ('a', 'DT'), ('year', 'NN'), ('of', 'IN'), ('action', 'NN'), ('on', 'IN'), ('them', 'PRP'), (',', ','), ('action', 'NN'), ('by', 'IN'), ('the', 'DT'), Tree('NE', [('Congress', 'NNP')]), (',', ','), ('for', 'IN'), ('the', 'DT'), ('Nation', 'NNP'), ('and', 'CC'), ('for', 'IN'), ('the', 'DT'), ('people', 'NNS'), ('of', 'IN'), Tree('NE', [('America', 'NNP')]), ('.', '.'), ('Now', 'RB'), (',', ','), ('in', 'IN'), ('addition', 'NN'), (',', ','), ('there', 'EX'), ('is', 'VBZ'), ('one', 'CD'), ('pressing', 'VBG'), ('need', 'NN'), ('which', 'WDT'), ('I', 'PRP'), ('have', 'VBP'), ('not', 'RB'), ('previously', 'RB'), ('covered', 'VBN'), (',', ','), ('but', 'CC'), ('which', 'WDT'), ('must', 'MD'), ('be', 'VB'), ('placed', 'VBN'), ('on', 'IN'), ('the', 'DT'), ('national', 'JJ'), ('agenda', 'NN'), ('.', '.'), ('We', 'PRP'), ('long', 'RB'), ('have', 'VBP'), ('looked', 'VBN'), ('in', 'IN'), ('this', 'DT'), ('Nation', 'NN'), ('to', 'TO'), ('the', 'DT'), ('local', 'JJ'), ('property', 'NN'), ('tax', 'NN'), ('as', 'IN'), ('the', 'DT'), ('main', 'JJ'), ('source', 'NN'), ('of', 'IN'), ('financing', 'NN'), ('for', 'IN'), ('public', 'JJ'), ('primary', 'NN'), ('and', 'CC'), ('secondary', 'JJ'), ('education', 'NN'), ('.', '.'), ('As', 'IN'), ('a', 'DT'), ('result', 'NN'), (',', ','), ('soaring', 'VBG'), ('school', 'NN'), ('costs', 'NNS'), (',', ','), ('soaring', 'VBG'), ('property', 'NN'), ('tax', 'NN'), ('rates', 'NNS'), ('now', 'RB'), ('threaten', 'VBP'), ('both', 'DT'), ('our', 'PRP$'), ('communities', 'NNS'), ('and', 'CC'), ('our', 'PRP$'), ('schools', 'NNS'), ('.', '.'), ('They', 'PRP'), ('threaten', 'VBP'), ('communities', 'NNS'), ('because', 'IN'), ('property', 'NN'), ('taxes', 'NNS'), (',', ','), ('which', 'WDT'), ('more', 'RBR'), ('than', 'IN'), ('doubled', 'VBN'), ('in', 'IN'), ('the', 'DT'), ('10', 'CD'), ('years', 'NNS'), ('from', 'IN'), ('1960', 'CD'), ('to', 'TO'), ('70', 'CD'), (',', ','), ('have', 'VBP'), ('become', 'VBN'), ('one', 'CD'), ('of', 'IN'), ('the', 'DT'), ('most', 'RBS'), ('oppressive', 'JJ'), ('and', 'CC'), ('discriminatory', 'NN'), ('of', 'IN'), ('all', 'DT'), ('taxes', 'NNS'), (',', ','), ('hitting', 'VBG'), ('most', 'JJS'), ('cruelly', 'RB'), ('at', 'IN'), ('the', 'DT'), ('elderly', 'JJ'), ('and', 'CC'), ('the', 'DT'), ('retired', 'VBN'), (';', ':'), ('and', 'CC'), ('they', 'PRP'), ('threaten', 'VBP'), ('schools', 'NNS'), (',', ','), ('as', 'IN'), ('hard-pressed', 'JJ'), ('voters', 'NNS'), ('understandably', 'RB'), ('reject', 'VBP'), ('new', 'JJ'), ('bond', 'NN'), ('issues', 'NNS'), ('at', 'IN'), ('the', 'DT'), ('polls', 'NNS'), ('.', '.'), ('The', 'DT'), ('problem', 'NN'), ('has', 'VBZ'), ('been', 'VBN'), ('given', 'VBN'), ('even', 'RB'), ('greater', 'JJR'), ('urgency', 'NN'), ('by', 'IN'), ('four', 'CD'), ('recent', 'JJ'), ('court', 'NN'), ('decisions', 'NNS'), (',', ','), ('which', 'WDT'), ('have', 'VBP'), ('held', 'VBN'), ('that', 'IN'), ('the', 'DT'), ('conventional', 'JJ'), ('method', 'NN'), ('of', 'IN'), ('financing', 'NN'), ('schools', 'NNS'), ('through', 'IN'), ('local', 'JJ'), ('property', 'NN'), ('taxes', 'NNS'), ('is', 'VBZ'), ('discriminatory', 'JJ'), ('and', 'CC'), ('unconstitutional', 'JJ'), ('.', '.'), ('Nearly', 'RB'), ('2', 'CD'), ('years', 'NNS'), ('ago', 'RB'), (',', ','), ('I', 'PRP'), ('named', 'VBD'), ('a', 'DT'), ('special', 'JJ'), ('Presidential', 'JJ'), ('commission', 'NN'), ('to', 'TO'), ('study', 'VB'), ('the', 'DT'), ('problems', 'NNS'), ('of', 'IN'), ('school', 'NN'), ('finance', 'NN'), (',', ','), ('and', 'CC'), ('I', 'PRP'), ('also', 'RB'), ('directed', 'VBD'), ('the', 'DT'), ('Federal', 'NNP'), ('departments', 'NNS'), ('to', 'TO'), ('look', 'VB'), ('into', 'IN'), ('the', 'DT'), ('same', 'JJ'), ('problems', 'NNS'), ('.', '.'), ('We', 'PRP'), ('are', 'VBP'), ('developing', 'VBG'), ('comprehensive', 'JJ'), ('proposals', 'NNS'), ('to', 'TO'), ('meet', 'VB'), ('these', 'DT'), ('problems', 'NNS'), ('.', '.'), ('This', 'DT'), ('issue', 'NN'), ('involves', 'VBZ'), ('two', 'CD'), ('complex', 'NN'), ('and', 'CC'), ('interrelated', 'JJ'), ('sets', 'NNS'), ('of', 'IN'), ('problems', 'NNS'), (':', ':'), ('support', 'NN'), ('of', 'IN'), ('the', 'DT'), ('schools', 'NNS'), ('and', 'CC'), ('the', 'DT'), ('basic', 'JJ'), ('relationships', 'NNS'), ('of', 'IN'), ('Federal', 'NNP'), (',', ','), Tree('NE', [('State', 'NNP')]), (',', ','), ('and', 'CC'), ('local', 'JJ'), ('governments', 'NNS'), ('in', 'IN'), ('any', 'DT'), ('tax', 'NN'), ('reforms', 'NNS'), ('.', '.'), ('Under', 'IN'), ('the', 'DT'), ('leadership', 'NN'), ('of', 'IN'), ('the', 'DT'), ('Secretary', 'NNP'), ('of', 'IN'), ('the', 'DT'), Tree('NE', [('Treasury', 'NNP')]), (',', ','), ('we', 'PRP'), ('are', 'VBP'), ('carefully', 'RB'), ('reviewing', 'VBG'), ('all', 'DT'), ('of', 'IN'), ('the', 'DT'), ('tax', 'NN'), ('aspects', 'NNS'), (',', ','), ('and', 'CC'), ('I', 'PRP'), ('have', 'VBP'), ('this', 'DT'), ('week', 'NN'), ('enlisted', 'VBD'), ('the', 'DT'), Tree('NE', [('Advisory', 'NNP'), ('Commission', 'NNP')]), ('on', 'IN'), Tree('NE', [('Intergovernmental', 'NNP'), ('Relations', 'NNPS')]), ('in', 'IN'), ('addressing', 'VBG'), ('the', 'DT'), ('intergovernmental', 'JJ'), ('relations', 'NNS'), ('aspects', 'NNS'), ('.', '.'), ('I', 'PRP'), ('have', 'VBP'), ('asked', 'VBN'), ('this', 'DT'), ('bipartisan', 'JJ'), ('Commission', 'NNP'), ('to', 'TO'), ('review', 'VB'), ('our', 'PRP$'), ('proposals', 'NNS'), ('for', 'IN'), ('Federal', 'NNP'), ('action', 'NN'), ('to', 'TO'), ('cope', 'VB'), ('with', 'IN'), ('the', 'DT'), ('gathering', 'VBG'), ('crisis', 'NN'), ('of', 'IN'), ('school', 'NN'), ('finance', 'NN'), ('and', 'CC'), ('property', 'NN'), ('taxes', 'NNS'), ('.', '.'), ('Later', 'RB'), ('in', 'IN'), ('the', 'DT'), ('year', 'NN'), (',', ','), ('when', 'WRB'), ('both', 'DT'), ('Commissions', 'NNS'), ('have', 'VBP'), ('completed', 'VBN'), ('their', 'PRP$'), ('studies', 'NNS'), (',', ','), ('I', 'PRP'), ('shall', 'MD'), ('make', 'VB'), ('my', 'PRP$'), ('final', 'JJ'), ('recommendations', 'NNS'), ('for', 'IN'), ('relieving', 'VBG'), ('the', 'DT'), ('burden', 'NN'), ('of', 'IN'), ('property', 'NN'), ('taxes', 'NNS'), ('and', 'CC'), ('providing', 'VBG'), ('both', 'DT'), ('fair', 'JJ'), ('and', 'CC'), ('adequate', 'JJ'), ('financing', 'NN'), ('for', 'IN'), ('our', 'PRP$'), ('children��s', 'JJ'), ('education', 'NN'), ('.', '.'), ('These', 'DT'), ('recommendations', 'NNS'), ('will', 'MD'), ('be', 'VB'), ('revolutionary', 'JJ'), ('.', '.'), ('But', 'CC'), ('all', 'PDT'), ('these', 'DT'), ('recommendations', 'NNS'), (',', ','), ('however', 'RB'), (',', ','), ('will', 'MD'), ('be', 'VB'), ('rooted', 'VBN'), ('in', 'IN'), ('one', 'CD'), ('fundamental', 'JJ'), ('principle', 'NN'), ('with', 'IN'), ('which', 'WDT'), ('there', 'EX'), ('can', 'MD'), ('be', 'VB'), ('no', 'DT'), ('compromise', 'NN'), (':', ':'), ('Local', 'JJ'), ('school', 'NN'), ('boards', 'NNS'), ('must', 'MD'), ('have', 'VB'), ('control', 'NN'), ('over', 'IN'), ('local', 'JJ'), ('schools', 'NNS'), ('.', '.'), ('As', 'IN'), ('we', 'PRP'), ('look', 'VBP'), ('ahead', 'RB'), ('over', 'IN'), ('the', 'DT'), ('coming', 'VBG'), ('decades', 'NNS'), (',', ','), ('vast', 'JJ'), ('new', 'JJ'), ('growth', 'NN'), ('and', 'CC'), ('change', 'NN'), ('are', 'VBP'), ('not', 'RB'), ('only', 'RB'), ('certainties', 'NNS'), (',', ','), ('they', 'PRP'), ('will', 'MD'), ('be', 'VB'), ('the', 'DT'), ('dominant', 'JJ'), ('reality', 'NN'), ('of', 'IN'), ('this', 'DT'), ('world', 'NN'), (',', ','), ('and', 'CC'), ('particularly', 'RB'), ('of', 'IN'), ('our', 'PRP$'), ('life', 'NN'), ('in', 'IN'), Tree('NE', [('America', 'NNP')]), ('.', '.'), ('Surveying', 'VBG'), ('the', 'DT'), ('certainty', 'NN'), ('of', 'IN'), ('rapid', 'JJ'), ('change', 'NN'), (',', ','), ('we', 'PRP'), ('can', 'MD'), ('be', 'VB'), ('like', 'IN'), ('a', 'DT'), ('fallen', 'JJ'), ('rider', 'NN'), ('caught', 'NN'), ('in', 'IN'), ('the', 'DT'), ('stirrups�Xor', 'NN'), ('we', 'PRP'), ('can', 'MD'), ('sit', 'VB'), ('high', 'JJ'), ('in', 'IN'), ('the', 'DT'), ('saddle', 'NN'), (',', ','), ('the', 'DT'), ('masters', 'NNS'), ('of', 'IN'), ('change', 'NN'), (',', ','), ('directing', 'VBG'), ('it', 'PRP'), ('on', 'IN'), ('a', 'DT'), ('course', 'NN'), ('we', 'PRP'), ('choose', 'VBP'), ('.', '.'), ('The', 'DT'), ('secret', 'NN'), ('of', 'IN'), ('mastering', 'VBG'), ('change', 'NN'), ('in', 'IN'), ('today��s', 'JJ'), ('world', 'NN'), ('is', 'VBZ'), ('to', 'TO'), ('reach', 'VB'), ('back', 'RB'), ('to', 'TO'), ('old', 'JJ'), ('and', 'CC'), ('proven', 'JJ'), ('principles', 'NNS'), (',', ','), ('and', 'CC'), ('to', 'TO'), ('adapt', 'VB'), ('them', 'PRP'), ('with', 'IN'), ('imagination', 'NN'), ('and', 'CC'), ('intelligence', 'NN'), ('to', 'TO'), ('the', 'DT'), ('new', 'JJ'), ('realities', 'NNS'), ('of', 'IN'), ('a', 'DT'), ('new', 'JJ'), ('age', 'NN'), ('.', '.'), ('That', 'DT'), ('is', 'VBZ'), ('what', 'WP'), ('we', 'PRP'), ('have', 'VBP'), ('done', 'VBN'), ('in', 'IN'), ('the', 'DT'), ('proposals', 'NNS'), ('that', 'IN'), ('I', 'PRP'), ('have', 'VBP'), ('laid', 'VBN'), ('before', 'IN'), ('the', 'DT'), Tree('NE', [('Congress', 'NNP')]), ('.', '.'), ('They', 'PRP'), ('are', 'VBP'), ('rooted', 'VBN'), ('in', 'IN'), ('basic', 'JJ'), ('principles', 'NNS'), ('that', 'WDT'), ('are', 'VBP'), ('as', 'RB'), ('enduring', 'VBG'), ('as', 'IN'), ('human', 'JJ'), ('nature', 'NN'), (',', ','), ('as', 'RB'), ('robust', 'JJ'), ('as', 'IN'), ('the', 'DT'), Tree('NE', [('American', 'JJ')]), ('experience', 'NN'), (';', ':'), ('and', 'CC'), ('they', 'PRP'), ('are', 'VBP'), ('responsive', 'JJ'), ('to', 'TO'), ('new', 'JJ'), ('conditions', 'NNS'), ('.', '.'), ('Thus', 'RB'), ('they', 'PRP'), ('represent', 'VBP'), ('a', 'DT'), ('spirit', 'NN'), ('of', 'IN'), ('change', 'NN'), ('that', 'WDT'), ('is', 'VBZ'), ('truly', 'RB'), ('renewal', 'JJ'), ('.', '.'), ('As', 'IN'), ('we', 'PRP'), ('look', 'VBP'), ('back', 'RB'), ('at', 'IN'), ('those', 'DT'), ('old', 'JJ'), ('principles', 'NNS'), (',', ','), ('we', 'PRP'), ('find', 'VBP'), ('them', 'PRP'), ('as', 'RB'), ('timely', 'RB'), ('as', 'IN'), ('they', 'PRP'), ('are', 'VBP'), ('timeless', 'JJ'), ('.', '.'), ('We', 'PRP'), ('believe', 'VBP'), ('in', 'IN'), ('independence', 'NN'), (',', ','), ('and', 'CC'), ('self-reliance', 'NN'), (',', ','), ('and', 'CC'), ('the', 'DT'), ('creative', 'JJ'), ('value', 'NN'), ('of', 'IN'), ('the', 'DT'), ('competitive', 'JJ'), ('spirit', 'NN'), ('.', '.'), ('We', 'PRP'), ('believe', 'VBP'), ('in', 'IN'), ('full', 'JJ'), ('and', 'CC'), ('equal', 'JJ'), ('opportunity', 'NN'), ('for', 'IN'), ('all', 'DT'), ('Americans', 'NNPS'), ('and', 'CC'), ('in', 'IN'), ('the', 'DT'), ('protection', 'NN'), ('of', 'IN'), ('individual', 'JJ'), ('rights', 'NNS'), ('and', 'CC'), ('liberties', 'NNS'), ('.', '.'), ('We', 'PRP'), ('believe', 'VBP'), ('in', 'IN'), ('the', 'DT'), ('family', 'NN'), ('as', 'IN'), ('the', 'DT'), ('keystone', 'NN'), ('of', 'IN'), ('the', 'DT'), ('community', 'NN'), (',', ','), ('and', 'CC'), ('in', 'IN'), ('the', 'DT'), ('community', 'NN'), ('as', 'IN'), ('the', 'DT'), ('keystone', 'NN'), ('of', 'IN'), ('the', 'DT'), ('Nation', 'NNP'), ('.', '.'), ('We', 'PRP'), ('believe', 'VBP'), ('in', 'IN'), ('compassion', 'NN'), ('toward', 'IN'), ('those', 'DT'), ('in', 'IN'), ('need', 'NN'), ('.', '.'), ('We', 'PRP'), ('believe', 'VBP'), ('in', 'IN'), ('a', 'DT'), ('system', 'NN'), ('of', 'IN'), ('law', 'NN'), (',', ','), ('justice', 'NN'), (',', ','), ('and', 'CC'), ('order', 'NN'), ('as', 'IN'), ('the', 'DT'), ('basis', 'NN'), ('of', 'IN'), ('a', 'DT'), ('genuinely', 'JJ'), ('free', 'JJ'), ('society', 'NN'), ('.', '.'), ('We', 'PRP'), ('believe', 'VBP'), ('that', 'IN'), ('a', 'DT'), ('person', 'NN'), ('should', 'MD'), ('get', 'VB'), ('what', 'WP'), ('he', 'PRP'), ('works', 'VBZ'), ('for�Xand', 'NN'), ('that', 'IN'), ('those', 'DT'), ('who', 'WP'), ('can', 'MD'), (',', ','), ('should', 'MD'), ('work', 'VB'), ('for�Xand', 'NN'), ('that', 'IN'), ('those', 'DT'), ('who', 'WP'), ('can', 'MD'), (',', ','), ('should', 'MD'), ('work', 'VB'), ('for', 'IN'), ('what', 'WP'), ('they', 'PRP'), ('get', 'VBP'), ('.', '.'), ('We', 'PRP'), ('believe', 'VBP'), ('in', 'IN'), ('the', 'DT'), ('capacity', 'NN'), ('of', 'IN'), ('people', 'NNS'), ('to', 'TO'), ('make', 'VB'), ('their', 'PRP$'), ('own', 'JJ'), ('decisions', 'NNS'), ('in', 'IN'), ('their', 'PRP$'), ('own', 'JJ'), ('lives', 'NNS'), (',', ','), ('in', 'IN'), ('their', 'PRP$'), ('own', 'JJ'), ('communities�Xand', 'NN'), ('we', 'PRP'), ('believe', 'VBP'), ('in', 'IN'), ('their', 'PRP$'), ('right', 'NN'), ('to', 'TO'), ('make', 'VB'), ('those', 'DT'), ('decisions', 'NNS'), ('.', '.'), ('In', 'IN'), ('applying', 'VBG'), ('these', 'DT'), ('principles', 'NNS'), (',', ','), ('we', 'PRP'), ('have', 'VBP'), ('done', 'VBN'), ('so', 'RB'), ('with', 'IN'), ('the', 'DT'), ('full', 'JJ'), ('understanding', 'NN'), ('that', 'IN'), ('what', 'WP'), ('we', 'PRP'), ('seek', 'VBP'), ('in', 'IN'), ('the', 'DT'), ('seventies', 'NNS'), (',', ','), ('what', 'WP'), ('our', 'PRP$'), ('quest', 'NN'), ('is', 'VBZ'), (',', ','), ('is', 'VBZ'), ('not', 'RB'), ('merely', 'RB'), ('for', 'IN'), ('more', 'JJR'), (',', ','), ('but', 'CC'), ('for', 'IN'), ('better�Xfor', 'NN'), ('a', 'DT'), ('better', 'JJR'), ('quality', 'NN'), ('of', 'IN'), ('life', 'NN'), ('for', 'IN'), ('all', 'DT'), ('Americans', 'NNPS'), ('.', '.'), ('Thus', 'RB'), (',', ','), ('for', 'IN'), ('example', 'NN'), (',', ','), ('we', 'PRP'), ('are', 'VBP'), ('giving', 'VBG'), ('a', 'DT'), ('new', 'JJ'), ('measure', 'NN'), ('of', 'IN'), ('attention', 'NN'), ('to', 'TO'), ('cleaning', 'VBG'), ('up', 'RP'), ('our', 'PRP$'), ('air', 'NN'), ('and', 'CC'), ('water', 'NN'), (',', ','), ('making', 'VBG'), ('our', 'PRP$'), ('surroundings', 'NNS'), ('more', 'RBR'), ('attractive', 'JJ'), ('.', '.'), ('We', 'PRP'), ('are', 'VBP'), ('providing', 'VBG'), ('broader', 'JJR'), ('support', 'NN'), ('for', 'IN'), ('the', 'DT'), ('arts', 'NNS'), (',', ','), ('helping', 'VBG'), ('stimulate', 'VB'), ('a', 'DT'), ('deeper', 'JJR'), ('appreciation', 'NN'), ('of', 'IN'), ('what', 'WP'), ('they', 'PRP'), ('can', 'MD'), ('contribute', 'VB'), ('to', 'TO'), ('the', 'DT'), ('Nation��s', 'NNP'), ('activities', 'NNS'), ('and', 'CC'), ('to', 'TO'), ('our', 'PRP$'), ('individual', 'JJ'), ('lives', 'NNS'), ('.', '.'), ('But', 'CC'), ('nothing', 'NN'), ('really', 'RB'), ('matters', 'VBZ'), ('more', 'RBR'), ('to', 'TO'), ('the', 'DT'), ('quality', 'NN'), ('of', 'IN'), ('our', 'PRP$'), ('lives', 'NNS'), ('than', 'IN'), ('the', 'DT'), ('way', 'NN'), ('we', 'PRP'), ('treat', 'VBP'), ('one', 'CD'), ('another', 'DT'), (',', ','), ('than', 'IN'), ('our', 'PRP$'), ('capacity', 'NN'), ('to', 'TO'), ('live', 'VB'), ('respectfully', 'RB'), ('together', 'RB'), ('as', 'IN'), ('a', 'DT'), ('unified', 'JJ'), ('society', 'NN'), (',', ','), ('with', 'IN'), ('a', 'DT'), ('full', 'JJ'), (',', ','), ('generous', 'JJ'), ('regard', 'NN'), ('for', 'IN'), ('the', 'DT'), ('rights', 'NNS'), ('of', 'IN'), ('others', 'NNS'), ('and', 'CC'), ('also', 'RB'), ('for', 'IN'), ('the', 'DT'), ('feelings', 'NNS'), ('of', 'IN'), ('others', 'NNS'), ('.', '.'), ('As', 'IN'), ('we', 'PRP'), ('recover', 'VBP'), ('from', 'IN'), ('the', 'DT'), ('turmoil', 'NN'), ('and', 'CC'), ('violence', 'NN'), ('of', 'IN'), ('recent', 'JJ'), ('years', 'NNS'), (',', ','), ('as', 'IN'), ('we', 'PRP'), ('learn', 'VBP'), ('once', 'RB'), ('again', 'RB'), ('to', 'TO'), ('speak', 'VB'), ('with', 'IN'), ('one', 'CD'), ('another', 'DT'), ('instead', 'RB'), ('of', 'IN'), ('shouting', 'VBG'), ('at', 'IN'), ('one', 'CD'), ('another', 'DT'), (',', ','), ('we', 'PRP'), ('are', 'VBP'), ('regaining', 'VBG'), ('that', 'DT'), ('capacity', 'NN'), ('.', '.'), ('As', 'IN'), ('is', 'VBZ'), ('customary', 'JJ'), ('here', 'RB'), (',', ','), ('on', 'IN'), ('this', 'DT'), ('occasion', 'NN'), (',', ','), ('I', 'PRP'), ('have', 'VBP'), ('been', 'VBN'), ('talking', 'VBG'), ('about', 'IN'), ('programs', 'NNS'), ('.', '.'), ('Programs', 'NNS'), ('are', 'VBP'), ('important', 'JJ'), ('.', '.'), ('But', 'CC'), ('even', 'RB'), ('more', 'RBR'), ('important', 'JJ'), ('than', 'IN'), ('programs', 'NNS'), ('is', 'VBZ'), ('what', 'WP'), ('we', 'PRP'), ('are', 'VBP'), ('as', 'IN'), ('a', 'DT'), ('Nation�Xwhat', 'NNP'), ('we', 'PRP'), ('mean', 'VBP'), ('as', 'IN'), ('a', 'DT'), ('Nation', 'NN'), (',', ','), ('to', 'TO'), ('ourselves', 'NNS'), ('and', 'CC'), ('to', 'TO'), ('the', 'DT'), ('world', 'NN'), ('.', '.'), ('In', 'IN'), Tree('NE', [('New', 'NNP'), ('York', 'NNP'), ('Harbor', 'NNP')]), ('stands', 'VBZ'), ('one', 'CD'), ('of', 'IN'), ('the', 'DT'), ('most', 'RBS'), ('famous', 'JJ'), ('statues', 'NNS'), ('in', 'IN'), ('the', 'DT'), ('world�Xthe', 'NN'), ('Statue', 'NNP'), ('of', 'IN'), Tree('NE', [('Liberty', 'NNP')]), (',', ','), ('the', 'DT'), ('gift', 'NN'), ('in', 'IN'), ('1886', 'CD'), ('of', 'IN'), ('the', 'DT'), ('people', 'NNS'), ('of', 'IN'), Tree('NE', [('France', 'NNP')]), ('to', 'TO'), ('the', 'DT'), ('people', 'NNS'), ('of', 'IN'), ('the', 'DT'), Tree('NE', [('United', 'NNP'), ('States', 'NNPS')]), ('.', '.'), ('This', 'DT'), ('statue', 'NN'), ('is', 'VBZ'), ('more', 'JJR'), ('than', 'IN'), ('a', 'DT'), ('landmark', 'NN'), (';', ':'), ('it', 'PRP'), ('is', 'VBZ'), ('a', 'DT'), ('symbol�Xa', 'JJ'), ('symbol', 'NN'), ('of', 'IN'), ('what', 'WP'), Tree('NE', [('America', 'NNP')]), ('has', 'VBZ'), ('meant', 'VBN'), ('to', 'TO'), ('the', 'DT'), ('world', 'NN'), ('.', '.'), ('It', 'PRP'), ('reminds', 'VBZ'), ('us', 'PRP'), ('that', 'IN'), ('what', 'WP'), Tree('NE', [('America', 'NNP')]), ('has', 'VBZ'), ('meant', 'VBN'), ('is', 'VBZ'), ('not', 'RB'), ('its', 'PRP$'), ('wealth', 'NN'), (',', ','), ('and', 'CC'), ('not', 'RB'), ('its', 'PRP$'), ('power', 'NN'), (',', ','), ('but', 'CC'), ('its', 'PRP$'), ('spirit', 'NN'), ('and', 'CC'), ('purpose�Xa', 'NN'), ('land', 'NN'), ('that', 'WDT'), ('enshrines', 'VBZ'), ('liberty', 'NN'), ('and', 'CC'), ('opportunity', 'NN'), (',', ','), ('and', 'CC'), ('that', 'DT'), ('has', 'VBZ'), ('held', 'VBN'), ('out', 'RP'), ('a', 'DT'), ('hand', 'NN'), ('of', 'IN'), ('welcome', 'NN'), ('to', 'TO'), ('millions', 'NNS'), ('in', 'IN'), ('search', 'NN'), ('of', 'IN'), ('a', 'DT'), ('better', 'JJR'), ('and', 'CC'), ('a', 'DT'), ('fuller', 'NN'), ('and', 'CC'), (',', ','), ('above', 'IN'), ('all', 'DT'), (',', ','), ('a', 'DT'), ('freer', 'JJ'), ('life', 'NN'), ('.', '.'), ('The', 'DT'), ('world��s', 'NN'), ('hopes', 'VBZ'), ('poured', 'VBN'), ('into', 'IN'), Tree('NE', [('America', 'NNP')]), (',', ','), ('along', 'IN'), ('with', 'IN'), ('its', 'PRP$'), ('people', 'NNS'), ('.', '.'), ('And', 'CC'), ('those', 'DT'), ('hopes', 'NNS'), (',', ','), ('those', 'DT'), ('dreams', 'NNS'), (',', ','), ('that', 'WDT'), ('have', 'VBP'), ('been', 'VBN'), ('brought', 'VBN'), ('here', 'RB'), ('from', 'IN'), ('every', 'DT'), ('corner', 'NN'), ('of', 'IN'), ('the', 'DT'), ('world', 'NN'), (',', ','), ('have', 'VBP'), ('become', 'VBN'), ('a', 'DT'), ('part', 'NN'), ('of', 'IN'), ('the', 'DT'), ('hope', 'NN'), ('that', 'IN'), ('we', 'PRP'), ('now', 'RB'), ('hold', 'VBP'), ('out', 'RP'), ('to', 'TO'), ('the', 'DT'), ('world', 'NN'), ('.', '.'), ('Four', 'CD'), ('years', 'NNS'), ('from', 'IN'), ('now', 'RB'), (',', ','), Tree('NE', [('America', 'NNP')]), ('will', 'MD'), ('celebrate', 'VB'), ('the', 'DT'), ('200th', 'JJ'), ('anniversary', 'NN'), ('of', 'IN'), ('its', 'PRP$'), ('founding', 'NN'), ('as', 'IN'), ('a', 'DT'), ('Nation', 'NN'), ('.', '.'), ('There', 'EX'), ('are', 'VBP'), ('those', 'DT'), ('who', 'WP'), ('say', 'VBP'), ('that', 'IN'), ('the', 'DT'), ('old', 'JJ'), ('Spirit', 'NNP'), ('of', 'IN'), ('��76', 'NNP'), ('is', 'VBZ'), ('dead�Xthat', 'IN'), ('we', 'PRP'), ('no', 'RB'), ('longer', 'RBR'), ('have', 'VB'), ('the', 'DT'), ('strength', 'NN'), ('of', 'IN'), ('character', 'NN'), (',', ','), ('the', 'DT'), ('idealism', 'NN'), (',', ','), ('the', 'DT'), ('faith', 'NN'), ('in', 'IN'), ('our', 'PRP$'), ('founding', 'NN'), ('purposes', 'NNS'), ('that', 'IN'), ('that', 'DT'), ('spirit', 'NN'), ('represents', 'VBZ'), ('.', '.'), ('Those', 'DT'), ('who', 'WP'), ('say', 'VBP'), ('this', 'DT'), ('do', 'VBP'), ('not', 'RB'), ('know', 'VB'), Tree('NE', [('America', 'NNP')]), ('.', '.'), ('We', 'PRP'), ('have', 'VBP'), ('been', 'VBN'), ('undergoing', 'JJ'), ('self-doubts', 'JJ'), ('and', 'CC'), ('self-criticism', 'NN'), ('.', '.'), ('But', 'CC'), ('these', 'DT'), ('are', 'VBP'), ('only', 'RB'), ('the', 'DT'), ('other', 'JJ'), ('side', 'NN'), ('of', 'IN'), ('our', 'PRP$'), ('growing', 'VBG'), ('sensitivity', 'NN'), ('to', 'TO'), ('the', 'DT'), ('persistence', 'NN'), ('of', 'IN'), ('want', 'NN'), ('in', 'IN'), ('the', 'DT'), ('midst', 'NN'), ('of', 'IN'), ('plenty', 'NN'), (',', ','), ('of', 'IN'), ('our', 'PRP$'), ('impatience', 'NN'), ('with', 'IN'), ('the', 'DT'), ('slowness', 'NN'), ('with', 'IN'), ('which', 'WDT'), ('age-old', 'JJ'), ('ills', 'NNS'), ('are', 'VBP'), ('being', 'VBG'), ('overcome', 'VBN'), ('.', '.'), ('If', 'IN'), ('we', 'PRP'), ('were', 'VBD'), ('indifferent', 'JJ'), ('to', 'TO'), ('the', 'DT'), ('shortcomings', 'NNS'), ('of', 'IN'), ('our', 'PRP$'), ('society', 'NN'), (',', ','), ('or', 'CC'), ('complacent', 'NN'), ('about', 'IN'), ('our', 'PRP$'), ('institutions', 'NNS'), (',', ','), ('or', 'CC'), ('blind', 'VB'), ('to', 'TO'), ('the', 'DT'), ('lingering', 'VBG'), ('inequities�Xthen', 'NN'), ('we', 'PRP'), ('would', 'MD'), ('have', 'VB'), ('lost', 'VBN'), ('our', 'PRP$'), ('way', 'NN'), ('.', '.'), ('But', 'CC'), ('the', 'DT'), ('fact', 'NN'), ('that', 'IN'), ('we', 'PRP'), ('have', 'VBP'), ('those', 'DT'), ('concerns', 'NNS'), ('is', 'VBZ'), ('evidence', 'NN'), ('that', 'IN'), ('our', 'PRP$'), ('ideals', 'NNS'), (',', ','), ('deep', 'JJ'), ('down', 'IN'), (',', ','), ('are', 'VBP'), ('still', 'RB'), ('strong', 'JJ'), ('.', '.'), ('Indeed', 'RB'), (',', ','), ('they', 'PRP'), ('remind', 'VBP'), ('us', 'PRP'), ('that', 'IN'), ('what', 'WP'), ('is', 'VBZ'), ('really', 'RB'), ('best', 'RBS'), ('about', 'IN'), Tree('NE', [('America', 'NNP')]), ('is', 'VBZ'), ('its', 'PRP$'), ('compassion', 'NN'), ('.', '.'), ('They', 'PRP'), ('remind', 'VBP'), ('us', 'PRP'), ('that', 'IN'), ('in', 'IN'), ('the', 'DT'), ('final', 'JJ'), ('analysis', 'NN'), (',', ','), Tree('NE', [('America', 'NNP')]), ('is', 'VBZ'), ('great', 'JJ'), ('not', 'RB'), ('because', 'IN'), ('it', 'PRP'), ('is', 'VBZ'), ('rich', 'JJ'), (',', ','), ('but', 'CC'), ('because', 'IN'), ('this', 'DT'), ('is', 'VBZ'), ('a', 'DT'), ('good', 'JJ'), ('country', 'NN'), ('.', '.'), ('Let', 'VB'), ('us', 'PRP'), ('reject', 'VB'), ('the', 'DT'), ('narrow', 'JJ'), ('visions', 'NNS'), ('of', 'IN'), ('those', 'DT'), ('who', 'WP'), ('would', 'MD'), ('tell', 'VB'), ('us', 'PRP'), ('that', 'IN'), ('we', 'PRP'), ('are', 'VBP'), ('evil', 'JJ'), ('because', 'IN'), ('we', 'PRP'), ('are', 'VBP'), ('not', 'RB'), ('yet', 'RB'), ('perfect', 'JJ'), (',', ','), ('that', 'IN'), ('we', 'PRP'), ('are', 'VBP'), ('corrupt', 'JJ'), ('because', 'IN'), ('we', 'PRP'), ('are', 'VBP'), ('not', 'RB'), ('yet', 'RB'), ('pure', 'NN'), (',', ','), ('that', 'IN'), ('all', 'PDT'), ('the', 'DT'), ('sweat', 'NN'), ('and', 'CC'), ('trial', 'NN'), ('and', 'CC'), ('sacrifice', 'NN'), ('that', 'WDT'), ('have', 'VBP'), ('gone', 'VBN'), ('into', 'IN'), ('the', 'DT'), ('building', 'NN'), ('of', 'IN'), Tree('NE', [('America', 'NNP')]), ('were', 'VBD'), ('for', 'IN'), ('naught', 'NN'), ('because', 'IN'), ('the', 'DT'), ('building', 'NN'), ('is', 'VBZ'), ('not', 'RB'), ('yet', 'RB'), ('done', 'VBN'), ('.', '.'), ('Let', 'VB'), ('us', 'PRP'), ('see', 'VB'), ('that', 'IN'), ('the', 'DT'), ('path', 'NN'), ('we', 'PRP'), ('are', 'VBP'), ('traveling', 'VBG'), ('is', 'VBZ'), ('wide', 'JJ'), (',', ','), ('with', 'IN'), ('room', 'NN'), ('in', 'IN'), ('it', 'PRP'), ('for', 'IN'), ('all', 'DT'), ('of', 'IN'), ('us', 'PRP'), (',', ','), ('and', 'CC'), ('that', 'IN'), ('its', 'PRP$'), ('direction', 'NN'), ('is', 'VBZ'), ('toward', 'IN'), ('a', 'DT'), ('better', 'JJR'), ('Nation', 'NN'), ('and', 'CC'), ('a', 'DT'), ('more', 'RBR'), ('peaceful', 'JJ'), ('world', 'NN'), ('.', '.'), ('Never', 'RB'), ('has', 'VBZ'), ('it', 'PRP'), ('mattered', 'VBD'), ('more', 'RBR'), ('that', 'IN'), ('we', 'PRP'), ('go', 'VBP'), ('forward', 'RB'), ('together', 'RB'), ('.', '.'), Tree('NE', [('Look', 'NN')]), ('at', 'IN'), ('this', 'DT'), ('Chamber', 'NNP'), ('.', '.'), ('The', 'DT'), ('leadership', 'NN'), ('of', 'IN'), Tree('NE', [('America', 'NNP')]), ('is', 'VBZ'), ('here', 'RB'), ('today�Xthe', 'JJ'), Tree('NE', [('Supreme', 'NNP'), ('Court', 'NNP')]), (',', ','), ('the', 'DT'), ('Cabinet', 'NNP'), (',', ','), ('the', 'DT'), Tree('NE', [('Senate', 'NNP')]), (',', ','), ('the', 'DT'), Tree('NE', [('House', 'NNP')]), ('of', 'IN'), ('Representatives', 'NNPS'), ('.', '.'), ('Together', 'RB'), (',', ','), ('we', 'PRP'), ('hold', 'VBP'), ('the', 'DT'), ('future', 'NN'), ('of', 'IN'), ('the', 'DT'), ('Nation', 'NNP'), (',', ','), ('and', 'CC'), ('the', 'DT'), ('conscience', 'NN'), ('of', 'IN'), ('the', 'DT'), ('Nation', 'NN'), ('in', 'IN'), ('our', 'PRP$'), ('hands', 'NNS'), ('.', '.'), ('Because', 'IN'), ('this', 'DT'), ('year', 'NN'), ('is', 'VBZ'), ('an', 'DT'), ('election', 'NN'), ('year', 'NN'), (',', ','), ('it', 'PRP'), ('will', 'MD'), ('be', 'VB'), ('a', 'DT'), ('time', 'NN'), ('of', 'IN'), ('great', 'JJ'), ('pressure', 'NN'), ('.', '.'), ('If', 'IN'), ('we', 'PRP'), ('yield', 'VBP'), ('to', 'TO'), ('that', 'DT'), ('pressure', 'NN'), ('and', 'CC'), ('fail', 'NN'), ('to', 'TO'), ('deal', 'VB'), ('seriously', 'RB'), ('with', 'IN'), ('the', 'DT'), ('historic', 'JJ'), ('challenges', 'NNS'), ('that', 'IN'), ('we', 'PRP'), ('face', 'VBP'), (',', ','), ('we', 'PRP'), ('will', 'MD'), ('have', 'VB'), ('failed', 'VBN'), ('that', 'DT'), ('trust', 'NN'), ('of', 'IN'), ('millions', 'NNS'), ('of', 'IN'), ('Americans', 'NNPS'), ('and', 'CC'), ('shaken', 'VB'), ('the', 'DT'), ('confidence', 'NN'), ('they', 'PRP'), ('have', 'VBP'), ('a', 'DT'), ('right', 'NN'), ('to', 'TO'), ('place', 'VB'), ('in', 'IN'), ('us', 'PRP'), (',', ','), ('in', 'IN'), ('their', 'PRP$'), ('Government', 'NN'), ('.', '.'), ('Never', 'RB'), ('has', 'VBZ'), ('a', 'DT'), Tree('NE', [('Congress', 'NNP')]), ('had', 'VBD'), ('a', 'DT'), ('greater', 'JJR'), ('opportunity', 'NN'), ('to', 'TO'), ('leave', 'VB'), ('a', 'DT'), ('legacy', 'NN'), ('of', 'IN'), ('a', 'DT'), ('profound', 'NN'), ('and', 'CC'), ('constructive', 'JJ'), ('reform', 'NN'), ('for', 'IN'), ('the', 'DT'), ('Nation', 'NN'), ('than', 'IN'), ('this', 'DT'), ('Congress', 'NNP'), ('.', '.'), ('If', 'IN'), ('we', 'PRP'), ('succeed', 'VB'), ('in', 'IN'), ('these', 'DT'), ('tasks', 'NNS'), (',', ','), ('there', 'EX'), ('will', 'MD'), ('be', 'VB'), ('credit', 'NN'), ('enough', 'JJ'), ('for', 'IN'), ('all�Xnot', 'NN'), ('only', 'RB'), ('for', 'IN'), ('doing', 'VBG'), ('what', 'WP'), ('is', 'VBZ'), ('right', 'JJ'), (',', ','), ('but', 'CC'), ('doing', 'VBG'), ('it', 'PRP'), ('in', 'IN'), ('the', 'DT'), ('right', 'JJ'), ('way', 'NN'), (',', ','), ('by', 'IN'), ('rising', 'VBG'), ('above', 'IN'), ('partisan', 'JJ'), ('interest', 'NN'), ('to', 'TO'), ('serve', 'VB'), ('the', 'DT'), ('national', 'JJ'), ('interest', 'NN'), ('.', '.'), ('And', 'CC'), ('if', 'IN'), ('we', 'PRP'), ('fail', 'VBP'), (',', ','), ('more', 'JJR'), ('than', 'IN'), ('any', 'DT'), ('one', 'CD'), ('of', 'IN'), ('us', 'PRP'), (',', ','), Tree('NE', [('America', 'NNP')]), ('will', 'MD'), ('be', 'VB'), ('the', 'DT'), ('loser', 'NN'), ('.', '.'), ('That', 'DT'), ('is', 'VBZ'), ('why', 'WRB'), ('my', 'PRP$'), ('call', 'NN'), ('upon', 'IN'), ('the', 'DT'), Tree('NE', [('Congress', 'NNP')]), ('today', 'NN'), ('is', 'VBZ'), ('for', 'IN'), ('a', 'DT'), ('high', 'JJ'), ('statesmanship', 'NN'), (',', ','), ('so', 'IN'), ('that', 'DT'), ('in', 'IN'), ('the', 'DT'), ('years', 'NNS'), ('to', 'TO'), ('come', 'VB'), ('Americans', 'NNPS'), ('will', 'MD'), ('look', 'VB'), ('back', 'RB'), ('and', 'CC'), ('say', 'VBP'), ('because', 'IN'), ('it', 'PRP'), ('withstood', 'VBD'), ('the', 'DT'), ('intense', 'JJ'), ('pressures', 'NNS'), ('of', 'IN'), ('a', 'DT'), ('political', 'JJ'), ('year', 'NN'), (',', ','), ('and', 'CC'), ('achieved', 'VBD'), ('such', 'JJ'), ('great', 'JJ'), ('good', 'NN'), ('for', 'IN'), ('the', 'DT'), Tree('NE', [('American', 'JJ')]), ('people', 'NNS'), ('and', 'CC'), ('for', 'IN'), ('the', 'DT'), ('future', 'NN'), ('of', 'IN'), ('this', 'DT'), ('Nation', 'NN'), (',', ','), ('this', 'DT'), ('was', 'VBD'), ('truly', 'RB'), ('a', 'DT'), ('great', 'JJ'), ('Congress', 'NNP'), ('.', '.'), Tree('NE', [('NOTE', 'NN')]), (':', ':'), ('The', 'DT'), ('President', 'NNP'), ('spoke', 'VBD'), ('at', 'IN'), ('12:34', 'CD'), ('p.m.', 'NN'), ('in', 'IN'), ('the', 'DT'), Tree('NE', [('House', 'NNP')]), ('Chamber', 'NNP'), ('at', 'IN'), ('the', 'DT'), Tree('NE', [('Capitol', 'NNP')]), (',', ','), ('after', 'IN'), ('being', 'VBG'), ('introduced', 'VBN'), ('by', 'IN'), Tree('NE', [('Carl', 'NNP'), ('Albert', 'NNP')]), (',', ','), ('Speaker', 'NNP'), ('of', 'IN'), ('the', 'DT'), Tree('NE', [('House', 'NNP')]), ('of', 'IN'), ('Representatives', 'NNPS'), ('.', '.'), ('The', 'DT'), ('address', 'NN'), ('was', 'VBD'), ('broadcast', 'JJ'), ('live', 'JJ'), ('on', 'IN'), ('radio', 'NN'), ('and', 'CC'), ('television', 'NN'), ('.', '.'), ('The', 'DT'), ('President', 'NNP'), ('spoke', 'VBD'), ('from', 'IN'), ('a', 'DT'), ('prepared', 'JJ'), ('text', 'NN'), ('.', '.'), ('An', 'DT'), ('advance', 'JJ'), ('text', 'NN'), ('of', 'IN'), ('his', 'PRP$'), ('address', 'NN'), ('was', 'VBD'), ('released', 'VBN'), ('on', 'IN'), ('the', 'DT'), ('same', 'JJ'), ('day', 'NN'), ('.', '.')]\n"
          ]
        }
      ]
    },
    {
      "cell_type": "code",
      "metadata": {
        "colab": {
          "base_uri": "https://localhost:8080/"
        },
        "id": "Ws4seb4ShgAE",
        "outputId": "329691ee-ef5f-41d9-8ae9-793a270c8acf"
      },
      "source": [
        "for x in nes.collect():\n",
        "    if str(x).find('NE')>=0:\n",
        "        items = []\n",
        "        for child in x:\n",
        "            items.append(child[0])\n",
        "        print(\" \".join(items))"
      ],
      "execution_count": 38,
      "outputs": [
        {
          "output_type": "stream",
          "name": "stdout",
          "text": [
            "Address\n",
            "Union Delivered\n",
            "Congress\n",
            "Mr. Speaker\n",
            "Mr.\n",
            "Congress\n",
            "Speaker\n",
            "Senate\n",
            "Supreme Court\n",
            "Cabinet\n",
            "United States\n",
            "Truman\n",
            "Congress\n",
            "Marshall Plan\n",
            "Congress\n",
            "Congress\n",
            "Congress\n",
            "Nation\n",
            "Nation\n",
            "America\n",
            "Nation\n",
            "District\n",
            "Columbia\n",
            "America\n",
            "Vietnam\n",
            "Soviet Union\n",
            "Strong\n",
            "America\n",
            "John Kennedy\n",
            "United States\n",
            "China\n",
            "Soviet Union\n",
            "America\n",
            "Industrial\n",
            "Armed Forces\n",
            "Congress\n",
            "European\n",
            "Canada\n",
            "Japan\n",
            "American\n",
            "American\n",
            "America\n",
            "American\n",
            "American\n",
            "American\n",
            "America\n",
            "American\n",
            "American\n",
            "Congress\n",
            "America\n",
            "American\n",
            "Congress\n",
            "Congress\n",
            "Congress\n",
            "America\n",
            "State\n",
            "Treasury\n",
            "Advisory Commission\n",
            "Intergovernmental Relations\n",
            "America\n",
            "Congress\n",
            "American\n",
            "New York Harbor\n",
            "Liberty\n",
            "France\n",
            "United States\n",
            "America\n",
            "America\n",
            "America\n",
            "America\n",
            "America\n",
            "America\n",
            "America\n",
            "America\n",
            "Look\n",
            "America\n",
            "Supreme Court\n",
            "Senate\n",
            "House\n",
            "Congress\n",
            "America\n",
            "Congress\n",
            "American\n",
            "NOTE\n",
            "House\n",
            "Capitol\n",
            "Carl Albert\n",
            "House\n"
          ]
        }
      ]
    }
  ]
}